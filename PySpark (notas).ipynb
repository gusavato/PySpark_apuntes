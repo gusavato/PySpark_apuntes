{
 "cells": [
  {
   "cell_type": "code",
   "execution_count": 1,
   "id": "d428cd4f",
   "metadata": {},
   "outputs": [],
   "source": [
    "import pyspark"
   ]
  },
  {
   "cell_type": "code",
   "execution_count": 2,
   "id": "9d2a6cf9",
   "metadata": {},
   "outputs": [],
   "source": [
    "from pyspark.sql import SparkSession"
   ]
  },
  {
   "cell_type": "code",
   "execution_count": 3,
   "id": "b95e0352",
   "metadata": {},
   "outputs": [],
   "source": [
    "spark = SparkSession.builder.appName('practica').getOrCreate()"
   ]
  },
  {
   "cell_type": "code",
   "execution_count": 4,
   "id": "1d0b41b8",
   "metadata": {},
   "outputs": [
    {
     "data": {
      "text/html": [
       "\n",
       "            <div>\n",
       "                <p><b>SparkSession - in-memory</b></p>\n",
       "                \n",
       "        <div>\n",
       "            <p><b>SparkContext</b></p>\n",
       "\n",
       "            <p><a href=\"http://G-57:4040\">Spark UI</a></p>\n",
       "\n",
       "            <dl>\n",
       "              <dt>Version</dt>\n",
       "                <dd><code>v3.3.2</code></dd>\n",
       "              <dt>Master</dt>\n",
       "                <dd><code>local[*]</code></dd>\n",
       "              <dt>AppName</dt>\n",
       "                <dd><code>practica</code></dd>\n",
       "            </dl>\n",
       "        </div>\n",
       "        \n",
       "            </div>\n",
       "        "
      ],
      "text/plain": [
       "<pyspark.sql.session.SparkSession at 0x275640c9fa0>"
      ]
     },
     "execution_count": 4,
     "metadata": {},
     "output_type": "execute_result"
    }
   ],
   "source": [
    "spark"
   ]
  },
  {
   "cell_type": "markdown",
   "id": "5e2d9f03",
   "metadata": {},
   "source": [
    "# 1. **Introducción**"
   ]
  },
  {
   "cell_type": "code",
   "execution_count": 5,
   "id": "070a3471",
   "metadata": {},
   "outputs": [],
   "source": [
    "df_pyspark = spark.read.csv('Pokemon.csv')"
   ]
  },
  {
   "cell_type": "code",
   "execution_count": 6,
   "id": "40c10e29",
   "metadata": {},
   "outputs": [
    {
     "name": "stdout",
     "output_type": "stream",
     "text": [
      "+---+--------------------+------+------+-----+---+------+-------+-------+-------+-----+----------+---------+\n",
      "|_c0|                 _c1|   _c2|   _c3|  _c4|_c5|   _c6|    _c7|    _c8|    _c9| _c10|      _c11|     _c12|\n",
      "+---+--------------------+------+------+-----+---+------+-------+-------+-------+-----+----------+---------+\n",
      "|  #|                Name|Type 1|Type 2|Total| HP|Attack|Defense|Sp. Atk|Sp. Def|Speed|Generation|Legendary|\n",
      "|  1|           Bulbasaur| Grass|Poison|  318| 45|    49|     49|     65|     65|   45|         1|    False|\n",
      "|  2|             Ivysaur| Grass|Poison|  405| 60|    62|     63|     80|     80|   60|         1|    False|\n",
      "|  3|            Venusaur| Grass|Poison|  525| 80|    82|     83|    100|    100|   80|         1|    False|\n",
      "|  3|VenusaurMega Venu...| Grass|Poison|  625| 80|   100|    123|    122|    120|   80|         1|    False|\n",
      "|  4|          Charmander|  Fire|  null|  309| 39|    52|     43|     60|     50|   65|         1|    False|\n",
      "|  5|          Charmeleon|  Fire|  null|  405| 58|    64|     58|     80|     65|   80|         1|    False|\n",
      "|  6|           Charizard|  Fire|Flying|  534| 78|    84|     78|    109|     85|  100|         1|    False|\n",
      "|  6|CharizardMega Cha...|  Fire|Dragon|  634| 78|   130|    111|    130|     85|  100|         1|    False|\n",
      "|  6|CharizardMega Cha...|  Fire|Flying|  634| 78|   104|     78|    159|    115|  100|         1|    False|\n",
      "|  7|            Squirtle| Water|  null|  314| 44|    48|     65|     50|     64|   43|         1|    False|\n",
      "|  8|           Wartortle| Water|  null|  405| 59|    63|     80|     65|     80|   58|         1|    False|\n",
      "|  9|           Blastoise| Water|  null|  530| 79|    83|    100|     85|    105|   78|         1|    False|\n",
      "|  9|BlastoiseMega Bla...| Water|  null|  630| 79|   103|    120|    135|    115|   78|         1|    False|\n",
      "| 10|            Caterpie|   Bug|  null|  195| 45|    30|     35|     20|     20|   45|         1|    False|\n",
      "| 11|             Metapod|   Bug|  null|  205| 50|    20|     55|     25|     25|   30|         1|    False|\n",
      "| 12|          Butterfree|   Bug|Flying|  395| 60|    45|     50|     90|     80|   70|         1|    False|\n",
      "| 13|              Weedle|   Bug|Poison|  195| 40|    35|     30|     20|     20|   50|         1|    False|\n",
      "| 14|              Kakuna|   Bug|Poison|  205| 45|    25|     50|     25|     25|   35|         1|    False|\n",
      "| 15|            Beedrill|   Bug|Poison|  395| 65|    90|     40|     45|     80|   75|         1|    False|\n",
      "+---+--------------------+------+------+-----+---+------+-------+-------+-------+-----+----------+---------+\n",
      "only showing top 20 rows\n",
      "\n"
     ]
    }
   ],
   "source": [
    " df_pyspark.show()"
   ]
  },
  {
   "cell_type": "markdown",
   "id": "a31054bd",
   "metadata": {},
   "source": [
    "El método option permite añadir un key y un value como string, para agregar opciones de lectura"
   ]
  },
  {
   "cell_type": "code",
   "execution_count": 7,
   "id": "9e998c1d",
   "metadata": {},
   "outputs": [],
   "source": [
    "# Establecemos que la primera línea son los encabezados de las columnas\n",
    "\n",
    "df_pyspark = spark.read.option('header','true').csv('Pokemon.csv')"
   ]
  },
  {
   "cell_type": "code",
   "execution_count": 8,
   "id": "a3c3b6dc",
   "metadata": {},
   "outputs": [
    {
     "name": "stdout",
     "output_type": "stream",
     "text": [
      "+---+--------------------+------+------+-----+---+------+-------+-------+-------+-----+----------+---------+\n",
      "|  #|                Name|Type 1|Type 2|Total| HP|Attack|Defense|Sp. Atk|Sp. Def|Speed|Generation|Legendary|\n",
      "+---+--------------------+------+------+-----+---+------+-------+-------+-------+-----+----------+---------+\n",
      "|  1|           Bulbasaur| Grass|Poison|  318| 45|    49|     49|     65|     65|   45|         1|    False|\n",
      "|  2|             Ivysaur| Grass|Poison|  405| 60|    62|     63|     80|     80|   60|         1|    False|\n",
      "|  3|            Venusaur| Grass|Poison|  525| 80|    82|     83|    100|    100|   80|         1|    False|\n",
      "|  3|VenusaurMega Venu...| Grass|Poison|  625| 80|   100|    123|    122|    120|   80|         1|    False|\n",
      "|  4|          Charmander|  Fire|  null|  309| 39|    52|     43|     60|     50|   65|         1|    False|\n",
      "|  5|          Charmeleon|  Fire|  null|  405| 58|    64|     58|     80|     65|   80|         1|    False|\n",
      "|  6|           Charizard|  Fire|Flying|  534| 78|    84|     78|    109|     85|  100|         1|    False|\n",
      "|  6|CharizardMega Cha...|  Fire|Dragon|  634| 78|   130|    111|    130|     85|  100|         1|    False|\n",
      "|  6|CharizardMega Cha...|  Fire|Flying|  634| 78|   104|     78|    159|    115|  100|         1|    False|\n",
      "|  7|            Squirtle| Water|  null|  314| 44|    48|     65|     50|     64|   43|         1|    False|\n",
      "|  8|           Wartortle| Water|  null|  405| 59|    63|     80|     65|     80|   58|         1|    False|\n",
      "|  9|           Blastoise| Water|  null|  530| 79|    83|    100|     85|    105|   78|         1|    False|\n",
      "|  9|BlastoiseMega Bla...| Water|  null|  630| 79|   103|    120|    135|    115|   78|         1|    False|\n",
      "| 10|            Caterpie|   Bug|  null|  195| 45|    30|     35|     20|     20|   45|         1|    False|\n",
      "| 11|             Metapod|   Bug|  null|  205| 50|    20|     55|     25|     25|   30|         1|    False|\n",
      "| 12|          Butterfree|   Bug|Flying|  395| 60|    45|     50|     90|     80|   70|         1|    False|\n",
      "| 13|              Weedle|   Bug|Poison|  195| 40|    35|     30|     20|     20|   50|         1|    False|\n",
      "| 14|              Kakuna|   Bug|Poison|  205| 45|    25|     50|     25|     25|   35|         1|    False|\n",
      "| 15|            Beedrill|   Bug|Poison|  395| 65|    90|     40|     45|     80|   75|         1|    False|\n",
      "| 15|BeedrillMega Beed...|   Bug|Poison|  495| 65|   150|     40|     15|     80|  145|         1|    False|\n",
      "+---+--------------------+------+------+-----+---+------+-------+-------+-------+-----+----------+---------+\n",
      "only showing top 20 rows\n",
      "\n"
     ]
    }
   ],
   "source": [
    "df_pyspark.show()"
   ]
  },
  {
   "cell_type": "code",
   "execution_count": 9,
   "id": "17f22510",
   "metadata": {},
   "outputs": [
    {
     "data": {
      "text/plain": [
       "pyspark.sql.dataframe.DataFrame"
      ]
     },
     "execution_count": 9,
     "metadata": {},
     "output_type": "execute_result"
    }
   ],
   "source": [
    "type(df_pyspark)"
   ]
  },
  {
   "cell_type": "code",
   "execution_count": 10,
   "id": "cb4738cd",
   "metadata": {},
   "outputs": [
    {
     "data": {
      "text/plain": [
       "Row(#='1', Name='Bulbasaur', Type 1='Grass', Type 2='Poison', Total='318', HP='45', Attack='49', Defense='49', Sp. Atk='65', Sp. Def='65', Speed='45', Generation='1', Legendary='False')"
      ]
     },
     "execution_count": 10,
     "metadata": {},
     "output_type": "execute_result"
    }
   ],
   "source": [
    "# Tenemos métodos parecidos a pandas\n",
    "\n",
    "df_pyspark.head()     # Devuelve primera fila "
   ]
  },
  {
   "cell_type": "code",
   "execution_count": 11,
   "id": "b8befc51",
   "metadata": {},
   "outputs": [
    {
     "data": {
      "text/plain": [
       "[Row(#='1', Name='Bulbasaur', Type 1='Grass', Type 2='Poison', Total='318', HP='45', Attack='49', Defense='49', Sp. Atk='65', Sp. Def='65', Speed='45', Generation='1', Legendary='False'),\n",
       " Row(#='2', Name='Ivysaur', Type 1='Grass', Type 2='Poison', Total='405', HP='60', Attack='62', Defense='63', Sp. Atk='80', Sp. Def='80', Speed='60', Generation='1', Legendary='False'),\n",
       " Row(#='3', Name='Venusaur', Type 1='Grass', Type 2='Poison', Total='525', HP='80', Attack='82', Defense='83', Sp. Atk='100', Sp. Def='100', Speed='80', Generation='1', Legendary='False'),\n",
       " Row(#='3', Name='VenusaurMega Venusaur', Type 1='Grass', Type 2='Poison', Total='625', HP='80', Attack='100', Defense='123', Sp. Atk='122', Sp. Def='120', Speed='80', Generation='1', Legendary='False')]"
      ]
     },
     "execution_count": 11,
     "metadata": {},
     "output_type": "execute_result"
    }
   ],
   "source": [
    "df_pyspark.head(4)"
   ]
  },
  {
   "cell_type": "code",
   "execution_count": 12,
   "id": "86ad963e",
   "metadata": {},
   "outputs": [
    {
     "name": "stdout",
     "output_type": "stream",
     "text": [
      "root\n",
      " |-- #: string (nullable = true)\n",
      " |-- Name: string (nullable = true)\n",
      " |-- Type 1: string (nullable = true)\n",
      " |-- Type 2: string (nullable = true)\n",
      " |-- Total: string (nullable = true)\n",
      " |-- HP: string (nullable = true)\n",
      " |-- Attack: string (nullable = true)\n",
      " |-- Defense: string (nullable = true)\n",
      " |-- Sp. Atk: string (nullable = true)\n",
      " |-- Sp. Def: string (nullable = true)\n",
      " |-- Speed: string (nullable = true)\n",
      " |-- Generation: string (nullable = true)\n",
      " |-- Legendary: string (nullable = true)\n",
      "\n"
     ]
    }
   ],
   "source": [
    "# Similar a info() de pandas. Información de los tipos de las columnas\n",
    "\n",
    "df_pyspark.printSchema()"
   ]
  },
  {
   "cell_type": "markdown",
   "id": "8ba15e66",
   "metadata": {},
   "source": [
    "# 2. **Manejo Dataframes**"
   ]
  },
  {
   "cell_type": "markdown",
   "id": "68e0d2e1",
   "metadata": {},
   "source": [
    "Observamos que el tipo de dato es todo string, cuando muchos de ellos son int. Esto es debido a que por defecto PySpark establece como string todos los tipos"
   ]
  },
  {
   "cell_type": "code",
   "execution_count": 13,
   "id": "f214e8b6",
   "metadata": {},
   "outputs": [
    {
     "name": "stdout",
     "output_type": "stream",
     "text": [
      "root\n",
      " |-- #: string (nullable = true)\n",
      " |-- Name: string (nullable = true)\n",
      " |-- Type 1: string (nullable = true)\n",
      " |-- Type 2: string (nullable = true)\n",
      " |-- Total: string (nullable = true)\n",
      " |-- HP: string (nullable = true)\n",
      " |-- Attack: string (nullable = true)\n",
      " |-- Defense: string (nullable = true)\n",
      " |-- Sp. Atk: string (nullable = true)\n",
      " |-- Sp. Def: string (nullable = true)\n",
      " |-- Speed: string (nullable = true)\n",
      " |-- Generation: string (nullable = true)\n",
      " |-- Legendary: string (nullable = true)\n",
      "\n"
     ]
    }
   ],
   "source": [
    "df_pyspark.printSchema()"
   ]
  },
  {
   "cell_type": "markdown",
   "id": "51224817",
   "metadata": {},
   "source": [
    "Se soluciona con el parámetro *inferSchema*, del método *csv*"
   ]
  },
  {
   "cell_type": "code",
   "execution_count": 14,
   "id": "9353132b",
   "metadata": {},
   "outputs": [
    {
     "name": "stdout",
     "output_type": "stream",
     "text": [
      "root\n",
      " |-- #: integer (nullable = true)\n",
      " |-- Name: string (nullable = true)\n",
      " |-- Type 1: string (nullable = true)\n",
      " |-- Type 2: string (nullable = true)\n",
      " |-- Total: integer (nullable = true)\n",
      " |-- HP: integer (nullable = true)\n",
      " |-- Attack: integer (nullable = true)\n",
      " |-- Defense: integer (nullable = true)\n",
      " |-- Sp. Atk: integer (nullable = true)\n",
      " |-- Sp. Def: integer (nullable = true)\n",
      " |-- Speed: integer (nullable = true)\n",
      " |-- Generation: integer (nullable = true)\n",
      " |-- Legendary: boolean (nullable = true)\n",
      "\n"
     ]
    }
   ],
   "source": [
    "df_pyspark = spark.read.option('header','true').csv('Pokemon.csv',inferSchema=True)\n",
    "df_pyspark.printSchema()"
   ]
  },
  {
   "cell_type": "markdown",
   "id": "9574e87b",
   "metadata": {},
   "source": [
    "La etiqueta nullable significa que la columna puede albergar nulos (que sea True no significa que tenga nulos, si no que puede tenerlos)"
   ]
  },
  {
   "cell_type": "markdown",
   "id": "95057da5",
   "metadata": {},
   "source": [
    "Otra forma de hacerlo"
   ]
  },
  {
   "cell_type": "code",
   "execution_count": 15,
   "id": "2b6501b2",
   "metadata": {},
   "outputs": [
    {
     "name": "stdout",
     "output_type": "stream",
     "text": [
      "root\n",
      " |-- #: integer (nullable = true)\n",
      " |-- Name: string (nullable = true)\n",
      " |-- Type 1: string (nullable = true)\n",
      " |-- Type 2: string (nullable = true)\n",
      " |-- Total: integer (nullable = true)\n",
      " |-- HP: integer (nullable = true)\n",
      " |-- Attack: integer (nullable = true)\n",
      " |-- Defense: integer (nullable = true)\n",
      " |-- Sp. Atk: integer (nullable = true)\n",
      " |-- Sp. Def: integer (nullable = true)\n",
      " |-- Speed: integer (nullable = true)\n",
      " |-- Generation: integer (nullable = true)\n",
      " |-- Legendary: boolean (nullable = true)\n",
      "\n"
     ]
    }
   ],
   "source": [
    "df_pyspark = spark.read.csv('Pokemon.csv',inferSchema=True,header=True)\n",
    "df_pyspark.printSchema()"
   ]
  },
  {
   "cell_type": "code",
   "execution_count": 16,
   "id": "68b00195",
   "metadata": {},
   "outputs": [
    {
     "name": "stdout",
     "output_type": "stream",
     "text": [
      "+---+--------------------+------+------+-----+---+------+-------+-------+-------+-----+----------+---------+\n",
      "|  #|                Name|Type 1|Type 2|Total| HP|Attack|Defense|Sp. Atk|Sp. Def|Speed|Generation|Legendary|\n",
      "+---+--------------------+------+------+-----+---+------+-------+-------+-------+-----+----------+---------+\n",
      "|  1|           Bulbasaur| Grass|Poison|  318| 45|    49|     49|     65|     65|   45|         1|    false|\n",
      "|  2|             Ivysaur| Grass|Poison|  405| 60|    62|     63|     80|     80|   60|         1|    false|\n",
      "|  3|            Venusaur| Grass|Poison|  525| 80|    82|     83|    100|    100|   80|         1|    false|\n",
      "|  3|VenusaurMega Venu...| Grass|Poison|  625| 80|   100|    123|    122|    120|   80|         1|    false|\n",
      "|  4|          Charmander|  Fire|  null|  309| 39|    52|     43|     60|     50|   65|         1|    false|\n",
      "|  5|          Charmeleon|  Fire|  null|  405| 58|    64|     58|     80|     65|   80|         1|    false|\n",
      "|  6|           Charizard|  Fire|Flying|  534| 78|    84|     78|    109|     85|  100|         1|    false|\n",
      "|  6|CharizardMega Cha...|  Fire|Dragon|  634| 78|   130|    111|    130|     85|  100|         1|    false|\n",
      "|  6|CharizardMega Cha...|  Fire|Flying|  634| 78|   104|     78|    159|    115|  100|         1|    false|\n",
      "|  7|            Squirtle| Water|  null|  314| 44|    48|     65|     50|     64|   43|         1|    false|\n",
      "|  8|           Wartortle| Water|  null|  405| 59|    63|     80|     65|     80|   58|         1|    false|\n",
      "|  9|           Blastoise| Water|  null|  530| 79|    83|    100|     85|    105|   78|         1|    false|\n",
      "|  9|BlastoiseMega Bla...| Water|  null|  630| 79|   103|    120|    135|    115|   78|         1|    false|\n",
      "| 10|            Caterpie|   Bug|  null|  195| 45|    30|     35|     20|     20|   45|         1|    false|\n",
      "| 11|             Metapod|   Bug|  null|  205| 50|    20|     55|     25|     25|   30|         1|    false|\n",
      "| 12|          Butterfree|   Bug|Flying|  395| 60|    45|     50|     90|     80|   70|         1|    false|\n",
      "| 13|              Weedle|   Bug|Poison|  195| 40|    35|     30|     20|     20|   50|         1|    false|\n",
      "| 14|              Kakuna|   Bug|Poison|  205| 45|    25|     50|     25|     25|   35|         1|    false|\n",
      "| 15|            Beedrill|   Bug|Poison|  395| 65|    90|     40|     45|     80|   75|         1|    false|\n",
      "| 15|BeedrillMega Beed...|   Bug|Poison|  495| 65|   150|     40|     15|     80|  145|         1|    false|\n",
      "+---+--------------------+------+------+-----+---+------+-------+-------+-------+-----+----------+---------+\n",
      "only showing top 20 rows\n",
      "\n"
     ]
    }
   ],
   "source": [
    "df_pyspark.show()"
   ]
  },
  {
   "cell_type": "code",
   "execution_count": 17,
   "id": "886cdf22",
   "metadata": {},
   "outputs": [
    {
     "data": {
      "text/plain": [
       "pyspark.sql.dataframe.DataFrame"
      ]
     },
     "execution_count": 17,
     "metadata": {},
     "output_type": "execute_result"
    }
   ],
   "source": [
    "type(df_pyspark)"
   ]
  },
  {
   "cell_type": "markdown",
   "id": "6ae3d0a4",
   "metadata": {},
   "source": [
    "Obtener nombre de columnas, y seleccionar columnas"
   ]
  },
  {
   "cell_type": "code",
   "execution_count": 18,
   "id": "54af9da5",
   "metadata": {},
   "outputs": [
    {
     "data": {
      "text/plain": [
       "['#',\n",
       " 'Name',\n",
       " 'Type 1',\n",
       " 'Type 2',\n",
       " 'Total',\n",
       " 'HP',\n",
       " 'Attack',\n",
       " 'Defense',\n",
       " 'Sp. Atk',\n",
       " 'Sp. Def',\n",
       " 'Speed',\n",
       " 'Generation',\n",
       " 'Legendary']"
      ]
     },
     "execution_count": 18,
     "metadata": {},
     "output_type": "execute_result"
    }
   ],
   "source": [
    "df_pyspark.columns"
   ]
  },
  {
   "cell_type": "code",
   "execution_count": 19,
   "id": "3426f8e3",
   "metadata": {},
   "outputs": [
    {
     "data": {
      "text/plain": [
       "DataFrame[Name: string]"
      ]
     },
     "execution_count": 19,
     "metadata": {},
     "output_type": "execute_result"
    }
   ],
   "source": [
    "# Me devulve un dataframe\n",
    "\n",
    "df_pyspark.select('Name')"
   ]
  },
  {
   "cell_type": "code",
   "execution_count": 20,
   "id": "9e6d5a6b",
   "metadata": {},
   "outputs": [
    {
     "name": "stdout",
     "output_type": "stream",
     "text": [
      "+--------------------+\n",
      "|                Name|\n",
      "+--------------------+\n",
      "|           Bulbasaur|\n",
      "|             Ivysaur|\n",
      "|            Venusaur|\n",
      "|VenusaurMega Venu...|\n",
      "|          Charmander|\n",
      "|          Charmeleon|\n",
      "|           Charizard|\n",
      "|CharizardMega Cha...|\n",
      "|CharizardMega Cha...|\n",
      "|            Squirtle|\n",
      "|           Wartortle|\n",
      "|           Blastoise|\n",
      "|BlastoiseMega Bla...|\n",
      "|            Caterpie|\n",
      "|             Metapod|\n",
      "|          Butterfree|\n",
      "|              Weedle|\n",
      "|              Kakuna|\n",
      "|            Beedrill|\n",
      "|BeedrillMega Beed...|\n",
      "+--------------------+\n",
      "only showing top 20 rows\n",
      "\n"
     ]
    }
   ],
   "source": [
    "df_pyspark.select('Name').show()"
   ]
  },
  {
   "cell_type": "code",
   "execution_count": 21,
   "id": "b273bbd7",
   "metadata": {},
   "outputs": [
    {
     "name": "stdout",
     "output_type": "stream",
     "text": [
      "+--------------------+------+-----+\n",
      "|                Name|Type 1|Total|\n",
      "+--------------------+------+-----+\n",
      "|           Bulbasaur| Grass|  318|\n",
      "|             Ivysaur| Grass|  405|\n",
      "|            Venusaur| Grass|  525|\n",
      "|VenusaurMega Venu...| Grass|  625|\n",
      "|          Charmander|  Fire|  309|\n",
      "|          Charmeleon|  Fire|  405|\n",
      "|           Charizard|  Fire|  534|\n",
      "|CharizardMega Cha...|  Fire|  634|\n",
      "|CharizardMega Cha...|  Fire|  634|\n",
      "|            Squirtle| Water|  314|\n",
      "|           Wartortle| Water|  405|\n",
      "|           Blastoise| Water|  530|\n",
      "|BlastoiseMega Bla...| Water|  630|\n",
      "|            Caterpie|   Bug|  195|\n",
      "|             Metapod|   Bug|  205|\n",
      "|          Butterfree|   Bug|  395|\n",
      "|              Weedle|   Bug|  195|\n",
      "|              Kakuna|   Bug|  205|\n",
      "|            Beedrill|   Bug|  395|\n",
      "|BeedrillMega Beed...|   Bug|  495|\n",
      "+--------------------+------+-----+\n",
      "only showing top 20 rows\n",
      "\n"
     ]
    }
   ],
   "source": [
    "# Selección de múltiples columnas\n",
    "\n",
    "df_pyspark.select(['Name','Type 1','Total']).show()"
   ]
  },
  {
   "cell_type": "markdown",
   "id": "d0d45e3d",
   "metadata": {},
   "source": [
    "**IMPORTANTE:** En PySpark no funciona el slicing"
   ]
  },
  {
   "cell_type": "code",
   "execution_count": 22,
   "id": "6565b5f7",
   "metadata": {},
   "outputs": [
    {
     "data": {
      "text/plain": [
       "Column<'Name'>"
      ]
     },
     "execution_count": 22,
     "metadata": {},
     "output_type": "execute_result"
    }
   ],
   "source": [
    "df_pyspark['Name']"
   ]
  },
  {
   "cell_type": "markdown",
   "id": "eb1fb83a",
   "metadata": {},
   "source": [
    "Chequear los tipos de dato"
   ]
  },
  {
   "cell_type": "code",
   "execution_count": 23,
   "id": "2de22be6",
   "metadata": {},
   "outputs": [
    {
     "data": {
      "text/plain": [
       "[('#', 'int'),\n",
       " ('Name', 'string'),\n",
       " ('Type 1', 'string'),\n",
       " ('Type 2', 'string'),\n",
       " ('Total', 'int'),\n",
       " ('HP', 'int'),\n",
       " ('Attack', 'int'),\n",
       " ('Defense', 'int'),\n",
       " ('Sp. Atk', 'int'),\n",
       " ('Sp. Def', 'int'),\n",
       " ('Speed', 'int'),\n",
       " ('Generation', 'int'),\n",
       " ('Legendary', 'boolean')]"
      ]
     },
     "execution_count": 23,
     "metadata": {},
     "output_type": "execute_result"
    }
   ],
   "source": [
    "# Devuelve lista de tuplas\n",
    "\n",
    "df_pyspark.dtypes"
   ]
  },
  {
   "cell_type": "markdown",
   "id": "709c89f3",
   "metadata": {},
   "source": [
    "Describe"
   ]
  },
  {
   "cell_type": "code",
   "execution_count": 24,
   "id": "fe8e5ff1",
   "metadata": {},
   "outputs": [
    {
     "name": "stdout",
     "output_type": "stream",
     "text": [
      "+-------+------------------+----------------+------+------+------------------+------------------+-----------------+------------------+----------------+-----------------+------------------+------------------+\n",
      "|summary|                 #|            Name|Type 1|Type 2|             Total|                HP|           Attack|           Defense|         Sp. Atk|          Sp. Def|             Speed|        Generation|\n",
      "+-------+------------------+----------------+------+------+------------------+------------------+-----------------+------------------+----------------+-----------------+------------------+------------------+\n",
      "|  count|               800|             800|   800|   414|               800|               800|              800|               800|             800|              800|               800|               800|\n",
      "|   mean|         362.81375|            null|  null|  null|          435.1025|          69.25875|         79.00125|           73.8425|           72.82|          71.9025|           68.2775|           3.32375|\n",
      "| stddev|208.34379756406656|            null|  null|  null|119.96303975551908|25.534669032332076|32.45736586949845|31.183500559332924|32.7222941688016|27.82891579711746|29.060473717161447|1.6612904004849451|\n",
      "|    min|                 1|       Abomasnow|   Bug|   Bug|               180|                 1|                5|                 5|              10|               20|                 5|                 1|\n",
      "|    max|               721|Zygarde50% Forme| Water| Water|               780|               255|              190|               230|             194|              230|               180|                 6|\n",
      "+-------+------------------+----------------+------+------+------------------+------------------+-----------------+------------------+----------------+-----------------+------------------+------------------+\n",
      "\n"
     ]
    }
   ],
   "source": [
    "# Mexzcla object y no object\n",
    "\n",
    "df_pyspark.describe().show()"
   ]
  },
  {
   "cell_type": "markdown",
   "id": "7b97cac1",
   "metadata": {},
   "source": [
    "Añadir y eliminar columnas de un dataframe"
   ]
  },
  {
   "cell_type": "markdown",
   "id": "793c0d83",
   "metadata": {},
   "source": [
    "Se añaden con el método del dataframe *withcolumn* que nos permite editar columnas. Introducimos los parámetros:\n",
    "- **col_name** : Nombre de la nueva columna\n",
    "- **col** : Expresión para el valor de la nueva columna\n",
    "\n",
    "**NOTA:** No es un método permanente, genera una copia del dataframe con la nueva columna."
   ]
  },
  {
   "cell_type": "code",
   "execution_count": 25,
   "id": "ffbf13a2",
   "metadata": {},
   "outputs": [
    {
     "name": "stdout",
     "output_type": "stream",
     "text": [
      "+---+--------------------+------+------+-----+---+------+-------+-------+-------+-----+----------+---------+-----------+\n",
      "|  #|                Name|Type 1|Type 2|Total| HP|Attack|Defense|Sp. Atk|Sp. Def|Speed|Generation|Legendary|Total + 100|\n",
      "+---+--------------------+------+------+-----+---+------+-------+-------+-------+-----+----------+---------+-----------+\n",
      "|  1|           Bulbasaur| Grass|Poison|  318| 45|    49|     49|     65|     65|   45|         1|    false|        418|\n",
      "|  2|             Ivysaur| Grass|Poison|  405| 60|    62|     63|     80|     80|   60|         1|    false|        505|\n",
      "|  3|            Venusaur| Grass|Poison|  525| 80|    82|     83|    100|    100|   80|         1|    false|        625|\n",
      "|  3|VenusaurMega Venu...| Grass|Poison|  625| 80|   100|    123|    122|    120|   80|         1|    false|        725|\n",
      "|  4|          Charmander|  Fire|  null|  309| 39|    52|     43|     60|     50|   65|         1|    false|        409|\n",
      "|  5|          Charmeleon|  Fire|  null|  405| 58|    64|     58|     80|     65|   80|         1|    false|        505|\n",
      "|  6|           Charizard|  Fire|Flying|  534| 78|    84|     78|    109|     85|  100|         1|    false|        634|\n",
      "|  6|CharizardMega Cha...|  Fire|Dragon|  634| 78|   130|    111|    130|     85|  100|         1|    false|        734|\n",
      "|  6|CharizardMega Cha...|  Fire|Flying|  634| 78|   104|     78|    159|    115|  100|         1|    false|        734|\n",
      "|  7|            Squirtle| Water|  null|  314| 44|    48|     65|     50|     64|   43|         1|    false|        414|\n",
      "|  8|           Wartortle| Water|  null|  405| 59|    63|     80|     65|     80|   58|         1|    false|        505|\n",
      "|  9|           Blastoise| Water|  null|  530| 79|    83|    100|     85|    105|   78|         1|    false|        630|\n",
      "|  9|BlastoiseMega Bla...| Water|  null|  630| 79|   103|    120|    135|    115|   78|         1|    false|        730|\n",
      "| 10|            Caterpie|   Bug|  null|  195| 45|    30|     35|     20|     20|   45|         1|    false|        295|\n",
      "| 11|             Metapod|   Bug|  null|  205| 50|    20|     55|     25|     25|   30|         1|    false|        305|\n",
      "| 12|          Butterfree|   Bug|Flying|  395| 60|    45|     50|     90|     80|   70|         1|    false|        495|\n",
      "| 13|              Weedle|   Bug|Poison|  195| 40|    35|     30|     20|     20|   50|         1|    false|        295|\n",
      "| 14|              Kakuna|   Bug|Poison|  205| 45|    25|     50|     25|     25|   35|         1|    false|        305|\n",
      "| 15|            Beedrill|   Bug|Poison|  395| 65|    90|     40|     45|     80|   75|         1|    false|        495|\n",
      "| 15|BeedrillMega Beed...|   Bug|Poison|  495| 65|   150|     40|     15|     80|  145|         1|    false|        595|\n",
      "+---+--------------------+------+------+-----+---+------+-------+-------+-------+-----+----------+---------+-----------+\n",
      "only showing top 20 rows\n",
      "\n"
     ]
    }
   ],
   "source": [
    "df_pyspark.withColumn('Total + 100', df_pyspark['Total'] + 100 ).show()"
   ]
  },
  {
   "cell_type": "code",
   "execution_count": 26,
   "id": "8a22058d",
   "metadata": {},
   "outputs": [
    {
     "name": "stdout",
     "output_type": "stream",
     "text": [
      "+---+--------------------+------+------+-----+---+------+-------+-------+-------+-----+----------+---------+\n",
      "|  #|                Name|Type 1|Type 2|Total| HP|Attack|Defense|Sp. Atk|Sp. Def|Speed|Generation|Legendary|\n",
      "+---+--------------------+------+------+-----+---+------+-------+-------+-------+-----+----------+---------+\n",
      "|  1|           Bulbasaur| Grass|Poison|  318| 45|    49|     49|     65|     65|   45|         1|    false|\n",
      "|  2|             Ivysaur| Grass|Poison|  405| 60|    62|     63|     80|     80|   60|         1|    false|\n",
      "|  3|            Venusaur| Grass|Poison|  525| 80|    82|     83|    100|    100|   80|         1|    false|\n",
      "|  3|VenusaurMega Venu...| Grass|Poison|  625| 80|   100|    123|    122|    120|   80|         1|    false|\n",
      "|  4|          Charmander|  Fire|  null|  309| 39|    52|     43|     60|     50|   65|         1|    false|\n",
      "|  5|          Charmeleon|  Fire|  null|  405| 58|    64|     58|     80|     65|   80|         1|    false|\n",
      "|  6|           Charizard|  Fire|Flying|  534| 78|    84|     78|    109|     85|  100|         1|    false|\n",
      "|  6|CharizardMega Cha...|  Fire|Dragon|  634| 78|   130|    111|    130|     85|  100|         1|    false|\n",
      "|  6|CharizardMega Cha...|  Fire|Flying|  634| 78|   104|     78|    159|    115|  100|         1|    false|\n",
      "|  7|            Squirtle| Water|  null|  314| 44|    48|     65|     50|     64|   43|         1|    false|\n",
      "|  8|           Wartortle| Water|  null|  405| 59|    63|     80|     65|     80|   58|         1|    false|\n",
      "|  9|           Blastoise| Water|  null|  530| 79|    83|    100|     85|    105|   78|         1|    false|\n",
      "|  9|BlastoiseMega Bla...| Water|  null|  630| 79|   103|    120|    135|    115|   78|         1|    false|\n",
      "| 10|            Caterpie|   Bug|  null|  195| 45|    30|     35|     20|     20|   45|         1|    false|\n",
      "| 11|             Metapod|   Bug|  null|  205| 50|    20|     55|     25|     25|   30|         1|    false|\n",
      "| 12|          Butterfree|   Bug|Flying|  395| 60|    45|     50|     90|     80|   70|         1|    false|\n",
      "| 13|              Weedle|   Bug|Poison|  195| 40|    35|     30|     20|     20|   50|         1|    false|\n",
      "| 14|              Kakuna|   Bug|Poison|  205| 45|    25|     50|     25|     25|   35|         1|    false|\n",
      "| 15|            Beedrill|   Bug|Poison|  395| 65|    90|     40|     45|     80|   75|         1|    false|\n",
      "| 15|BeedrillMega Beed...|   Bug|Poison|  495| 65|   150|     40|     15|     80|  145|         1|    false|\n",
      "+---+--------------------+------+------+-----+---+------+-------+-------+-------+-----+----------+---------+\n",
      "only showing top 20 rows\n",
      "\n"
     ]
    }
   ],
   "source": [
    "# NO figura la nueva columna\n",
    "\n",
    "df_pyspark.show()"
   ]
  },
  {
   "cell_type": "code",
   "execution_count": 27,
   "id": "a303032f",
   "metadata": {},
   "outputs": [
    {
     "name": "stdout",
     "output_type": "stream",
     "text": [
      "+---+--------------------+------+------+-----+---+------+-------+-------+-------+-----+----------+---------+-----------+\n",
      "|  #|                Name|Type 1|Type 2|Total| HP|Attack|Defense|Sp. Atk|Sp. Def|Speed|Generation|Legendary|Total + 100|\n",
      "+---+--------------------+------+------+-----+---+------+-------+-------+-------+-----+----------+---------+-----------+\n",
      "|  1|           Bulbasaur| Grass|Poison|  318| 45|    49|     49|     65|     65|   45|         1|    false|        418|\n",
      "|  2|             Ivysaur| Grass|Poison|  405| 60|    62|     63|     80|     80|   60|         1|    false|        505|\n",
      "|  3|            Venusaur| Grass|Poison|  525| 80|    82|     83|    100|    100|   80|         1|    false|        625|\n",
      "|  3|VenusaurMega Venu...| Grass|Poison|  625| 80|   100|    123|    122|    120|   80|         1|    false|        725|\n",
      "|  4|          Charmander|  Fire|  null|  309| 39|    52|     43|     60|     50|   65|         1|    false|        409|\n",
      "|  5|          Charmeleon|  Fire|  null|  405| 58|    64|     58|     80|     65|   80|         1|    false|        505|\n",
      "|  6|           Charizard|  Fire|Flying|  534| 78|    84|     78|    109|     85|  100|         1|    false|        634|\n",
      "|  6|CharizardMega Cha...|  Fire|Dragon|  634| 78|   130|    111|    130|     85|  100|         1|    false|        734|\n",
      "|  6|CharizardMega Cha...|  Fire|Flying|  634| 78|   104|     78|    159|    115|  100|         1|    false|        734|\n",
      "|  7|            Squirtle| Water|  null|  314| 44|    48|     65|     50|     64|   43|         1|    false|        414|\n",
      "|  8|           Wartortle| Water|  null|  405| 59|    63|     80|     65|     80|   58|         1|    false|        505|\n",
      "|  9|           Blastoise| Water|  null|  530| 79|    83|    100|     85|    105|   78|         1|    false|        630|\n",
      "|  9|BlastoiseMega Bla...| Water|  null|  630| 79|   103|    120|    135|    115|   78|         1|    false|        730|\n",
      "| 10|            Caterpie|   Bug|  null|  195| 45|    30|     35|     20|     20|   45|         1|    false|        295|\n",
      "| 11|             Metapod|   Bug|  null|  205| 50|    20|     55|     25|     25|   30|         1|    false|        305|\n",
      "| 12|          Butterfree|   Bug|Flying|  395| 60|    45|     50|     90|     80|   70|         1|    false|        495|\n",
      "| 13|              Weedle|   Bug|Poison|  195| 40|    35|     30|     20|     20|   50|         1|    false|        295|\n",
      "| 14|              Kakuna|   Bug|Poison|  205| 45|    25|     50|     25|     25|   35|         1|    false|        305|\n",
      "| 15|            Beedrill|   Bug|Poison|  395| 65|    90|     40|     45|     80|   75|         1|    false|        495|\n",
      "| 15|BeedrillMega Beed...|   Bug|Poison|  495| 65|   150|     40|     15|     80|  145|         1|    false|        595|\n",
      "+---+--------------------+------+------+-----+---+------+-------+-------+-------+-----+----------+---------+-----------+\n",
      "only showing top 20 rows\n",
      "\n"
     ]
    }
   ],
   "source": [
    "df_pyspark = df_pyspark.withColumn('Total + 100', df_pyspark['Total'] + 100 )\n",
    "df_pyspark.show()"
   ]
  },
  {
   "cell_type": "markdown",
   "id": "1bd0d66e",
   "metadata": {},
   "source": [
    "Eliminar columnas"
   ]
  },
  {
   "cell_type": "code",
   "execution_count": 28,
   "id": "e1b3937a",
   "metadata": {},
   "outputs": [
    {
     "name": "stdout",
     "output_type": "stream",
     "text": [
      "+---+--------------------+------+------+-----+---+------+-------+-------+-------+-----+----------+---------+\n",
      "|  #|                Name|Type 1|Type 2|Total| HP|Attack|Defense|Sp. Atk|Sp. Def|Speed|Generation|Legendary|\n",
      "+---+--------------------+------+------+-----+---+------+-------+-------+-------+-----+----------+---------+\n",
      "|  1|           Bulbasaur| Grass|Poison|  318| 45|    49|     49|     65|     65|   45|         1|    false|\n",
      "|  2|             Ivysaur| Grass|Poison|  405| 60|    62|     63|     80|     80|   60|         1|    false|\n",
      "|  3|            Venusaur| Grass|Poison|  525| 80|    82|     83|    100|    100|   80|         1|    false|\n",
      "|  3|VenusaurMega Venu...| Grass|Poison|  625| 80|   100|    123|    122|    120|   80|         1|    false|\n",
      "|  4|          Charmander|  Fire|  null|  309| 39|    52|     43|     60|     50|   65|         1|    false|\n",
      "|  5|          Charmeleon|  Fire|  null|  405| 58|    64|     58|     80|     65|   80|         1|    false|\n",
      "|  6|           Charizard|  Fire|Flying|  534| 78|    84|     78|    109|     85|  100|         1|    false|\n",
      "|  6|CharizardMega Cha...|  Fire|Dragon|  634| 78|   130|    111|    130|     85|  100|         1|    false|\n",
      "|  6|CharizardMega Cha...|  Fire|Flying|  634| 78|   104|     78|    159|    115|  100|         1|    false|\n",
      "|  7|            Squirtle| Water|  null|  314| 44|    48|     65|     50|     64|   43|         1|    false|\n",
      "|  8|           Wartortle| Water|  null|  405| 59|    63|     80|     65|     80|   58|         1|    false|\n",
      "|  9|           Blastoise| Water|  null|  530| 79|    83|    100|     85|    105|   78|         1|    false|\n",
      "|  9|BlastoiseMega Bla...| Water|  null|  630| 79|   103|    120|    135|    115|   78|         1|    false|\n",
      "| 10|            Caterpie|   Bug|  null|  195| 45|    30|     35|     20|     20|   45|         1|    false|\n",
      "| 11|             Metapod|   Bug|  null|  205| 50|    20|     55|     25|     25|   30|         1|    false|\n",
      "| 12|          Butterfree|   Bug|Flying|  395| 60|    45|     50|     90|     80|   70|         1|    false|\n",
      "| 13|              Weedle|   Bug|Poison|  195| 40|    35|     30|     20|     20|   50|         1|    false|\n",
      "| 14|              Kakuna|   Bug|Poison|  205| 45|    25|     50|     25|     25|   35|         1|    false|\n",
      "| 15|            Beedrill|   Bug|Poison|  395| 65|    90|     40|     45|     80|   75|         1|    false|\n",
      "| 15|BeedrillMega Beed...|   Bug|Poison|  495| 65|   150|     40|     15|     80|  145|         1|    false|\n",
      "+---+--------------------+------+------+-----+---+------+-------+-------+-------+-----+----------+---------+\n",
      "only showing top 20 rows\n",
      "\n"
     ]
    }
   ],
   "source": [
    "df_pyspark.drop('Total + 100').show()"
   ]
  },
  {
   "cell_type": "code",
   "execution_count": 29,
   "id": "1bf5a9b9",
   "metadata": {},
   "outputs": [],
   "source": [
    "# Debemos asignar de nuevo la variable para qué sea permanente\n",
    "df_pyspark = df_pyspark.drop('Total + 100')"
   ]
  },
  {
   "cell_type": "code",
   "execution_count": 30,
   "id": "4ad21aff",
   "metadata": {},
   "outputs": [
    {
     "name": "stdout",
     "output_type": "stream",
     "text": [
      "+---+--------------------+------+------+-----+---+------+-------+-------+-------+-----+----------+---------+\n",
      "|  #|                Name|Type 1|Type 2|Total| HP|Attack|Defense|Sp. Atk|Sp. Def|Speed|Generation|Legendary|\n",
      "+---+--------------------+------+------+-----+---+------+-------+-------+-------+-----+----------+---------+\n",
      "|  1|           Bulbasaur| Grass|Poison|  318| 45|    49|     49|     65|     65|   45|         1|    false|\n",
      "|  2|             Ivysaur| Grass|Poison|  405| 60|    62|     63|     80|     80|   60|         1|    false|\n",
      "|  3|            Venusaur| Grass|Poison|  525| 80|    82|     83|    100|    100|   80|         1|    false|\n",
      "|  3|VenusaurMega Venu...| Grass|Poison|  625| 80|   100|    123|    122|    120|   80|         1|    false|\n",
      "|  4|          Charmander|  Fire|  null|  309| 39|    52|     43|     60|     50|   65|         1|    false|\n",
      "|  5|          Charmeleon|  Fire|  null|  405| 58|    64|     58|     80|     65|   80|         1|    false|\n",
      "|  6|           Charizard|  Fire|Flying|  534| 78|    84|     78|    109|     85|  100|         1|    false|\n",
      "|  6|CharizardMega Cha...|  Fire|Dragon|  634| 78|   130|    111|    130|     85|  100|         1|    false|\n",
      "|  6|CharizardMega Cha...|  Fire|Flying|  634| 78|   104|     78|    159|    115|  100|         1|    false|\n",
      "|  7|            Squirtle| Water|  null|  314| 44|    48|     65|     50|     64|   43|         1|    false|\n",
      "|  8|           Wartortle| Water|  null|  405| 59|    63|     80|     65|     80|   58|         1|    false|\n",
      "|  9|           Blastoise| Water|  null|  530| 79|    83|    100|     85|    105|   78|         1|    false|\n",
      "|  9|BlastoiseMega Bla...| Water|  null|  630| 79|   103|    120|    135|    115|   78|         1|    false|\n",
      "| 10|            Caterpie|   Bug|  null|  195| 45|    30|     35|     20|     20|   45|         1|    false|\n",
      "| 11|             Metapod|   Bug|  null|  205| 50|    20|     55|     25|     25|   30|         1|    false|\n",
      "| 12|          Butterfree|   Bug|Flying|  395| 60|    45|     50|     90|     80|   70|         1|    false|\n",
      "| 13|              Weedle|   Bug|Poison|  195| 40|    35|     30|     20|     20|   50|         1|    false|\n",
      "| 14|              Kakuna|   Bug|Poison|  205| 45|    25|     50|     25|     25|   35|         1|    false|\n",
      "| 15|            Beedrill|   Bug|Poison|  395| 65|    90|     40|     45|     80|   75|         1|    false|\n",
      "| 15|BeedrillMega Beed...|   Bug|Poison|  495| 65|   150|     40|     15|     80|  145|         1|    false|\n",
      "+---+--------------------+------+------+-----+---+------+-------+-------+-------+-----+----------+---------+\n",
      "only showing top 20 rows\n",
      "\n"
     ]
    }
   ],
   "source": [
    "df_pyspark.show()"
   ]
  },
  {
   "cell_type": "markdown",
   "id": "974dfb65",
   "metadata": {},
   "source": [
    "Renombrar columnas"
   ]
  },
  {
   "cell_type": "markdown",
   "id": "5b7bd8e4",
   "metadata": {},
   "source": [
    "Se usa el método withColumnRenamed(), donde indicamos el valor del nombre de la columna, y el nuevo valor"
   ]
  },
  {
   "cell_type": "code",
   "execution_count": 31,
   "id": "76fd56cb",
   "metadata": {},
   "outputs": [
    {
     "name": "stdout",
     "output_type": "stream",
     "text": [
      "+---+--------------------+------+------+-------------+---+------+-------+-------+-------+-----+----------+---------+\n",
      "|  #|                Name|Type 1|Type 2|Total_Renamed| HP|Attack|Defense|Sp. Atk|Sp. Def|Speed|Generation|Legendary|\n",
      "+---+--------------------+------+------+-------------+---+------+-------+-------+-------+-----+----------+---------+\n",
      "|  1|           Bulbasaur| Grass|Poison|          318| 45|    49|     49|     65|     65|   45|         1|    false|\n",
      "|  2|             Ivysaur| Grass|Poison|          405| 60|    62|     63|     80|     80|   60|         1|    false|\n",
      "|  3|            Venusaur| Grass|Poison|          525| 80|    82|     83|    100|    100|   80|         1|    false|\n",
      "|  3|VenusaurMega Venu...| Grass|Poison|          625| 80|   100|    123|    122|    120|   80|         1|    false|\n",
      "|  4|          Charmander|  Fire|  null|          309| 39|    52|     43|     60|     50|   65|         1|    false|\n",
      "|  5|          Charmeleon|  Fire|  null|          405| 58|    64|     58|     80|     65|   80|         1|    false|\n",
      "|  6|           Charizard|  Fire|Flying|          534| 78|    84|     78|    109|     85|  100|         1|    false|\n",
      "|  6|CharizardMega Cha...|  Fire|Dragon|          634| 78|   130|    111|    130|     85|  100|         1|    false|\n",
      "|  6|CharizardMega Cha...|  Fire|Flying|          634| 78|   104|     78|    159|    115|  100|         1|    false|\n",
      "|  7|            Squirtle| Water|  null|          314| 44|    48|     65|     50|     64|   43|         1|    false|\n",
      "|  8|           Wartortle| Water|  null|          405| 59|    63|     80|     65|     80|   58|         1|    false|\n",
      "|  9|           Blastoise| Water|  null|          530| 79|    83|    100|     85|    105|   78|         1|    false|\n",
      "|  9|BlastoiseMega Bla...| Water|  null|          630| 79|   103|    120|    135|    115|   78|         1|    false|\n",
      "| 10|            Caterpie|   Bug|  null|          195| 45|    30|     35|     20|     20|   45|         1|    false|\n",
      "| 11|             Metapod|   Bug|  null|          205| 50|    20|     55|     25|     25|   30|         1|    false|\n",
      "| 12|          Butterfree|   Bug|Flying|          395| 60|    45|     50|     90|     80|   70|         1|    false|\n",
      "| 13|              Weedle|   Bug|Poison|          195| 40|    35|     30|     20|     20|   50|         1|    false|\n",
      "| 14|              Kakuna|   Bug|Poison|          205| 45|    25|     50|     25|     25|   35|         1|    false|\n",
      "| 15|            Beedrill|   Bug|Poison|          395| 65|    90|     40|     45|     80|   75|         1|    false|\n",
      "| 15|BeedrillMega Beed...|   Bug|Poison|          495| 65|   150|     40|     15|     80|  145|         1|    false|\n",
      "+---+--------------------+------+------+-------------+---+------+-------+-------+-------+-----+----------+---------+\n",
      "only showing top 20 rows\n",
      "\n"
     ]
    }
   ],
   "source": [
    "# No es una operación con inplace como las anteriores. Crea copia\n",
    "df_pyspark.withColumnRenamed('Total','Total_Renamed').show()"
   ]
  },
  {
   "cell_type": "markdown",
   "id": "9e9b1cce",
   "metadata": {},
   "source": [
    "# 3. **Manejo de nulos** "
   ]
  },
  {
   "cell_type": "code",
   "execution_count": 32,
   "id": "090f5066",
   "metadata": {
    "scrolled": false
   },
   "outputs": [
    {
     "name": "stdout",
     "output_type": "stream",
     "text": [
      "+---+--------------------+------+------+-----+---+------+-------+------+------+-----+----------+---------+\n",
      "|  #|                Name|Type_1|Type_2|Total| HP|Attack|Defense|Sp_Atk|Sp_Def|Speed|Generation|Legendary|\n",
      "+---+--------------------+------+------+-----+---+------+-------+------+------+-----+----------+---------+\n",
      "|  1|           Bulbasaur| Grass|Poison|  318| 45|    49|     49|  65.0|  65.0|   45|         1|    false|\n",
      "|  2|             Ivysaur| Grass|Poison|  405| 60|    62|     63|  80.0|  80.0|   60|         1|    false|\n",
      "|  3|            Venusaur| Grass|Poison|  525| 80|    82|     83| 100.0| 100.0|   80|         1|    false|\n",
      "|  3|VenusaurMega Venu...| Grass|Poison|  625| 80|   100|    123| 122.0| 120.0|   80|         1|    false|\n",
      "|  4|          Charmander|  Fire|  null|  309| 39|    52|     43|  60.0|  50.0|   65|         1|    false|\n",
      "|  5|          Charmeleon|  Fire|  null|  405| 58|    64|     58|  80.0|  65.0|   80|         1|    false|\n",
      "|  6|           Charizard|  Fire|Flying|  534| 78|    84|     78| 109.0|  85.0|  100|         1|    false|\n",
      "|  6|CharizardMega Cha...|  Fire|Dragon|  634| 78|   130|    111| 130.0|  85.0|  100|         1|    false|\n",
      "|  6|CharizardMega Cha...|  Fire|Flying|  634| 78|   104|     78| 159.0| 115.0|  100|         1|    false|\n",
      "|  7|            Squirtle| Water|  null|  314| 44|    48|     65|  50.0|  64.0|   43|         1|    false|\n",
      "|  8|           Wartortle| Water|  null|  405| 59|    63|     80|  65.0|  80.0|   58|         1|    false|\n",
      "|  9|           Blastoise| Water|  null|  530| 79|    83|    100|  85.0| 105.0|   78|         1|    false|\n",
      "|  9|BlastoiseMega Bla...| Water|  null|  630| 79|   103|    120| 135.0| 115.0|   78|         1|    false|\n",
      "| 10|            Caterpie|   Bug|  null|  195| 45|    30|     35|  null|  null|   45|         1|    false|\n",
      "| 11|             Metapod|   Bug|  null|  205| 50|    20|     55|  null|  null|   30|         1|    false|\n",
      "| 12|          Butterfree|   Bug|Flying|  395| 60|    45|     50|  90.0|  80.0|   70|         1|    false|\n",
      "| 13|              Weedle|   Bug|Poison|  195| 40|    35|     30|  null|  null|   50|         1|    false|\n",
      "| 14|              Kakuna|   Bug|Poison|  205| 45|    25|     50|  null|  null|   35|         1|    false|\n",
      "| 15|            Beedrill|   Bug|Poison|  395| 65|    90|     40|  45.0|  80.0|   75|         1|    false|\n",
      "| 15|BeedrillMega Beed...|   Bug|Poison|  495| 65|   150|     40|  null|  80.0|  145|         1|    false|\n",
      "+---+--------------------+------+------+-----+---+------+-------+------+------+-----+----------+---------+\n",
      "only showing top 20 rows\n",
      "\n"
     ]
    }
   ],
   "source": [
    "# Cargamos un nuevo dataset que incluya valores nulos\n",
    "df_null = spark.read.csv('Pokemon_null.csv',header=True,inferSchema=True)\n",
    "df_null.show()"
   ]
  },
  {
   "cell_type": "markdown",
   "id": "57b73cf7",
   "metadata": {},
   "source": [
    "Tenemos nulos en las columnas Type_2, Sp_Atk y Sp_Def"
   ]
  },
  {
   "cell_type": "code",
   "execution_count": 33,
   "id": "0c5676c1",
   "metadata": {},
   "outputs": [
    {
     "name": "stdout",
     "output_type": "stream",
     "text": [
      "+---+--------------------+------+------+-----+---+------+-------+------+------+-----+----------+---------+\n",
      "|  #|                Name|Type_1|Type_2|Total| HP|Attack|Defense|Sp_Atk|Sp_Def|Speed|Generation|Legendary|\n",
      "+---+--------------------+------+------+-----+---+------+-------+------+------+-----+----------+---------+\n",
      "|  1|           Bulbasaur| Grass|Poison|  318| 45|    49|     49|  65.0|  65.0|   45|         1|    false|\n",
      "|  2|             Ivysaur| Grass|Poison|  405| 60|    62|     63|  80.0|  80.0|   60|         1|    false|\n",
      "|  3|            Venusaur| Grass|Poison|  525| 80|    82|     83| 100.0| 100.0|   80|         1|    false|\n",
      "|  3|VenusaurMega Venu...| Grass|Poison|  625| 80|   100|    123| 122.0| 120.0|   80|         1|    false|\n",
      "|  6|           Charizard|  Fire|Flying|  534| 78|    84|     78| 109.0|  85.0|  100|         1|    false|\n",
      "|  6|CharizardMega Cha...|  Fire|Dragon|  634| 78|   130|    111| 130.0|  85.0|  100|         1|    false|\n",
      "|  6|CharizardMega Cha...|  Fire|Flying|  634| 78|   104|     78| 159.0| 115.0|  100|         1|    false|\n",
      "| 12|          Butterfree|   Bug|Flying|  395| 60|    45|     50|  90.0|  80.0|   70|         1|    false|\n",
      "| 15|            Beedrill|   Bug|Poison|  395| 65|    90|     40|  45.0|  80.0|   75|         1|    false|\n",
      "| 17|           Pidgeotto|Normal|Flying|  349| 63|    60|     55|  50.0|  50.0|   71|         1|    false|\n",
      "| 18|             Pidgeot|Normal|Flying|  479| 83|    80|     75|  70.0|  70.0|  101|         1|    false|\n",
      "| 18| PidgeotMega Pidgeot|Normal|Flying|  579| 83|    80|     80| 135.0|  80.0|  121|         1|    false|\n",
      "| 22|              Fearow|Normal|Flying|  442| 65|    90|     65|  61.0|  61.0|  100|         1|    false|\n",
      "| 31|           Nidoqueen|Poison|Ground|  505| 90|    92|     87|  75.0|  85.0|   76|         1|    false|\n",
      "| 34|            Nidoking|Poison|Ground|  505| 81|   102|     77|  85.0|  75.0|   85|         1|    false|\n",
      "| 40|          Wigglytuff|Normal| Fairy|  435|140|    70|     45|  85.0|  50.0|   45|         1|    false|\n",
      "| 42|              Golbat|Poison|Flying|  455| 75|    80|     70|  65.0|  75.0|   90|         1|    false|\n",
      "| 43|              Oddish| Grass|Poison|  320| 45|    50|     55|  75.0|  65.0|   30|         1|    false|\n",
      "| 44|               Gloom| Grass|Poison|  395| 60|    65|     70|  85.0|  75.0|   40|         1|    false|\n",
      "| 45|           Vileplume| Grass|Poison|  490| 75|    80|     85| 110.0|  90.0|   50|         1|    false|\n",
      "+---+--------------------+------+------+-----+---+------+-------+------+------+-----+----------+---------+\n",
      "only showing top 20 rows\n",
      "\n"
     ]
    }
   ],
   "source": [
    "# Elimina todas las filas que tengan algún nulo\n",
    "df_null.na.drop().show()"
   ]
  },
  {
   "cell_type": "code",
   "execution_count": 34,
   "id": "79f5f349",
   "metadata": {},
   "outputs": [
    {
     "data": {
      "text/plain": [
       "DataFrame[#: int, Name: string, Type_1: string, Type_2: string, Total: int, HP: int, Attack: int, Defense: int, Sp_Atk: double, Sp_Def: double, Speed: int, Generation: int, Legendary: boolean]"
      ]
     },
     "execution_count": 34,
     "metadata": {},
     "output_type": "execute_result"
    }
   ],
   "source": [
    "df_null.na.drop()"
   ]
  },
  {
   "cell_type": "markdown",
   "id": "9658669e",
   "metadata": {},
   "source": [
    "El método na.drop() tiene un parámetro *how* que tiene valor predeterminado 'any', y puede tener valor 'all':\n",
    "- **any:** Elimina todas las filas donde haya al menos un nulo\n",
    "- **all:** Elimina todas las filas donde todos los valores sean nulos"
   ]
  },
  {
   "cell_type": "code",
   "execution_count": 35,
   "id": "3b2b2552",
   "metadata": {},
   "outputs": [
    {
     "name": "stdout",
     "output_type": "stream",
     "text": [
      "+---+--------------------+------+------+-----+---+------+-------+------+------+-----+----------+---------+\n",
      "|  #|                Name|Type_1|Type_2|Total| HP|Attack|Defense|Sp_Atk|Sp_Def|Speed|Generation|Legendary|\n",
      "+---+--------------------+------+------+-----+---+------+-------+------+------+-----+----------+---------+\n",
      "|  1|           Bulbasaur| Grass|Poison|  318| 45|    49|     49|  65.0|  65.0|   45|         1|    false|\n",
      "|  2|             Ivysaur| Grass|Poison|  405| 60|    62|     63|  80.0|  80.0|   60|         1|    false|\n",
      "|  3|            Venusaur| Grass|Poison|  525| 80|    82|     83| 100.0| 100.0|   80|         1|    false|\n",
      "|  3|VenusaurMega Venu...| Grass|Poison|  625| 80|   100|    123| 122.0| 120.0|   80|         1|    false|\n",
      "|  4|          Charmander|  Fire|  null|  309| 39|    52|     43|  60.0|  50.0|   65|         1|    false|\n",
      "|  5|          Charmeleon|  Fire|  null|  405| 58|    64|     58|  80.0|  65.0|   80|         1|    false|\n",
      "|  6|           Charizard|  Fire|Flying|  534| 78|    84|     78| 109.0|  85.0|  100|         1|    false|\n",
      "|  6|CharizardMega Cha...|  Fire|Dragon|  634| 78|   130|    111| 130.0|  85.0|  100|         1|    false|\n",
      "|  6|CharizardMega Cha...|  Fire|Flying|  634| 78|   104|     78| 159.0| 115.0|  100|         1|    false|\n",
      "|  7|            Squirtle| Water|  null|  314| 44|    48|     65|  50.0|  64.0|   43|         1|    false|\n",
      "|  8|           Wartortle| Water|  null|  405| 59|    63|     80|  65.0|  80.0|   58|         1|    false|\n",
      "|  9|           Blastoise| Water|  null|  530| 79|    83|    100|  85.0| 105.0|   78|         1|    false|\n",
      "|  9|BlastoiseMega Bla...| Water|  null|  630| 79|   103|    120| 135.0| 115.0|   78|         1|    false|\n",
      "| 10|            Caterpie|   Bug|  null|  195| 45|    30|     35|  null|  null|   45|         1|    false|\n",
      "| 11|             Metapod|   Bug|  null|  205| 50|    20|     55|  null|  null|   30|         1|    false|\n",
      "| 12|          Butterfree|   Bug|Flying|  395| 60|    45|     50|  90.0|  80.0|   70|         1|    false|\n",
      "| 13|              Weedle|   Bug|Poison|  195| 40|    35|     30|  null|  null|   50|         1|    false|\n",
      "| 14|              Kakuna|   Bug|Poison|  205| 45|    25|     50|  null|  null|   35|         1|    false|\n",
      "| 15|            Beedrill|   Bug|Poison|  395| 65|    90|     40|  45.0|  80.0|   75|         1|    false|\n",
      "| 15|BeedrillMega Beed...|   Bug|Poison|  495| 65|   150|     40|  null|  80.0|  145|         1|    false|\n",
      "+---+--------------------+------+------+-----+---+------+-------+------+------+-----+----------+---------+\n",
      "only showing top 20 rows\n",
      "\n"
     ]
    }
   ],
   "source": [
    "# No ha eliminado ninguna fila, ya que no existe ninguna con todos los valores nulos\n",
    "df_null.na.drop(how='all').show()"
   ]
  },
  {
   "cell_type": "markdown",
   "id": "2a257952",
   "metadata": {},
   "source": [
    "Otro parámentro que acepta na.drop(), es *thresh*, permite complementar el parámetro how. Es un vaor int, que especifica el número mínimo de no nulos que debe tener una fila para que la podamos eliminar"
   ]
  },
  {
   "cell_type": "code",
   "execution_count": 36,
   "id": "09545227",
   "metadata": {},
   "outputs": [
    {
     "name": "stdout",
     "output_type": "stream",
     "text": [
      "+---+--------------------+------+------+-----+---+------+-------+------+------+-----+----------+---------+\n",
      "|  #|                Name|Type_1|Type_2|Total| HP|Attack|Defense|Sp_Atk|Sp_Def|Speed|Generation|Legendary|\n",
      "+---+--------------------+------+------+-----+---+------+-------+------+------+-----+----------+---------+\n",
      "|  1|           Bulbasaur| Grass|Poison|  318| 45|    49|     49|  65.0|  65.0|   45|         1|    false|\n",
      "|  2|             Ivysaur| Grass|Poison|  405| 60|    62|     63|  80.0|  80.0|   60|         1|    false|\n",
      "|  3|            Venusaur| Grass|Poison|  525| 80|    82|     83| 100.0| 100.0|   80|         1|    false|\n",
      "|  3|VenusaurMega Venu...| Grass|Poison|  625| 80|   100|    123| 122.0| 120.0|   80|         1|    false|\n",
      "|  4|          Charmander|  Fire|  null|  309| 39|    52|     43|  60.0|  50.0|   65|         1|    false|\n",
      "|  5|          Charmeleon|  Fire|  null|  405| 58|    64|     58|  80.0|  65.0|   80|         1|    false|\n",
      "|  6|           Charizard|  Fire|Flying|  534| 78|    84|     78| 109.0|  85.0|  100|         1|    false|\n",
      "|  6|CharizardMega Cha...|  Fire|Dragon|  634| 78|   130|    111| 130.0|  85.0|  100|         1|    false|\n",
      "|  6|CharizardMega Cha...|  Fire|Flying|  634| 78|   104|     78| 159.0| 115.0|  100|         1|    false|\n",
      "|  7|            Squirtle| Water|  null|  314| 44|    48|     65|  50.0|  64.0|   43|         1|    false|\n",
      "|  8|           Wartortle| Water|  null|  405| 59|    63|     80|  65.0|  80.0|   58|         1|    false|\n",
      "|  9|           Blastoise| Water|  null|  530| 79|    83|    100|  85.0| 105.0|   78|         1|    false|\n",
      "|  9|BlastoiseMega Bla...| Water|  null|  630| 79|   103|    120| 135.0| 115.0|   78|         1|    false|\n",
      "| 12|          Butterfree|   Bug|Flying|  395| 60|    45|     50|  90.0|  80.0|   70|         1|    false|\n",
      "| 13|              Weedle|   Bug|Poison|  195| 40|    35|     30|  null|  null|   50|         1|    false|\n",
      "| 14|              Kakuna|   Bug|Poison|  205| 45|    25|     50|  null|  null|   35|         1|    false|\n",
      "| 15|            Beedrill|   Bug|Poison|  395| 65|    90|     40|  45.0|  80.0|   75|         1|    false|\n",
      "| 15|BeedrillMega Beed...|   Bug|Poison|  495| 65|   150|     40|  null|  80.0|  145|         1|    false|\n",
      "| 16|              Pidgey|Normal|Flying|  251| 40|    45|     40|  null|  35.0|   56|         1|    false|\n",
      "| 17|           Pidgeotto|Normal|Flying|  349| 63|    60|     55|  50.0|  50.0|   71|         1|    false|\n",
      "+---+--------------------+------+------+-----+---+------+-------+------+------+-----+----------+---------+\n",
      "only showing top 20 rows\n",
      "\n"
     ]
    }
   ],
   "source": [
    "# Muestra todas las filas que tengan al menos 11 valores no nulos\n",
    "df_null.na.drop(how='any',thresh=11).show()"
   ]
  },
  {
   "cell_type": "code",
   "execution_count": 37,
   "id": "3806d315",
   "metadata": {},
   "outputs": [
    {
     "name": "stdout",
     "output_type": "stream",
     "text": [
      "+---+--------------------+------+------+-----+---+------+-------+------+------+-----+----------+---------+\n",
      "|  #|                Name|Type_1|Type_2|Total| HP|Attack|Defense|Sp_Atk|Sp_Def|Speed|Generation|Legendary|\n",
      "+---+--------------------+------+------+-----+---+------+-------+------+------+-----+----------+---------+\n",
      "|  1|           Bulbasaur| Grass|Poison|  318| 45|    49|     49|  65.0|  65.0|   45|         1|    false|\n",
      "|  2|             Ivysaur| Grass|Poison|  405| 60|    62|     63|  80.0|  80.0|   60|         1|    false|\n",
      "|  3|            Venusaur| Grass|Poison|  525| 80|    82|     83| 100.0| 100.0|   80|         1|    false|\n",
      "|  3|VenusaurMega Venu...| Grass|Poison|  625| 80|   100|    123| 122.0| 120.0|   80|         1|    false|\n",
      "|  4|          Charmander|  Fire|  null|  309| 39|    52|     43|  60.0|  50.0|   65|         1|    false|\n",
      "|  5|          Charmeleon|  Fire|  null|  405| 58|    64|     58|  80.0|  65.0|   80|         1|    false|\n",
      "|  6|           Charizard|  Fire|Flying|  534| 78|    84|     78| 109.0|  85.0|  100|         1|    false|\n",
      "|  6|CharizardMega Cha...|  Fire|Dragon|  634| 78|   130|    111| 130.0|  85.0|  100|         1|    false|\n",
      "|  6|CharizardMega Cha...|  Fire|Flying|  634| 78|   104|     78| 159.0| 115.0|  100|         1|    false|\n",
      "|  7|            Squirtle| Water|  null|  314| 44|    48|     65|  50.0|  64.0|   43|         1|    false|\n",
      "|  8|           Wartortle| Water|  null|  405| 59|    63|     80|  65.0|  80.0|   58|         1|    false|\n",
      "|  9|           Blastoise| Water|  null|  530| 79|    83|    100|  85.0| 105.0|   78|         1|    false|\n",
      "|  9|BlastoiseMega Bla...| Water|  null|  630| 79|   103|    120| 135.0| 115.0|   78|         1|    false|\n",
      "| 12|          Butterfree|   Bug|Flying|  395| 60|    45|     50|  90.0|  80.0|   70|         1|    false|\n",
      "| 15|            Beedrill|   Bug|Poison|  395| 65|    90|     40|  45.0|  80.0|   75|         1|    false|\n",
      "| 15|BeedrillMega Beed...|   Bug|Poison|  495| 65|   150|     40|  null|  80.0|  145|         1|    false|\n",
      "| 16|              Pidgey|Normal|Flying|  251| 40|    45|     40|  null|  35.0|   56|         1|    false|\n",
      "| 17|           Pidgeotto|Normal|Flying|  349| 63|    60|     55|  50.0|  50.0|   71|         1|    false|\n",
      "| 18|             Pidgeot|Normal|Flying|  479| 83|    80|     75|  70.0|  70.0|  101|         1|    false|\n",
      "| 18| PidgeotMega Pidgeot|Normal|Flying|  579| 83|    80|     80| 135.0|  80.0|  121|         1|    false|\n",
      "+---+--------------------+------+------+-----+---+------+-------+------+------+-----+----------+---------+\n",
      "only showing top 20 rows\n",
      "\n"
     ]
    }
   ],
   "source": [
    "# La columna # cuenta también como valor no nulo\n",
    "df_null.na.drop(how='any',thresh=12).show()"
   ]
  },
  {
   "cell_type": "markdown",
   "id": "de0f8475",
   "metadata": {},
   "source": [
    "El último parámetro que acepta drop es *subset*. Permite especificar una columna o columnas del dataset, esto hará que si en las columna/s especificadas está presente un nulo se eliminará"
   ]
  },
  {
   "cell_type": "code",
   "execution_count": 38,
   "id": "a4d7bbc6",
   "metadata": {},
   "outputs": [
    {
     "name": "stdout",
     "output_type": "stream",
     "text": [
      "+---+--------------------+------+------+-----+---+------+-------+------+------+-----+----------+---------+\n",
      "|  #|                Name|Type_1|Type_2|Total| HP|Attack|Defense|Sp_Atk|Sp_Def|Speed|Generation|Legendary|\n",
      "+---+--------------------+------+------+-----+---+------+-------+------+------+-----+----------+---------+\n",
      "|  1|           Bulbasaur| Grass|Poison|  318| 45|    49|     49|  65.0|  65.0|   45|         1|    false|\n",
      "|  2|             Ivysaur| Grass|Poison|  405| 60|    62|     63|  80.0|  80.0|   60|         1|    false|\n",
      "|  3|            Venusaur| Grass|Poison|  525| 80|    82|     83| 100.0| 100.0|   80|         1|    false|\n",
      "|  3|VenusaurMega Venu...| Grass|Poison|  625| 80|   100|    123| 122.0| 120.0|   80|         1|    false|\n",
      "|  6|           Charizard|  Fire|Flying|  534| 78|    84|     78| 109.0|  85.0|  100|         1|    false|\n",
      "|  6|CharizardMega Cha...|  Fire|Dragon|  634| 78|   130|    111| 130.0|  85.0|  100|         1|    false|\n",
      "|  6|CharizardMega Cha...|  Fire|Flying|  634| 78|   104|     78| 159.0| 115.0|  100|         1|    false|\n",
      "| 12|          Butterfree|   Bug|Flying|  395| 60|    45|     50|  90.0|  80.0|   70|         1|    false|\n",
      "| 13|              Weedle|   Bug|Poison|  195| 40|    35|     30|  null|  null|   50|         1|    false|\n",
      "| 14|              Kakuna|   Bug|Poison|  205| 45|    25|     50|  null|  null|   35|         1|    false|\n",
      "| 15|            Beedrill|   Bug|Poison|  395| 65|    90|     40|  45.0|  80.0|   75|         1|    false|\n",
      "| 15|BeedrillMega Beed...|   Bug|Poison|  495| 65|   150|     40|  null|  80.0|  145|         1|    false|\n",
      "| 16|              Pidgey|Normal|Flying|  251| 40|    45|     40|  null|  35.0|   56|         1|    false|\n",
      "| 17|           Pidgeotto|Normal|Flying|  349| 63|    60|     55|  50.0|  50.0|   71|         1|    false|\n",
      "| 18|             Pidgeot|Normal|Flying|  479| 83|    80|     75|  70.0|  70.0|  101|         1|    false|\n",
      "| 18| PidgeotMega Pidgeot|Normal|Flying|  579| 83|    80|     80| 135.0|  80.0|  121|         1|    false|\n",
      "| 21|             Spearow|Normal|Flying|  262| 40|    60|     30|  null|  null|   70|         1|    false|\n",
      "| 22|              Fearow|Normal|Flying|  442| 65|    90|     65|  61.0|  61.0|  100|         1|    false|\n",
      "| 31|           Nidoqueen|Poison|Ground|  505| 90|    92|     87|  75.0|  85.0|   76|         1|    false|\n",
      "| 34|            Nidoking|Poison|Ground|  505| 81|   102|     77|  85.0|  75.0|   85|         1|    false|\n",
      "+---+--------------------+------+------+-----+---+------+-------+------+------+-----+----------+---------+\n",
      "only showing top 20 rows\n",
      "\n"
     ]
    }
   ],
   "source": [
    "df_null.na.drop(subset=['Type_2']).show()"
   ]
  },
  {
   "cell_type": "code",
   "execution_count": 39,
   "id": "32cb5159",
   "metadata": {},
   "outputs": [
    {
     "name": "stdout",
     "output_type": "stream",
     "text": [
      "+---+--------------------+------+------+-----+---+------+-------+------+------+-----+----------+---------+\n",
      "|  #|                Name|Type_1|Type_2|Total| HP|Attack|Defense|Sp_Atk|Sp_Def|Speed|Generation|Legendary|\n",
      "+---+--------------------+------+------+-----+---+------+-------+------+------+-----+----------+---------+\n",
      "|  1|           Bulbasaur| Grass|Poison|  318| 45|    49|     49|  65.0|  65.0|   45|         1|    false|\n",
      "|  2|             Ivysaur| Grass|Poison|  405| 60|    62|     63|  80.0|  80.0|   60|         1|    false|\n",
      "|  3|            Venusaur| Grass|Poison|  525| 80|    82|     83| 100.0| 100.0|   80|         1|    false|\n",
      "|  3|VenusaurMega Venu...| Grass|Poison|  625| 80|   100|    123| 122.0| 120.0|   80|         1|    false|\n",
      "|  6|           Charizard|  Fire|Flying|  534| 78|    84|     78| 109.0|  85.0|  100|         1|    false|\n",
      "|  6|CharizardMega Cha...|  Fire|Dragon|  634| 78|   130|    111| 130.0|  85.0|  100|         1|    false|\n",
      "|  6|CharizardMega Cha...|  Fire|Flying|  634| 78|   104|     78| 159.0| 115.0|  100|         1|    false|\n",
      "| 12|          Butterfree|   Bug|Flying|  395| 60|    45|     50|  90.0|  80.0|   70|         1|    false|\n",
      "| 15|            Beedrill|   Bug|Poison|  395| 65|    90|     40|  45.0|  80.0|   75|         1|    false|\n",
      "| 17|           Pidgeotto|Normal|Flying|  349| 63|    60|     55|  50.0|  50.0|   71|         1|    false|\n",
      "| 18|             Pidgeot|Normal|Flying|  479| 83|    80|     75|  70.0|  70.0|  101|         1|    false|\n",
      "| 18| PidgeotMega Pidgeot|Normal|Flying|  579| 83|    80|     80| 135.0|  80.0|  121|         1|    false|\n",
      "| 22|              Fearow|Normal|Flying|  442| 65|    90|     65|  61.0|  61.0|  100|         1|    false|\n",
      "| 31|           Nidoqueen|Poison|Ground|  505| 90|    92|     87|  75.0|  85.0|   76|         1|    false|\n",
      "| 34|            Nidoking|Poison|Ground|  505| 81|   102|     77|  85.0|  75.0|   85|         1|    false|\n",
      "| 39|          Jigglypuff|Normal| Fairy|  270|115|    45|     20|  45.0|  null|   20|         1|    false|\n",
      "| 40|          Wigglytuff|Normal| Fairy|  435|140|    70|     45|  85.0|  50.0|   45|         1|    false|\n",
      "| 42|              Golbat|Poison|Flying|  455| 75|    80|     70|  65.0|  75.0|   90|         1|    false|\n",
      "| 43|              Oddish| Grass|Poison|  320| 45|    50|     55|  75.0|  65.0|   30|         1|    false|\n",
      "| 44|               Gloom| Grass|Poison|  395| 60|    65|     70|  85.0|  75.0|   40|         1|    false|\n",
      "+---+--------------------+------+------+-----+---+------+-------+------+------+-----+----------+---------+\n",
      "only showing top 20 rows\n",
      "\n"
     ]
    }
   ],
   "source": [
    "df_null.na.drop(subset=['Type_2','Sp_Atk']).show()"
   ]
  },
  {
   "cell_type": "markdown",
   "id": "427aaf54",
   "metadata": {},
   "source": [
    "#### Relleno de nulos"
   ]
  },
  {
   "cell_type": "code",
   "execution_count": 40,
   "id": "9e14fd42",
   "metadata": {},
   "outputs": [
    {
     "name": "stdout",
     "output_type": "stream",
     "text": [
      "+---+--------------------+------+------+-----+---+------+-------+------+------+-----+----------+---------+\n",
      "|  #|                Name|Type_1|Type_2|Total| HP|Attack|Defense|Sp_Atk|Sp_Def|Speed|Generation|Legendary|\n",
      "+---+--------------------+------+------+-----+---+------+-------+------+------+-----+----------+---------+\n",
      "|  1|           Bulbasaur| Grass|Poison|  318| 45|    49|     49|  65.0|  65.0|   45|         1|    false|\n",
      "|  2|             Ivysaur| Grass|Poison|  405| 60|    62|     63|  80.0|  80.0|   60|         1|    false|\n",
      "|  3|            Venusaur| Grass|Poison|  525| 80|    82|     83| 100.0| 100.0|   80|         1|    false|\n",
      "|  3|VenusaurMega Venu...| Grass|Poison|  625| 80|   100|    123| 122.0| 120.0|   80|         1|    false|\n",
      "|  4|          Charmander|  Fire|  null|  309| 39|    52|     43|  60.0|  50.0|   65|         1|    false|\n",
      "|  5|          Charmeleon|  Fire|  null|  405| 58|    64|     58|  80.0|  65.0|   80|         1|    false|\n",
      "|  6|           Charizard|  Fire|Flying|  534| 78|    84|     78| 109.0|  85.0|  100|         1|    false|\n",
      "|  6|CharizardMega Cha...|  Fire|Dragon|  634| 78|   130|    111| 130.0|  85.0|  100|         1|    false|\n",
      "|  6|CharizardMega Cha...|  Fire|Flying|  634| 78|   104|     78| 159.0| 115.0|  100|         1|    false|\n",
      "|  7|            Squirtle| Water|  null|  314| 44|    48|     65|  50.0|  64.0|   43|         1|    false|\n",
      "|  8|           Wartortle| Water|  null|  405| 59|    63|     80|  65.0|  80.0|   58|         1|    false|\n",
      "|  9|           Blastoise| Water|  null|  530| 79|    83|    100|  85.0| 105.0|   78|         1|    false|\n",
      "|  9|BlastoiseMega Bla...| Water|  null|  630| 79|   103|    120| 135.0| 115.0|   78|         1|    false|\n",
      "| 10|            Caterpie|   Bug|  null|  195| 45|    30|     35|   0.0|   0.0|   45|         1|    false|\n",
      "| 11|             Metapod|   Bug|  null|  205| 50|    20|     55|   0.0|   0.0|   30|         1|    false|\n",
      "| 12|          Butterfree|   Bug|Flying|  395| 60|    45|     50|  90.0|  80.0|   70|         1|    false|\n",
      "| 13|              Weedle|   Bug|Poison|  195| 40|    35|     30|   0.0|   0.0|   50|         1|    false|\n",
      "| 14|              Kakuna|   Bug|Poison|  205| 45|    25|     50|   0.0|   0.0|   35|         1|    false|\n",
      "| 15|            Beedrill|   Bug|Poison|  395| 65|    90|     40|  45.0|  80.0|   75|         1|    false|\n",
      "| 15|BeedrillMega Beed...|   Bug|Poison|  495| 65|   150|     40|   0.0|  80.0|  145|         1|    false|\n",
      "+---+--------------------+------+------+-----+---+------+-------+------+------+-----+----------+---------+\n",
      "only showing top 20 rows\n",
      "\n"
     ]
    }
   ],
   "source": [
    "# Completa lo nulos con 0, en aquellas columnas donde el tipo de dato sea acorde. En este caso int\n",
    "# La columna Type_2 no ha sido modificada, ya que los valores de esta columna son strings\n",
    "df_null.na.fill(0).show()"
   ]
  },
  {
   "cell_type": "code",
   "execution_count": 41,
   "id": "39cb76ef",
   "metadata": {},
   "outputs": [
    {
     "name": "stdout",
     "output_type": "stream",
     "text": [
      "+---+--------------------+------+-------------+-----+---+------+-------+------+------+-----+----------+---------+\n",
      "|  #|                Name|Type_1|       Type_2|Total| HP|Attack|Defense|Sp_Atk|Sp_Def|Speed|Generation|Legendary|\n",
      "+---+--------------------+------+-------------+-----+---+------+-------+------+------+-----+----------+---------+\n",
      "|  1|           Bulbasaur| Grass|       Poison|  318| 45|    49|     49|  65.0|  65.0|   45|         1|    false|\n",
      "|  2|             Ivysaur| Grass|       Poison|  405| 60|    62|     63|  80.0|  80.0|   60|         1|    false|\n",
      "|  3|            Venusaur| Grass|       Poison|  525| 80|    82|     83| 100.0| 100.0|   80|         1|    false|\n",
      "|  3|VenusaurMega Venu...| Grass|       Poison|  625| 80|   100|    123| 122.0| 120.0|   80|         1|    false|\n",
      "|  4|          Charmander|  Fire|Missing_Value|  309| 39|    52|     43|  60.0|  50.0|   65|         1|    false|\n",
      "|  5|          Charmeleon|  Fire|Missing_Value|  405| 58|    64|     58|  80.0|  65.0|   80|         1|    false|\n",
      "|  6|           Charizard|  Fire|       Flying|  534| 78|    84|     78| 109.0|  85.0|  100|         1|    false|\n",
      "|  6|CharizardMega Cha...|  Fire|       Dragon|  634| 78|   130|    111| 130.0|  85.0|  100|         1|    false|\n",
      "|  6|CharizardMega Cha...|  Fire|       Flying|  634| 78|   104|     78| 159.0| 115.0|  100|         1|    false|\n",
      "|  7|            Squirtle| Water|Missing_Value|  314| 44|    48|     65|  50.0|  64.0|   43|         1|    false|\n",
      "|  8|           Wartortle| Water|Missing_Value|  405| 59|    63|     80|  65.0|  80.0|   58|         1|    false|\n",
      "|  9|           Blastoise| Water|Missing_Value|  530| 79|    83|    100|  85.0| 105.0|   78|         1|    false|\n",
      "|  9|BlastoiseMega Bla...| Water|Missing_Value|  630| 79|   103|    120| 135.0| 115.0|   78|         1|    false|\n",
      "| 10|            Caterpie|   Bug|Missing_Value|  195| 45|    30|     35|  null|  null|   45|         1|    false|\n",
      "| 11|             Metapod|   Bug|Missing_Value|  205| 50|    20|     55|  null|  null|   30|         1|    false|\n",
      "| 12|          Butterfree|   Bug|       Flying|  395| 60|    45|     50|  90.0|  80.0|   70|         1|    false|\n",
      "| 13|              Weedle|   Bug|       Poison|  195| 40|    35|     30|  null|  null|   50|         1|    false|\n",
      "| 14|              Kakuna|   Bug|       Poison|  205| 45|    25|     50|  null|  null|   35|         1|    false|\n",
      "| 15|            Beedrill|   Bug|       Poison|  395| 65|    90|     40|  45.0|  80.0|   75|         1|    false|\n",
      "| 15|BeedrillMega Beed...|   Bug|       Poison|  495| 65|   150|     40|  null|  80.0|  145|         1|    false|\n",
      "+---+--------------------+------+-------------+-----+---+------+-------+------+------+-----+----------+---------+\n",
      "only showing top 20 rows\n",
      "\n"
     ]
    }
   ],
   "source": [
    "# En este ha rellenado nulos en la columna Type_2\n",
    "df_null.na.fill('Missing_Value').show()"
   ]
  },
  {
   "cell_type": "markdown",
   "id": "e0002fc9",
   "metadata": {},
   "source": [
    "#### Rellenado con Imputer"
   ]
  },
  {
   "cell_type": "markdown",
   "id": "c3ca9aea",
   "metadata": {},
   "source": [
    "Imputer es una clase de PySpark, que nos permite rellenar nulos de distintas maneras. A través de un objeto Imputer podemos especificar el comportamiento de cada columno para rellenar los valores nulos de las mismas"
   ]
  },
  {
   "cell_type": "code",
   "execution_count": 42,
   "id": "42c1ef51",
   "metadata": {},
   "outputs": [],
   "source": [
    "from pyspark.ml.feature import Imputer\n",
    "\n",
    "imputer = Imputer(inputCols=['Sp_Atk','Sp_Def'],    # Establecemos las columnas que tomaremos como entrada\n",
    "                 outputCols=[f\"{c}_imputed\" for c in ['Sp_Atk','Sp_Def']]    # Nombre de las columnas resultantes\n",
    "                 ).setStrategy('mean')     # setStrategy, permite definir como se transforman las columnas. En este caso con el valor de la media"
   ]
  },
  {
   "cell_type": "markdown",
   "id": "7ac377d0",
   "metadata": {},
   "source": [
    "Usamos la instancia Imputer que hemos creado para completar los valores nulos"
   ]
  },
  {
   "cell_type": "markdown",
   "id": "a58b83f3",
   "metadata": {},
   "source": [
    "A través del método fit() y transform(), podemos crear un dataframe con los valores nulos rellenados"
   ]
  },
  {
   "cell_type": "code",
   "execution_count": 43,
   "id": "736331e9",
   "metadata": {},
   "outputs": [
    {
     "name": "stdout",
     "output_type": "stream",
     "text": [
      "+---+--------------------+------+------+-----+---+------+-------+------+------+-----+----------+---------+-----------------+-----------------+\n",
      "|  #|                Name|Type_1|Type_2|Total| HP|Attack|Defense|Sp_Atk|Sp_Def|Speed|Generation|Legendary|   Sp_Atk_imputed|   Sp_Def_imputed|\n",
      "+---+--------------------+------+------+-----+---+------+-------+------+------+-----+----------+---------+-----------------+-----------------+\n",
      "|  1|           Bulbasaur| Grass|Poison|  318| 45|    49|     49|  65.0|  65.0|   45|         1|    false|             65.0|             65.0|\n",
      "|  2|             Ivysaur| Grass|Poison|  405| 60|    62|     63|  80.0|  80.0|   60|         1|    false|             80.0|             80.0|\n",
      "|  3|            Venusaur| Grass|Poison|  525| 80|    82|     83| 100.0| 100.0|   80|         1|    false|            100.0|            100.0|\n",
      "|  3|VenusaurMega Venu...| Grass|Poison|  625| 80|   100|    123| 122.0| 120.0|   80|         1|    false|            122.0|            120.0|\n",
      "|  4|          Charmander|  Fire|  null|  309| 39|    52|     43|  60.0|  50.0|   65|         1|    false|             60.0|             50.0|\n",
      "|  5|          Charmeleon|  Fire|  null|  405| 58|    64|     58|  80.0|  65.0|   80|         1|    false|             80.0|             65.0|\n",
      "|  6|           Charizard|  Fire|Flying|  534| 78|    84|     78| 109.0|  85.0|  100|         1|    false|            109.0|             85.0|\n",
      "|  6|CharizardMega Cha...|  Fire|Dragon|  634| 78|   130|    111| 130.0|  85.0|  100|         1|    false|            130.0|             85.0|\n",
      "|  6|CharizardMega Cha...|  Fire|Flying|  634| 78|   104|     78| 159.0| 115.0|  100|         1|    false|            159.0|            115.0|\n",
      "|  7|            Squirtle| Water|  null|  314| 44|    48|     65|  50.0|  64.0|   43|         1|    false|             50.0|             64.0|\n",
      "|  8|           Wartortle| Water|  null|  405| 59|    63|     80|  65.0|  80.0|   58|         1|    false|             65.0|             80.0|\n",
      "|  9|           Blastoise| Water|  null|  530| 79|    83|    100|  85.0| 105.0|   78|         1|    false|             85.0|            105.0|\n",
      "|  9|BlastoiseMega Bla...| Water|  null|  630| 79|   103|    120| 135.0| 115.0|   78|         1|    false|            135.0|            115.0|\n",
      "| 10|            Caterpie|   Bug|  null|  195| 45|    30|     35|  null|  null|   45|         1|    false|78.76988636363636|74.37203166226912|\n",
      "| 11|             Metapod|   Bug|  null|  205| 50|    20|     55|  null|  null|   30|         1|    false|78.76988636363636|74.37203166226912|\n",
      "| 12|          Butterfree|   Bug|Flying|  395| 60|    45|     50|  90.0|  80.0|   70|         1|    false|             90.0|             80.0|\n",
      "| 13|              Weedle|   Bug|Poison|  195| 40|    35|     30|  null|  null|   50|         1|    false|78.76988636363636|74.37203166226912|\n",
      "| 14|              Kakuna|   Bug|Poison|  205| 45|    25|     50|  null|  null|   35|         1|    false|78.76988636363636|74.37203166226912|\n",
      "| 15|            Beedrill|   Bug|Poison|  395| 65|    90|     40|  45.0|  80.0|   75|         1|    false|             45.0|             80.0|\n",
      "| 15|BeedrillMega Beed...|   Bug|Poison|  495| 65|   150|     40|  null|  80.0|  145|         1|    false|78.76988636363636|             80.0|\n",
      "+---+--------------------+------+------+-----+---+------+-------+------+------+-----+----------+---------+-----------------+-----------------+\n",
      "only showing top 20 rows\n",
      "\n"
     ]
    }
   ],
   "source": [
    "imputer.fit(df_null).transform(df_null).show()"
   ]
  },
  {
   "cell_type": "code",
   "execution_count": 44,
   "id": "182906d7",
   "metadata": {},
   "outputs": [],
   "source": [
    "imputer_median = Imputer(inputCols=['Sp_Atk', 'Sp_Def'],\n",
    "                         outputCols=[f\"{c}_imputed\" for c in ['Sp_Atk', 'Sp_Def']]\n",
    "                         ).setStrategy('median')     # setStrategy, lo definimos ahora con la mediana"
   ]
  },
  {
   "cell_type": "code",
   "execution_count": 45,
   "id": "ca6d9989",
   "metadata": {},
   "outputs": [
    {
     "name": "stdout",
     "output_type": "stream",
     "text": [
      "+---+--------------------+------+------+-----+---+------+-------+------+------+-----+----------+---------+--------------+--------------+\n",
      "|  #|                Name|Type_1|Type_2|Total| HP|Attack|Defense|Sp_Atk|Sp_Def|Speed|Generation|Legendary|Sp_Atk_imputed|Sp_Def_imputed|\n",
      "+---+--------------------+------+------+-----+---+------+-------+------+------+-----+----------+---------+--------------+--------------+\n",
      "|  1|           Bulbasaur| Grass|Poison|  318| 45|    49|     49|  65.0|  65.0|   45|         1|    false|          65.0|          65.0|\n",
      "|  2|             Ivysaur| Grass|Poison|  405| 60|    62|     63|  80.0|  80.0|   60|         1|    false|          80.0|          80.0|\n",
      "|  3|            Venusaur| Grass|Poison|  525| 80|    82|     83| 100.0| 100.0|   80|         1|    false|         100.0|         100.0|\n",
      "|  3|VenusaurMega Venu...| Grass|Poison|  625| 80|   100|    123| 122.0| 120.0|   80|         1|    false|         122.0|         120.0|\n",
      "|  4|          Charmander|  Fire|  null|  309| 39|    52|     43|  60.0|  50.0|   65|         1|    false|          60.0|          50.0|\n",
      "|  5|          Charmeleon|  Fire|  null|  405| 58|    64|     58|  80.0|  65.0|   80|         1|    false|          80.0|          65.0|\n",
      "|  6|           Charizard|  Fire|Flying|  534| 78|    84|     78| 109.0|  85.0|  100|         1|    false|         109.0|          85.0|\n",
      "|  6|CharizardMega Cha...|  Fire|Dragon|  634| 78|   130|    111| 130.0|  85.0|  100|         1|    false|         130.0|          85.0|\n",
      "|  6|CharizardMega Cha...|  Fire|Flying|  634| 78|   104|     78| 159.0| 115.0|  100|         1|    false|         159.0|         115.0|\n",
      "|  7|            Squirtle| Water|  null|  314| 44|    48|     65|  50.0|  64.0|   43|         1|    false|          50.0|          64.0|\n",
      "|  8|           Wartortle| Water|  null|  405| 59|    63|     80|  65.0|  80.0|   58|         1|    false|          65.0|          80.0|\n",
      "|  9|           Blastoise| Water|  null|  530| 79|    83|    100|  85.0| 105.0|   78|         1|    false|          85.0|         105.0|\n",
      "|  9|BlastoiseMega Bla...| Water|  null|  630| 79|   103|    120| 135.0| 115.0|   78|         1|    false|         135.0|         115.0|\n",
      "| 10|            Caterpie|   Bug|  null|  195| 45|    30|     35|  null|  null|   45|         1|    false|          70.0|          70.0|\n",
      "| 11|             Metapod|   Bug|  null|  205| 50|    20|     55|  null|  null|   30|         1|    false|          70.0|          70.0|\n",
      "| 12|          Butterfree|   Bug|Flying|  395| 60|    45|     50|  90.0|  80.0|   70|         1|    false|          90.0|          80.0|\n",
      "| 13|              Weedle|   Bug|Poison|  195| 40|    35|     30|  null|  null|   50|         1|    false|          70.0|          70.0|\n",
      "| 14|              Kakuna|   Bug|Poison|  205| 45|    25|     50|  null|  null|   35|         1|    false|          70.0|          70.0|\n",
      "| 15|            Beedrill|   Bug|Poison|  395| 65|    90|     40|  45.0|  80.0|   75|         1|    false|          45.0|          80.0|\n",
      "| 15|BeedrillMega Beed...|   Bug|Poison|  495| 65|   150|     40|  null|  80.0|  145|         1|    false|          70.0|          80.0|\n",
      "+---+--------------------+------+------+-----+---+------+-------+------+------+-----+----------+---------+--------------+--------------+\n",
      "only showing top 20 rows\n",
      "\n"
     ]
    }
   ],
   "source": [
    "imputer_median.fit(df_null).transform(df_null).show()"
   ]
  },
  {
   "cell_type": "markdown",
   "id": "9f65c4c7",
   "metadata": {},
   "source": [
    "# 4. **Operaciones de filtrado** "
   ]
  },
  {
   "cell_type": "code",
   "execution_count": 46,
   "id": "2aac6632",
   "metadata": {},
   "outputs": [
    {
     "name": "stdout",
     "output_type": "stream",
     "text": [
      "+---+--------------------+------+------+-----+---+------+-------+-------+-------+-----+----------+---------+\n",
      "|  #|                Name|Type 1|Type 2|Total| HP|Attack|Defense|Sp. Atk|Sp. Def|Speed|Generation|Legendary|\n",
      "+---+--------------------+------+------+-----+---+------+-------+-------+-------+-----+----------+---------+\n",
      "|  1|           Bulbasaur| Grass|Poison|  318| 45|    49|     49|     65|     65|   45|         1|    false|\n",
      "|  2|             Ivysaur| Grass|Poison|  405| 60|    62|     63|     80|     80|   60|         1|    false|\n",
      "|  3|            Venusaur| Grass|Poison|  525| 80|    82|     83|    100|    100|   80|         1|    false|\n",
      "|  3|VenusaurMega Venu...| Grass|Poison|  625| 80|   100|    123|    122|    120|   80|         1|    false|\n",
      "|  4|          Charmander|  Fire|  null|  309| 39|    52|     43|     60|     50|   65|         1|    false|\n",
      "|  5|          Charmeleon|  Fire|  null|  405| 58|    64|     58|     80|     65|   80|         1|    false|\n",
      "|  6|           Charizard|  Fire|Flying|  534| 78|    84|     78|    109|     85|  100|         1|    false|\n",
      "|  6|CharizardMega Cha...|  Fire|Dragon|  634| 78|   130|    111|    130|     85|  100|         1|    false|\n",
      "|  6|CharizardMega Cha...|  Fire|Flying|  634| 78|   104|     78|    159|    115|  100|         1|    false|\n",
      "|  7|            Squirtle| Water|  null|  314| 44|    48|     65|     50|     64|   43|         1|    false|\n",
      "|  8|           Wartortle| Water|  null|  405| 59|    63|     80|     65|     80|   58|         1|    false|\n",
      "|  9|           Blastoise| Water|  null|  530| 79|    83|    100|     85|    105|   78|         1|    false|\n",
      "|  9|BlastoiseMega Bla...| Water|  null|  630| 79|   103|    120|    135|    115|   78|         1|    false|\n",
      "| 10|            Caterpie|   Bug|  null|  195| 45|    30|     35|     20|     20|   45|         1|    false|\n",
      "| 11|             Metapod|   Bug|  null|  205| 50|    20|     55|     25|     25|   30|         1|    false|\n",
      "| 12|          Butterfree|   Bug|Flying|  395| 60|    45|     50|     90|     80|   70|         1|    false|\n",
      "| 13|              Weedle|   Bug|Poison|  195| 40|    35|     30|     20|     20|   50|         1|    false|\n",
      "| 14|              Kakuna|   Bug|Poison|  205| 45|    25|     50|     25|     25|   35|         1|    false|\n",
      "| 15|            Beedrill|   Bug|Poison|  395| 65|    90|     40|     45|     80|   75|         1|    false|\n",
      "| 15|BeedrillMega Beed...|   Bug|Poison|  495| 65|   150|     40|     15|     80|  145|         1|    false|\n",
      "+---+--------------------+------+------+-----+---+------+-------+-------+-------+-----+----------+---------+\n",
      "only showing top 20 rows\n",
      "\n"
     ]
    }
   ],
   "source": [
    "df_pyspark = spark.read.csv('Pokemon.csv',header=True,inferSchema=True)\n",
    "df_pyspark.show()"
   ]
  },
  {
   "cell_type": "markdown",
   "id": "021dbe3f",
   "metadata": {},
   "source": [
    "#### Los filtrados se hacen con el método filter, incluyendo la condición en los parámetros"
   ]
  },
  {
   "cell_type": "markdown",
   "id": "6effba64",
   "metadata": {},
   "source": [
    "Pokemons con Attack < 78"
   ]
  },
  {
   "cell_type": "code",
   "execution_count": 47,
   "id": "13c00538",
   "metadata": {},
   "outputs": [
    {
     "name": "stdout",
     "output_type": "stream",
     "text": [
      "+---+----------+--------+------+-----+---+------+-------+-------+-------+-----+----------+---------+\n",
      "|  #|      Name|  Type 1|Type 2|Total| HP|Attack|Defense|Sp. Atk|Sp. Def|Speed|Generation|Legendary|\n",
      "+---+----------+--------+------+-----+---+------+-------+-------+-------+-----+----------+---------+\n",
      "|  1| Bulbasaur|   Grass|Poison|  318| 45|    49|     49|     65|     65|   45|         1|    false|\n",
      "|  2|   Ivysaur|   Grass|Poison|  405| 60|    62|     63|     80|     80|   60|         1|    false|\n",
      "|  4|Charmander|    Fire|  null|  309| 39|    52|     43|     60|     50|   65|         1|    false|\n",
      "|  5|Charmeleon|    Fire|  null|  405| 58|    64|     58|     80|     65|   80|         1|    false|\n",
      "|  7|  Squirtle|   Water|  null|  314| 44|    48|     65|     50|     64|   43|         1|    false|\n",
      "|  8| Wartortle|   Water|  null|  405| 59|    63|     80|     65|     80|   58|         1|    false|\n",
      "| 10|  Caterpie|     Bug|  null|  195| 45|    30|     35|     20|     20|   45|         1|    false|\n",
      "| 11|   Metapod|     Bug|  null|  205| 50|    20|     55|     25|     25|   30|         1|    false|\n",
      "| 12|Butterfree|     Bug|Flying|  395| 60|    45|     50|     90|     80|   70|         1|    false|\n",
      "| 13|    Weedle|     Bug|Poison|  195| 40|    35|     30|     20|     20|   50|         1|    false|\n",
      "| 14|    Kakuna|     Bug|Poison|  205| 45|    25|     50|     25|     25|   35|         1|    false|\n",
      "| 16|    Pidgey|  Normal|Flying|  251| 40|    45|     40|     35|     35|   56|         1|    false|\n",
      "| 17| Pidgeotto|  Normal|Flying|  349| 63|    60|     55|     50|     50|   71|         1|    false|\n",
      "| 19|   Rattata|  Normal|  null|  253| 30|    56|     35|     25|     35|   72|         1|    false|\n",
      "| 21|   Spearow|  Normal|Flying|  262| 40|    60|     30|     31|     31|   70|         1|    false|\n",
      "| 23|     Ekans|  Poison|  null|  288| 35|    60|     44|     40|     54|   55|         1|    false|\n",
      "| 25|   Pikachu|Electric|  null|  320| 35|    55|     40|     50|     50|   90|         1|    false|\n",
      "| 27| Sandshrew|  Ground|  null|  300| 50|    75|     85|     20|     30|   40|         1|    false|\n",
      "| 29|  Nidoran♀|  Poison|  null|  275| 55|    47|     52|     40|     40|   41|         1|    false|\n",
      "| 30|  Nidorina|  Poison|  null|  365| 70|    62|     67|     55|     55|   56|         1|    false|\n",
      "+---+----------+--------+------+-----+---+------+-------+-------+-------+-----+----------+---------+\n",
      "only showing top 20 rows\n",
      "\n"
     ]
    }
   ],
   "source": [
    "df_pyspark.filter('Attack<78').show()"
   ]
  },
  {
   "cell_type": "markdown",
   "id": "03097981",
   "metadata": {},
   "source": [
    "Podemos completarlo con el método select"
   ]
  },
  {
   "cell_type": "code",
   "execution_count": 51,
   "id": "e69b7798",
   "metadata": {},
   "outputs": [
    {
     "name": "stdout",
     "output_type": "stream",
     "text": [
      "+----------+---+\n",
      "|      Name| HP|\n",
      "+----------+---+\n",
      "| Bulbasaur| 45|\n",
      "|   Ivysaur| 60|\n",
      "|Charmander| 39|\n",
      "|Charmeleon| 58|\n",
      "|  Squirtle| 44|\n",
      "| Wartortle| 59|\n",
      "|  Caterpie| 45|\n",
      "|   Metapod| 50|\n",
      "|Butterfree| 60|\n",
      "|    Weedle| 40|\n",
      "|    Kakuna| 45|\n",
      "|    Pidgey| 40|\n",
      "| Pidgeotto| 63|\n",
      "|   Rattata| 30|\n",
      "|   Spearow| 40|\n",
      "|     Ekans| 35|\n",
      "|   Pikachu| 35|\n",
      "| Sandshrew| 50|\n",
      "|  Nidoran♀| 55|\n",
      "|  Nidorina| 70|\n",
      "+----------+---+\n",
      "only showing top 20 rows\n",
      "\n"
     ]
    }
   ],
   "source": [
    "df_pyspark.filter('Attack<78').select(['Name','HP']).show()"
   ]
  },
  {
   "cell_type": "markdown",
   "id": "d3db7e52",
   "metadata": {},
   "source": [
    "Similar a pandas"
   ]
  },
  {
   "cell_type": "code",
   "execution_count": 52,
   "id": "549d60e8",
   "metadata": {},
   "outputs": [
    {
     "name": "stdout",
     "output_type": "stream",
     "text": [
      "+---+----------+--------+------+-----+---+------+-------+-------+-------+-----+----------+---------+\n",
      "|  #|      Name|  Type 1|Type 2|Total| HP|Attack|Defense|Sp. Atk|Sp. Def|Speed|Generation|Legendary|\n",
      "+---+----------+--------+------+-----+---+------+-------+-------+-------+-----+----------+---------+\n",
      "|  1| Bulbasaur|   Grass|Poison|  318| 45|    49|     49|     65|     65|   45|         1|    false|\n",
      "|  2|   Ivysaur|   Grass|Poison|  405| 60|    62|     63|     80|     80|   60|         1|    false|\n",
      "|  4|Charmander|    Fire|  null|  309| 39|    52|     43|     60|     50|   65|         1|    false|\n",
      "|  5|Charmeleon|    Fire|  null|  405| 58|    64|     58|     80|     65|   80|         1|    false|\n",
      "|  7|  Squirtle|   Water|  null|  314| 44|    48|     65|     50|     64|   43|         1|    false|\n",
      "|  8| Wartortle|   Water|  null|  405| 59|    63|     80|     65|     80|   58|         1|    false|\n",
      "| 10|  Caterpie|     Bug|  null|  195| 45|    30|     35|     20|     20|   45|         1|    false|\n",
      "| 11|   Metapod|     Bug|  null|  205| 50|    20|     55|     25|     25|   30|         1|    false|\n",
      "| 12|Butterfree|     Bug|Flying|  395| 60|    45|     50|     90|     80|   70|         1|    false|\n",
      "| 13|    Weedle|     Bug|Poison|  195| 40|    35|     30|     20|     20|   50|         1|    false|\n",
      "| 14|    Kakuna|     Bug|Poison|  205| 45|    25|     50|     25|     25|   35|         1|    false|\n",
      "| 16|    Pidgey|  Normal|Flying|  251| 40|    45|     40|     35|     35|   56|         1|    false|\n",
      "| 17| Pidgeotto|  Normal|Flying|  349| 63|    60|     55|     50|     50|   71|         1|    false|\n",
      "| 19|   Rattata|  Normal|  null|  253| 30|    56|     35|     25|     35|   72|         1|    false|\n",
      "| 21|   Spearow|  Normal|Flying|  262| 40|    60|     30|     31|     31|   70|         1|    false|\n",
      "| 23|     Ekans|  Poison|  null|  288| 35|    60|     44|     40|     54|   55|         1|    false|\n",
      "| 25|   Pikachu|Electric|  null|  320| 35|    55|     40|     50|     50|   90|         1|    false|\n",
      "| 27| Sandshrew|  Ground|  null|  300| 50|    75|     85|     20|     30|   40|         1|    false|\n",
      "| 29|  Nidoran♀|  Poison|  null|  275| 55|    47|     52|     40|     40|   41|         1|    false|\n",
      "| 30|  Nidorina|  Poison|  null|  365| 70|    62|     67|     55|     55|   56|         1|    false|\n",
      "+---+----------+--------+------+-----+---+------+-------+-------+-------+-----+----------+---------+\n",
      "only showing top 20 rows\n",
      "\n"
     ]
    }
   ],
   "source": [
    "df_pyspark.filter(df_pyspark['Attack']<78).show()"
   ]
  },
  {
   "cell_type": "markdown",
   "id": "b9c5787e",
   "metadata": {},
   "source": [
    "#### Condiciones múltiples"
   ]
  },
  {
   "cell_type": "code",
   "execution_count": 55,
   "id": "6c4b4429",
   "metadata": {},
   "outputs": [
    {
     "name": "stdout",
     "output_type": "stream",
     "text": [
      "+---+--------------------+-------+------+-----+---+------+-------+-------+-------+-----+----------+---------+\n",
      "|  #|                Name| Type 1|Type 2|Total| HP|Attack|Defense|Sp. Atk|Sp. Def|Speed|Generation|Legendary|\n",
      "+---+--------------------+-------+------+-----+---+------+-------+-------+-------+-----+----------+---------+\n",
      "|  2|             Ivysaur|  Grass|Poison|  405| 60|    62|     63|     80|     80|   60|         1|    false|\n",
      "|  5|          Charmeleon|   Fire|  null|  405| 58|    64|     58|     80|     65|   80|         1|    false|\n",
      "|  7|            Squirtle|  Water|  null|  314| 44|    48|     65|     50|     64|   43|         1|    false|\n",
      "|  8|           Wartortle|  Water|  null|  405| 59|    63|     80|     65|     80|   58|         1|    false|\n",
      "| 11|             Metapod|    Bug|  null|  205| 50|    20|     55|     25|     25|   30|         1|    false|\n",
      "| 17|           Pidgeotto| Normal|Flying|  349| 63|    60|     55|     50|     50|   71|         1|    false|\n",
      "| 27|           Sandshrew| Ground|  null|  300| 50|    75|     85|     20|     30|   40|         1|    false|\n",
      "| 29|            Nidoran♀| Poison|  null|  275| 55|    47|     52|     40|     40|   41|         1|    false|\n",
      "| 30|            Nidorina| Poison|  null|  365| 70|    62|     67|     55|     55|   56|         1|    false|\n",
      "| 33|            Nidorino| Poison|  null|  365| 61|    72|     57|     55|     55|   65|         1|    false|\n",
      "| 36|            Clefable|  Fairy|  null|  483| 95|    70|     73|     95|     90|   60|         1|    false|\n",
      "| 38|           Ninetales|   Fire|  null|  505| 73|    76|     75|     81|    100|  100|         1|    false|\n",
      "| 43|              Oddish|  Grass|Poison|  320| 45|    50|     55|     75|     65|   30|         1|    false|\n",
      "| 44|               Gloom|  Grass|Poison|  395| 60|    65|     70|     85|     75|   40|         1|    false|\n",
      "| 46|               Paras|    Bug| Grass|  285| 35|    70|     55|     45|     55|   25|         1|    false|\n",
      "| 49|            Venomoth|    Bug|Poison|  450| 70|    65|     60|     90|     75|   90|         1|    false|\n",
      "| 53|             Persian| Normal|  null|  440| 65|    70|     60|     65|     65|  115|         1|    false|\n",
      "| 61|           Poliwhirl|  Water|  null|  385| 65|    65|     65|     50|     50|   90|         1|    false|\n",
      "| 65|AlakazamMega Alak...|Psychic|  null|  590| 55|    50|     65|    175|     95|  150|         1|    false|\n",
      "| 73|          Tentacruel|  Water|Poison|  515| 80|    70|     65|     80|    120|  100|         1|    false|\n",
      "+---+--------------------+-------+------+-----+---+------+-------+-------+-------+-----+----------+---------+\n",
      "only showing top 20 rows\n",
      "\n"
     ]
    }
   ],
   "source": [
    "# Se ha de usar con & o | y las condiciones entre paréntesis\n",
    "df_pyspark.filter((df_pyspark['Attack'] < 78) &\n",
    "                  (df_pyspark['Defense'] > 50)).show()"
   ]
  },
  {
   "cell_type": "markdown",
   "id": "bc31c6fc",
   "metadata": {},
   "source": [
    "# 5. **GroupBy y funciones agregadas** "
   ]
  },
  {
   "cell_type": "markdown",
   "id": "029476c7",
   "metadata": {},
   "source": [
    "Para hacer un gropby se usa el método groupBy() que tienen los dataframe de Spark. Primero definimos la columna por la que se quiere agrupar, y luego indicamos la función de agregación"
   ]
  },
  {
   "cell_type": "code",
   "execution_count": 76,
   "id": "070c9019",
   "metadata": {},
   "outputs": [],
   "source": [
    "# Para aplicar un groupby no podemos tener valores nulos en el dataset\n",
    "df_pyspark =df_pyspark[['Name','Type 1','Total','HP','Attack','Defense']]"
   ]
  },
  {
   "cell_type": "code",
   "execution_count": 80,
   "id": "69308d7e",
   "metadata": {},
   "outputs": [
    {
     "name": "stdout",
     "output_type": "stream",
     "text": [
      "+--------+------------------+-----------------+------------------+------------------+\n",
      "|  Type 1|        avg(Total)|          avg(HP)|       avg(Attack)|      avg(Defense)|\n",
      "+--------+------------------+-----------------+------------------+------------------+\n",
      "|   Water|430.45535714285717|          72.0625| 74.15178571428571| 72.94642857142857|\n",
      "|  Poison|399.14285714285717|            67.25| 74.67857142857143| 68.82142857142857|\n",
      "|   Steel| 487.7037037037037|65.22222222222223| 92.70370370370371|126.37037037037037|\n",
      "|    Rock|            453.75|65.36363636363636| 92.86363636363636|100.79545454545455|\n",
      "|     Ice| 433.4583333333333|             72.0|             72.75| 71.41666666666667|\n",
      "|   Ghost|          439.5625|          64.4375|          73.78125|           81.1875|\n",
      "|   Fairy| 413.1764705882353|74.11764705882354|61.529411764705884| 65.70588235294117|\n",
      "| Psychic|475.94736842105266|70.63157894736842| 71.45614035087719|  67.6842105263158|\n",
      "|  Dragon|         550.53125|          83.3125|           112.125|            86.375|\n",
      "|  Flying|             485.0|            70.75|             78.75|             66.25|\n",
      "|     Bug|378.92753623188406|56.88405797101449| 70.97101449275362| 70.72463768115942|\n",
      "|Electric|443.40909090909093|59.79545454545455|  69.0909090909091| 66.29545454545455|\n",
      "|    Fire| 458.0769230769231|69.90384615384616| 84.76923076923077| 67.76923076923077|\n",
      "|  Ground|             437.5|         73.78125|             95.75|          84.84375|\n",
      "|    Dark|  445.741935483871|66.80645161290323| 88.38709677419355|  70.2258064516129|\n",
      "|Fighting|416.44444444444446|69.85185185185185| 96.77777777777777| 65.92592592592592|\n",
      "|   Grass|421.14285714285717|67.27142857142857| 73.21428571428571|              70.8|\n",
      "|  Normal|401.68367346938777|77.27551020408163| 73.46938775510205|  59.8469387755102|\n",
      "+--------+------------------+-----------------+------------------+------------------+\n",
      "\n"
     ]
    }
   ],
   "source": [
    "df_pyspark.groupBy('Type 1').mean().show()"
   ]
  },
  {
   "cell_type": "code",
   "execution_count": 81,
   "id": "0412aed4",
   "metadata": {},
   "outputs": [
    {
     "name": "stdout",
     "output_type": "stream",
     "text": [
      "+--------+----------+-------+-----------+------------+\n",
      "|  Type 1|max(Total)|max(HP)|max(Attack)|max(Defense)|\n",
      "+--------+----------+-------+-----------+------------+\n",
      "|   Water|       770|    170|        155|         180|\n",
      "|  Poison|       535|    105|        106|         120|\n",
      "|   Steel|       700|    100|        150|         230|\n",
      "|    Rock|       700|    123|        165|         200|\n",
      "|     Ice|       580|    110|        130|         184|\n",
      "|   Ghost|       680|    150|        165|         145|\n",
      "|   Fairy|       680|    126|        131|          95|\n",
      "| Psychic|       780|    190|        190|         160|\n",
      "|  Dragon|       780|    125|        180|         130|\n",
      "|  Flying|       580|     85|        115|          80|\n",
      "|     Bug|       600|     86|        185|         230|\n",
      "|Electric|       610|     90|        123|         115|\n",
      "|    Fire|       680|    115|        160|         140|\n",
      "|  Ground|       770|    115|        180|         160|\n",
      "|    Dark|       680|    126|        150|         125|\n",
      "|Fighting|       625|    144|        145|          95|\n",
      "|   Grass|       630|    123|        132|         131|\n",
      "|  Normal|       720|    255|        160|         126|\n",
      "+--------+----------+-------+-----------+------------+\n",
      "\n"
     ]
    }
   ],
   "source": [
    "# Ahora vemos el máximo de cada columna agrupada por tipo de Pokemon\n",
    "df_pyspark.groupBy('Type 1').max().show()"
   ]
  },
  {
   "cell_type": "markdown",
   "id": "d307c648",
   "metadata": {},
   "source": [
    "Con el método agg, puedo definir la función de agregación que se aplica a cada columna"
   ]
  },
  {
   "cell_type": "code",
   "execution_count": 88,
   "id": "e8037e9d",
   "metadata": {
    "scrolled": false
   },
   "outputs": [
    {
     "name": "stdout",
     "output_type": "stream",
     "text": [
      "+--------+----------+-----------------+-----------+\n",
      "|  Type 1|max(Total)|          avg(HP)|sum(Attack)|\n",
      "+--------+----------+-----------------+-----------+\n",
      "|   Water|       770|          72.0625|       8305|\n",
      "|  Poison|       535|            67.25|       2091|\n",
      "|   Steel|       700|65.22222222222223|       2503|\n",
      "|    Rock|       700|65.36363636363636|       4086|\n",
      "|     Ice|       580|             72.0|       1746|\n",
      "|   Ghost|       680|          64.4375|       2361|\n",
      "|   Fairy|       680|74.11764705882354|       1046|\n",
      "| Psychic|       780|70.63157894736842|       4073|\n",
      "|  Dragon|       780|          83.3125|       3588|\n",
      "|  Flying|       580|            70.75|        315|\n",
      "|     Bug|       600|56.88405797101449|       4897|\n",
      "|Electric|       610|59.79545454545455|       3040|\n",
      "|    Fire|       680|69.90384615384616|       4408|\n",
      "|  Ground|       770|         73.78125|       3064|\n",
      "|    Dark|       680|66.80645161290323|       2740|\n",
      "|Fighting|       625|69.85185185185185|       2613|\n",
      "|   Grass|       630|67.27142857142857|       5125|\n",
      "|  Normal|       720|77.27551020408163|       7200|\n",
      "+--------+----------+-----------------+-----------+\n",
      "\n"
     ]
    }
   ],
   "source": [
    "# Nos muestra el máximo en la columna Total, la media en la columna HP y la suma en la columna Attack\n",
    "df_pyspark.groupBy('Type 1').agg({'Total':'max','HP':'mean','Attack':'sum'}).show()"
   ]
  },
  {
   "cell_type": "markdown",
   "id": "4f9bfebc",
   "metadata": {},
   "source": [
    "# 6. **Operaciones de Machine Learning** "
   ]
  },
  {
   "cell_type": "markdown",
   "id": "29f17f3e",
   "metadata": {},
   "source": [
    "### Regresión Lineal"
   ]
  },
  {
   "cell_type": "markdown",
   "id": "bfd9f5e2",
   "metadata": {},
   "source": [
    "La metodología para implementar regresión lineal en PySpark requiere que definnamos las variables independientes. \\\n",
    "En este ejemplo vamos a tratar de predecir la variable 'Total' a partir de 'HP', 'Attack' y 'Defense'"
   ]
  },
  {
   "cell_type": "code",
   "execution_count": 91,
   "id": "e429f358",
   "metadata": {},
   "outputs": [
    {
     "name": "stdout",
     "output_type": "stream",
     "text": [
      "+--------------------+------+-----+---+------+-------+\n",
      "|                Name|Type 1|Total| HP|Attack|Defense|\n",
      "+--------------------+------+-----+---+------+-------+\n",
      "|           Bulbasaur| Grass|  318| 45|    49|     49|\n",
      "|             Ivysaur| Grass|  405| 60|    62|     63|\n",
      "|            Venusaur| Grass|  525| 80|    82|     83|\n",
      "|VenusaurMega Venu...| Grass|  625| 80|   100|    123|\n",
      "|          Charmander|  Fire|  309| 39|    52|     43|\n",
      "|          Charmeleon|  Fire|  405| 58|    64|     58|\n",
      "|           Charizard|  Fire|  534| 78|    84|     78|\n",
      "|CharizardMega Cha...|  Fire|  634| 78|   130|    111|\n",
      "|CharizardMega Cha...|  Fire|  634| 78|   104|     78|\n",
      "|            Squirtle| Water|  314| 44|    48|     65|\n",
      "|           Wartortle| Water|  405| 59|    63|     80|\n",
      "|           Blastoise| Water|  530| 79|    83|    100|\n",
      "|BlastoiseMega Bla...| Water|  630| 79|   103|    120|\n",
      "|            Caterpie|   Bug|  195| 45|    30|     35|\n",
      "|             Metapod|   Bug|  205| 50|    20|     55|\n",
      "|          Butterfree|   Bug|  395| 60|    45|     50|\n",
      "|              Weedle|   Bug|  195| 40|    35|     30|\n",
      "|              Kakuna|   Bug|  205| 45|    25|     50|\n",
      "|            Beedrill|   Bug|  395| 65|    90|     40|\n",
      "|BeedrillMega Beed...|   Bug|  495| 65|   150|     40|\n",
      "+--------------------+------+-----+---+------+-------+\n",
      "only showing top 20 rows\n",
      "\n"
     ]
    }
   ],
   "source": [
    "df_pyspark.show()"
   ]
  },
  {
   "cell_type": "code",
   "execution_count": 93,
   "id": "f75ef883",
   "metadata": {},
   "outputs": [],
   "source": [
    "# agrupamos todas las variables independientes\n",
    "from pyspark.ml.feature import VectorAssembler\n",
    "\n",
    "feat_asem = VectorAssembler(inputCols=['HP', 'Attack', 'Defense'],\n",
    "                            outputCol='Indep_feat')"
   ]
  },
  {
   "cell_type": "code",
   "execution_count": 94,
   "id": "34836f9c",
   "metadata": {},
   "outputs": [
    {
     "name": "stdout",
     "output_type": "stream",
     "text": [
      "+--------------------+------+-----+---+------+-------+------------------+\n",
      "|                Name|Type 1|Total| HP|Attack|Defense|        Indep_feat|\n",
      "+--------------------+------+-----+---+------+-------+------------------+\n",
      "|           Bulbasaur| Grass|  318| 45|    49|     49|  [45.0,49.0,49.0]|\n",
      "|             Ivysaur| Grass|  405| 60|    62|     63|  [60.0,62.0,63.0]|\n",
      "|            Venusaur| Grass|  525| 80|    82|     83|  [80.0,82.0,83.0]|\n",
      "|VenusaurMega Venu...| Grass|  625| 80|   100|    123|[80.0,100.0,123.0]|\n",
      "|          Charmander|  Fire|  309| 39|    52|     43|  [39.0,52.0,43.0]|\n",
      "|          Charmeleon|  Fire|  405| 58|    64|     58|  [58.0,64.0,58.0]|\n",
      "|           Charizard|  Fire|  534| 78|    84|     78|  [78.0,84.0,78.0]|\n",
      "|CharizardMega Cha...|  Fire|  634| 78|   130|    111|[78.0,130.0,111.0]|\n",
      "|CharizardMega Cha...|  Fire|  634| 78|   104|     78| [78.0,104.0,78.0]|\n",
      "|            Squirtle| Water|  314| 44|    48|     65|  [44.0,48.0,65.0]|\n",
      "|           Wartortle| Water|  405| 59|    63|     80|  [59.0,63.0,80.0]|\n",
      "|           Blastoise| Water|  530| 79|    83|    100| [79.0,83.0,100.0]|\n",
      "|BlastoiseMega Bla...| Water|  630| 79|   103|    120|[79.0,103.0,120.0]|\n",
      "|            Caterpie|   Bug|  195| 45|    30|     35|  [45.0,30.0,35.0]|\n",
      "|             Metapod|   Bug|  205| 50|    20|     55|  [50.0,20.0,55.0]|\n",
      "|          Butterfree|   Bug|  395| 60|    45|     50|  [60.0,45.0,50.0]|\n",
      "|              Weedle|   Bug|  195| 40|    35|     30|  [40.0,35.0,30.0]|\n",
      "|              Kakuna|   Bug|  205| 45|    25|     50|  [45.0,25.0,50.0]|\n",
      "|            Beedrill|   Bug|  395| 65|    90|     40|  [65.0,90.0,40.0]|\n",
      "|BeedrillMega Beed...|   Bug|  495| 65|   150|     40| [65.0,150.0,40.0]|\n",
      "+--------------------+------+-----+---+------+-------+------------------+\n",
      "only showing top 20 rows\n",
      "\n"
     ]
    }
   ],
   "source": [
    "output = feat_asem.transform(df_pyspark)\n",
    "output.show()"
   ]
  },
  {
   "cell_type": "markdown",
   "id": "e5cbb253",
   "metadata": {},
   "source": [
    "Se observa que crea una nueva columna de vectores, con las variables independientes que hemos definido"
   ]
  },
  {
   "cell_type": "markdown",
   "id": "e303d767",
   "metadata": {},
   "source": [
    "Nos quedamos únicamente con las columnas necesarias para entrenar al modelo"
   ]
  },
  {
   "cell_type": "code",
   "execution_count": 95,
   "id": "08529c9e",
   "metadata": {},
   "outputs": [
    {
     "name": "stdout",
     "output_type": "stream",
     "text": [
      "+-----+------------------+\n",
      "|Total|        Indep_feat|\n",
      "+-----+------------------+\n",
      "|  318|  [45.0,49.0,49.0]|\n",
      "|  405|  [60.0,62.0,63.0]|\n",
      "|  525|  [80.0,82.0,83.0]|\n",
      "|  625|[80.0,100.0,123.0]|\n",
      "|  309|  [39.0,52.0,43.0]|\n",
      "|  405|  [58.0,64.0,58.0]|\n",
      "|  534|  [78.0,84.0,78.0]|\n",
      "|  634|[78.0,130.0,111.0]|\n",
      "|  634| [78.0,104.0,78.0]|\n",
      "|  314|  [44.0,48.0,65.0]|\n",
      "|  405|  [59.0,63.0,80.0]|\n",
      "|  530| [79.0,83.0,100.0]|\n",
      "|  630|[79.0,103.0,120.0]|\n",
      "|  195|  [45.0,30.0,35.0]|\n",
      "|  205|  [50.0,20.0,55.0]|\n",
      "|  395|  [60.0,45.0,50.0]|\n",
      "|  195|  [40.0,35.0,30.0]|\n",
      "|  205|  [45.0,25.0,50.0]|\n",
      "|  395|  [65.0,90.0,40.0]|\n",
      "|  495| [65.0,150.0,40.0]|\n",
      "+-----+------------------+\n",
      "only showing top 20 rows\n",
      "\n"
     ]
    }
   ],
   "source": [
    "data = output.select('Total','Indep_feat')\n",
    "data.show()"
   ]
  },
  {
   "cell_type": "markdown",
   "id": "f5351412",
   "metadata": {},
   "source": [
    "Importamos el método de regresión lineal de PySpark"
   ]
  },
  {
   "cell_type": "code",
   "execution_count": 96,
   "id": "413b3641",
   "metadata": {},
   "outputs": [],
   "source": [
    "from pyspark.ml.regression import LinearRegression"
   ]
  },
  {
   "cell_type": "code",
   "execution_count": 97,
   "id": "b9d22d9b",
   "metadata": {},
   "outputs": [],
   "source": [
    "# Separamos los datos de entrenamiento y testeo\n",
    "\n",
    "train_data, test_data = data.randomSplit([0.8,0.2])  # Separación aleatoria del 80% para entrenar y el 20% para testeo"
   ]
  },
  {
   "cell_type": "markdown",
   "id": "40987641",
   "metadata": {},
   "source": [
    "Se crea una instancia de LinearRegression"
   ]
  },
  {
   "cell_type": "code",
   "execution_count": 99,
   "id": "a6be2d81",
   "metadata": {},
   "outputs": [],
   "source": [
    "# Definimos las variables independientes (featuresCol) y la columna objetivo (labelCol)\n",
    "reg = LinearRegression(featuresCol='Indep_feat', labelCol='Total')"
   ]
  },
  {
   "cell_type": "markdown",
   "id": "2cd150b1",
   "metadata": {},
   "source": [
    "Entrenamos el modelo"
   ]
  },
  {
   "cell_type": "code",
   "execution_count": 100,
   "id": "2ccb88d0",
   "metadata": {},
   "outputs": [],
   "source": [
    "reg = reg.fit(train_data)"
   ]
  },
  {
   "cell_type": "markdown",
   "id": "c6845488",
   "metadata": {},
   "source": [
    "Podemos examinar los coeficientes del modelo"
   ]
  },
  {
   "cell_type": "code",
   "execution_count": 101,
   "id": "a424f20f",
   "metadata": {},
   "outputs": [
    {
     "data": {
      "text/plain": [
       "DenseVector([1.5895, 1.627, 1.2738])"
      ]
     },
     "execution_count": 101,
     "metadata": {},
     "output_type": "execute_result"
    }
   ],
   "source": [
    "reg.coefficients"
   ]
  },
  {
   "cell_type": "code",
   "execution_count": 105,
   "id": "bd88598c",
   "metadata": {},
   "outputs": [
    {
     "data": {
      "text/plain": [
       "101.53502717221144"
      ]
     },
     "execution_count": 105,
     "metadata": {},
     "output_type": "execute_result"
    }
   ],
   "source": [
    "reg.intercept"
   ]
  },
  {
   "cell_type": "markdown",
   "id": "106f5138",
   "metadata": {},
   "source": [
    "Predicción"
   ]
  },
  {
   "cell_type": "code",
   "execution_count": 107,
   "id": "359c18de",
   "metadata": {},
   "outputs": [
    {
     "name": "stdout",
     "output_type": "stream",
     "text": [
      "+-----+----------------+------------------+\n",
      "|Total|      Indep_feat|        prediction|\n",
      "+-----+----------------+------------------+\n",
      "|  195|[45.0,45.0,35.0]| 290.8615076606625|\n",
      "|  200|[20.0,15.0,20.0]| 183.2066927861551|\n",
      "|  205|[45.0,25.0,50.0]| 277.4293251117482|\n",
      "|  215|[35.0,46.0,34.0]|275.31959153157436|\n",
      "|  245|[40.0,55.0,30.0]|  292.814657615686|\n",
      "|  250|[40.0,40.0,40.0]| 281.1482248426511|\n",
      "|  250|[70.0,20.0,50.0]| 309.0320571011322|\n",
      "|  260|[50.0,45.0,45.0]| 311.5474075935881|\n",
      "|  263|[45.0,65.0,34.0]| 322.1274038566878|\n",
      "|  266|[31.0,45.0,90.0]|338.66943304205734|\n",
      "|  269|[40.0,30.0,32.0]|254.68766488746394|\n",
      "|  273|[46.0,57.0,40.0]|318.34403744554845|\n",
      "|  280|[55.0,40.0,40.0]| 304.9908239690472|\n",
      "|  285|[45.0,30.0,50.0]| 285.5642583330243|\n",
      "|  288|[48.0,48.0,48.0]|  317.070864376739|\n",
      "|  295|[30.0,40.0,70.0]| 303.4682594307676|\n",
      "|  300|[40.0,40.0,55.0]| 300.2557751788414|\n",
      "|  300|[40.0,55.0,70.0]|343.76812517886015|\n",
      "|  300|[40.0,55.0,80.0]|356.50649206965375|\n",
      "|  300|[45.0,75.0,60.0]| 371.5170242153033|\n",
      "+-----+----------------+------------------+\n",
      "only showing top 20 rows\n",
      "\n"
     ]
    }
   ],
   "source": [
    "y_hat_train = reg.evaluate(test_data)\n",
    "y_hat_train.predictions.show()"
   ]
  },
  {
   "cell_type": "markdown",
   "id": "3330e9db",
   "metadata": {},
   "source": [
    "Puedo saber más parámetros de la predicción"
   ]
  },
  {
   "cell_type": "code",
   "execution_count": 108,
   "id": "f4881906",
   "metadata": {},
   "outputs": [
    {
     "data": {
      "text/plain": [
       "43.11486038903257"
      ]
     },
     "execution_count": 108,
     "metadata": {},
     "output_type": "execute_result"
    }
   ],
   "source": [
    "y_hat_train.meanAbsoluteError"
   ]
  },
  {
   "cell_type": "code",
   "execution_count": 110,
   "id": "7256d663",
   "metadata": {
    "scrolled": true
   },
   "outputs": [
    {
     "data": {
      "text/plain": [
       "1476.9755980985456"
      ]
     },
     "execution_count": 110,
     "metadata": {},
     "output_type": "execute_result"
    }
   ],
   "source": [
    "y_hat_train.meanSquaredError"
   ]
  },
  {
   "cell_type": "markdown",
   "id": "b3827318",
   "metadata": {},
   "source": [
    "# 7. **Variables categóricas** "
   ]
  },
  {
   "cell_type": "code",
   "execution_count": 111,
   "id": "edf198b3",
   "metadata": {},
   "outputs": [],
   "source": [
    "from pyspark.ml.feature import StringIndexer"
   ]
  },
  {
   "cell_type": "code",
   "execution_count": 112,
   "id": "d202bdf0",
   "metadata": {},
   "outputs": [
    {
     "name": "stdout",
     "output_type": "stream",
     "text": [
      "+--------------------+------+-----+---+------+-------+\n",
      "|                Name|Type 1|Total| HP|Attack|Defense|\n",
      "+--------------------+------+-----+---+------+-------+\n",
      "|           Bulbasaur| Grass|  318| 45|    49|     49|\n",
      "|             Ivysaur| Grass|  405| 60|    62|     63|\n",
      "|            Venusaur| Grass|  525| 80|    82|     83|\n",
      "|VenusaurMega Venu...| Grass|  625| 80|   100|    123|\n",
      "|          Charmander|  Fire|  309| 39|    52|     43|\n",
      "|          Charmeleon|  Fire|  405| 58|    64|     58|\n",
      "|           Charizard|  Fire|  534| 78|    84|     78|\n",
      "|CharizardMega Cha...|  Fire|  634| 78|   130|    111|\n",
      "|CharizardMega Cha...|  Fire|  634| 78|   104|     78|\n",
      "|            Squirtle| Water|  314| 44|    48|     65|\n",
      "|           Wartortle| Water|  405| 59|    63|     80|\n",
      "|           Blastoise| Water|  530| 79|    83|    100|\n",
      "|BlastoiseMega Bla...| Water|  630| 79|   103|    120|\n",
      "|            Caterpie|   Bug|  195| 45|    30|     35|\n",
      "|             Metapod|   Bug|  205| 50|    20|     55|\n",
      "|          Butterfree|   Bug|  395| 60|    45|     50|\n",
      "|              Weedle|   Bug|  195| 40|    35|     30|\n",
      "|              Kakuna|   Bug|  205| 45|    25|     50|\n",
      "|            Beedrill|   Bug|  395| 65|    90|     40|\n",
      "|BeedrillMega Beed...|   Bug|  495| 65|   150|     40|\n",
      "+--------------------+------+-----+---+------+-------+\n",
      "only showing top 20 rows\n",
      "\n"
     ]
    }
   ],
   "source": [
    "df_pyspark.show()"
   ]
  },
  {
   "cell_type": "markdown",
   "id": "40be408a",
   "metadata": {},
   "source": [
    "Vamos a trasformar la variable categórica Type 1"
   ]
  },
  {
   "cell_type": "code",
   "execution_count": 113,
   "id": "bfe5a81d",
   "metadata": {},
   "outputs": [],
   "source": [
    "indexer = StringIndexer(inputCol='Type 1', outputCol='Type_index')"
   ]
  },
  {
   "cell_type": "code",
   "execution_count": 116,
   "id": "9af55de7",
   "metadata": {},
   "outputs": [
    {
     "name": "stdout",
     "output_type": "stream",
     "text": [
      "+--------------------+------+-----+---+------+-------+----------+\n",
      "|                Name|Type 1|Total| HP|Attack|Defense|Type_index|\n",
      "+--------------------+------+-----+---+------+-------+----------+\n",
      "|           Bulbasaur| Grass|  318| 45|    49|     49|       2.0|\n",
      "|             Ivysaur| Grass|  405| 60|    62|     63|       2.0|\n",
      "|            Venusaur| Grass|  525| 80|    82|     83|       2.0|\n",
      "|VenusaurMega Venu...| Grass|  625| 80|   100|    123|       2.0|\n",
      "|          Charmander|  Fire|  309| 39|    52|     43|       5.0|\n",
      "|          Charmeleon|  Fire|  405| 58|    64|     58|       5.0|\n",
      "|           Charizard|  Fire|  534| 78|    84|     78|       5.0|\n",
      "|CharizardMega Cha...|  Fire|  634| 78|   130|    111|       5.0|\n",
      "|CharizardMega Cha...|  Fire|  634| 78|   104|     78|       5.0|\n",
      "|            Squirtle| Water|  314| 44|    48|     65|       0.0|\n",
      "|           Wartortle| Water|  405| 59|    63|     80|       0.0|\n",
      "|           Blastoise| Water|  530| 79|    83|    100|       0.0|\n",
      "|BlastoiseMega Bla...| Water|  630| 79|   103|    120|       0.0|\n",
      "|            Caterpie|   Bug|  195| 45|    30|     35|       3.0|\n",
      "|             Metapod|   Bug|  205| 50|    20|     55|       3.0|\n",
      "|          Butterfree|   Bug|  395| 60|    45|     50|       3.0|\n",
      "|              Weedle|   Bug|  195| 40|    35|     30|       3.0|\n",
      "|              Kakuna|   Bug|  205| 45|    25|     50|       3.0|\n",
      "|            Beedrill|   Bug|  395| 65|    90|     40|       3.0|\n",
      "|BeedrillMega Beed...|   Bug|  495| 65|   150|     40|       3.0|\n",
      "+--------------------+------+-----+---+------+-------+----------+\n",
      "only showing top 20 rows\n",
      "\n"
     ]
    }
   ],
   "source": [
    "df_index = indexer.fit(df_pyspark).transform(df_pyspark)\n",
    "df_index.show()"
   ]
  },
  {
   "cell_type": "code",
   "execution_count": null,
   "id": "ac62ca44",
   "metadata": {},
   "outputs": [],
   "source": []
  }
 ],
 "metadata": {
  "kernelspec": {
   "display_name": "Python 3 (ipykernel)",
   "language": "python",
   "name": "python3"
  },
  "language_info": {
   "codemirror_mode": {
    "name": "ipython",
    "version": 3
   },
   "file_extension": ".py",
   "mimetype": "text/x-python",
   "name": "python",
   "nbconvert_exporter": "python",
   "pygments_lexer": "ipython3",
   "version": "3.9.17"
  },
  "varInspector": {
   "cols": {
    "lenName": 16,
    "lenType": 16,
    "lenVar": 40
   },
   "kernels_config": {
    "python": {
     "delete_cmd_postfix": "",
     "delete_cmd_prefix": "del ",
     "library": "var_list.py",
     "varRefreshCmd": "print(var_dic_list())"
    },
    "r": {
     "delete_cmd_postfix": ") ",
     "delete_cmd_prefix": "rm(",
     "library": "var_list.r",
     "varRefreshCmd": "cat(var_dic_list()) "
    }
   },
   "types_to_exclude": [
    "module",
    "function",
    "builtin_function_or_method",
    "instance",
    "_Feature"
   ],
   "window_display": false
  }
 },
 "nbformat": 4,
 "nbformat_minor": 5
}

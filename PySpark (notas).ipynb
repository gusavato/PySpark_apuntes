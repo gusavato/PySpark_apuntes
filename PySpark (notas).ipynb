{
 "cells": [
  {
   "cell_type": "code",
   "execution_count": 1,
   "id": "d428cd4f",
   "metadata": {},
   "outputs": [],
   "source": [
    "import pyspark"
   ]
  },
  {
   "cell_type": "code",
   "execution_count": 2,
   "id": "9d2a6cf9",
   "metadata": {},
   "outputs": [],
   "source": [
    "from pyspark.sql import SparkSession"
   ]
  },
  {
   "cell_type": "code",
   "execution_count": 3,
   "id": "b95e0352",
   "metadata": {},
   "outputs": [],
   "source": [
    "spark = SparkSession.builder.appName('practica').getOrCreate()"
   ]
  },
  {
   "cell_type": "code",
   "execution_count": 4,
   "id": "1d0b41b8",
   "metadata": {},
   "outputs": [
    {
     "data": {
      "text/html": [
       "\n",
       "            <div>\n",
       "                <p><b>SparkSession - in-memory</b></p>\n",
       "                \n",
       "        <div>\n",
       "            <p><b>SparkContext</b></p>\n",
       "\n",
       "            <p><a href=\"http://G-57:4040\">Spark UI</a></p>\n",
       "\n",
       "            <dl>\n",
       "              <dt>Version</dt>\n",
       "                <dd><code>v3.3.2</code></dd>\n",
       "              <dt>Master</dt>\n",
       "                <dd><code>local[*]</code></dd>\n",
       "              <dt>AppName</dt>\n",
       "                <dd><code>practica</code></dd>\n",
       "            </dl>\n",
       "        </div>\n",
       "        \n",
       "            </div>\n",
       "        "
      ],
      "text/plain": [
       "<pyspark.sql.session.SparkSession at 0x299ea2f6f40>"
      ]
     },
     "execution_count": 4,
     "metadata": {},
     "output_type": "execute_result"
    }
   ],
   "source": [
    "spark"
   ]
  },
  {
   "cell_type": "markdown",
   "id": "5e2d9f03",
   "metadata": {},
   "source": [
    "# 1. **Introducción**"
   ]
  },
  {
   "cell_type": "code",
   "execution_count": 5,
   "id": "070a3471",
   "metadata": {},
   "outputs": [],
   "source": [
    "df_pyspark = spark.read.csv('Pokemon.csv')"
   ]
  },
  {
   "cell_type": "code",
   "execution_count": 6,
   "id": "40c10e29",
   "metadata": {},
   "outputs": [
    {
     "name": "stdout",
     "output_type": "stream",
     "text": [
      "+---+--------------------+------+------+-----+---+------+-------+-------+-------+-----+----------+---------+\n",
      "|_c0|                 _c1|   _c2|   _c3|  _c4|_c5|   _c6|    _c7|    _c8|    _c9| _c10|      _c11|     _c12|\n",
      "+---+--------------------+------+------+-----+---+------+-------+-------+-------+-----+----------+---------+\n",
      "|  #|                Name|Type 1|Type 2|Total| HP|Attack|Defense|Sp. Atk|Sp. Def|Speed|Generation|Legendary|\n",
      "|  1|           Bulbasaur| Grass|Poison|  318| 45|    49|     49|     65|     65|   45|         1|    False|\n",
      "|  2|             Ivysaur| Grass|Poison|  405| 60|    62|     63|     80|     80|   60|         1|    False|\n",
      "|  3|            Venusaur| Grass|Poison|  525| 80|    82|     83|    100|    100|   80|         1|    False|\n",
      "|  3|VenusaurMega Venu...| Grass|Poison|  625| 80|   100|    123|    122|    120|   80|         1|    False|\n",
      "|  4|          Charmander|  Fire|  null|  309| 39|    52|     43|     60|     50|   65|         1|    False|\n",
      "|  5|          Charmeleon|  Fire|  null|  405| 58|    64|     58|     80|     65|   80|         1|    False|\n",
      "|  6|           Charizard|  Fire|Flying|  534| 78|    84|     78|    109|     85|  100|         1|    False|\n",
      "|  6|CharizardMega Cha...|  Fire|Dragon|  634| 78|   130|    111|    130|     85|  100|         1|    False|\n",
      "|  6|CharizardMega Cha...|  Fire|Flying|  634| 78|   104|     78|    159|    115|  100|         1|    False|\n",
      "|  7|            Squirtle| Water|  null|  314| 44|    48|     65|     50|     64|   43|         1|    False|\n",
      "|  8|           Wartortle| Water|  null|  405| 59|    63|     80|     65|     80|   58|         1|    False|\n",
      "|  9|           Blastoise| Water|  null|  530| 79|    83|    100|     85|    105|   78|         1|    False|\n",
      "|  9|BlastoiseMega Bla...| Water|  null|  630| 79|   103|    120|    135|    115|   78|         1|    False|\n",
      "| 10|            Caterpie|   Bug|  null|  195| 45|    30|     35|     20|     20|   45|         1|    False|\n",
      "| 11|             Metapod|   Bug|  null|  205| 50|    20|     55|     25|     25|   30|         1|    False|\n",
      "| 12|          Butterfree|   Bug|Flying|  395| 60|    45|     50|     90|     80|   70|         1|    False|\n",
      "| 13|              Weedle|   Bug|Poison|  195| 40|    35|     30|     20|     20|   50|         1|    False|\n",
      "| 14|              Kakuna|   Bug|Poison|  205| 45|    25|     50|     25|     25|   35|         1|    False|\n",
      "| 15|            Beedrill|   Bug|Poison|  395| 65|    90|     40|     45|     80|   75|         1|    False|\n",
      "+---+--------------------+------+------+-----+---+------+-------+-------+-------+-----+----------+---------+\n",
      "only showing top 20 rows\n",
      "\n"
     ]
    }
   ],
   "source": [
    " df_pyspark.show()"
   ]
  },
  {
   "cell_type": "markdown",
   "id": "a31054bd",
   "metadata": {},
   "source": [
    "El método option permite añadir un key y un value como string, para agregar opciones de lectura"
   ]
  },
  {
   "cell_type": "code",
   "execution_count": 7,
   "id": "9e998c1d",
   "metadata": {},
   "outputs": [],
   "source": [
    "# Establecemos que la primera línea son los encabezados de las columnas\n",
    "\n",
    "df_pyspark = spark.read.option('header','true').csv('Pokemon.csv')"
   ]
  },
  {
   "cell_type": "code",
   "execution_count": 8,
   "id": "a3c3b6dc",
   "metadata": {},
   "outputs": [
    {
     "name": "stdout",
     "output_type": "stream",
     "text": [
      "+---+--------------------+------+------+-----+---+------+-------+-------+-------+-----+----------+---------+\n",
      "|  #|                Name|Type 1|Type 2|Total| HP|Attack|Defense|Sp. Atk|Sp. Def|Speed|Generation|Legendary|\n",
      "+---+--------------------+------+------+-----+---+------+-------+-------+-------+-----+----------+---------+\n",
      "|  1|           Bulbasaur| Grass|Poison|  318| 45|    49|     49|     65|     65|   45|         1|    False|\n",
      "|  2|             Ivysaur| Grass|Poison|  405| 60|    62|     63|     80|     80|   60|         1|    False|\n",
      "|  3|            Venusaur| Grass|Poison|  525| 80|    82|     83|    100|    100|   80|         1|    False|\n",
      "|  3|VenusaurMega Venu...| Grass|Poison|  625| 80|   100|    123|    122|    120|   80|         1|    False|\n",
      "|  4|          Charmander|  Fire|  null|  309| 39|    52|     43|     60|     50|   65|         1|    False|\n",
      "|  5|          Charmeleon|  Fire|  null|  405| 58|    64|     58|     80|     65|   80|         1|    False|\n",
      "|  6|           Charizard|  Fire|Flying|  534| 78|    84|     78|    109|     85|  100|         1|    False|\n",
      "|  6|CharizardMega Cha...|  Fire|Dragon|  634| 78|   130|    111|    130|     85|  100|         1|    False|\n",
      "|  6|CharizardMega Cha...|  Fire|Flying|  634| 78|   104|     78|    159|    115|  100|         1|    False|\n",
      "|  7|            Squirtle| Water|  null|  314| 44|    48|     65|     50|     64|   43|         1|    False|\n",
      "|  8|           Wartortle| Water|  null|  405| 59|    63|     80|     65|     80|   58|         1|    False|\n",
      "|  9|           Blastoise| Water|  null|  530| 79|    83|    100|     85|    105|   78|         1|    False|\n",
      "|  9|BlastoiseMega Bla...| Water|  null|  630| 79|   103|    120|    135|    115|   78|         1|    False|\n",
      "| 10|            Caterpie|   Bug|  null|  195| 45|    30|     35|     20|     20|   45|         1|    False|\n",
      "| 11|             Metapod|   Bug|  null|  205| 50|    20|     55|     25|     25|   30|         1|    False|\n",
      "| 12|          Butterfree|   Bug|Flying|  395| 60|    45|     50|     90|     80|   70|         1|    False|\n",
      "| 13|              Weedle|   Bug|Poison|  195| 40|    35|     30|     20|     20|   50|         1|    False|\n",
      "| 14|              Kakuna|   Bug|Poison|  205| 45|    25|     50|     25|     25|   35|         1|    False|\n",
      "| 15|            Beedrill|   Bug|Poison|  395| 65|    90|     40|     45|     80|   75|         1|    False|\n",
      "| 15|BeedrillMega Beed...|   Bug|Poison|  495| 65|   150|     40|     15|     80|  145|         1|    False|\n",
      "+---+--------------------+------+------+-----+---+------+-------+-------+-------+-----+----------+---------+\n",
      "only showing top 20 rows\n",
      "\n"
     ]
    }
   ],
   "source": [
    "df_pyspark.show()"
   ]
  },
  {
   "cell_type": "code",
   "execution_count": 9,
   "id": "17f22510",
   "metadata": {},
   "outputs": [
    {
     "data": {
      "text/plain": [
       "pyspark.sql.dataframe.DataFrame"
      ]
     },
     "execution_count": 9,
     "metadata": {},
     "output_type": "execute_result"
    }
   ],
   "source": [
    "type(df_pyspark)"
   ]
  },
  {
   "cell_type": "code",
   "execution_count": 10,
   "id": "cb4738cd",
   "metadata": {},
   "outputs": [
    {
     "data": {
      "text/plain": [
       "Row(#='1', Name='Bulbasaur', Type 1='Grass', Type 2='Poison', Total='318', HP='45', Attack='49', Defense='49', Sp. Atk='65', Sp. Def='65', Speed='45', Generation='1', Legendary='False')"
      ]
     },
     "execution_count": 10,
     "metadata": {},
     "output_type": "execute_result"
    }
   ],
   "source": [
    "# Tenemos métodos parecidos a pandas\n",
    "\n",
    "df_pyspark.head()     # Devuelve primera fila "
   ]
  },
  {
   "cell_type": "code",
   "execution_count": 11,
   "id": "b8befc51",
   "metadata": {},
   "outputs": [
    {
     "data": {
      "text/plain": [
       "[Row(#='1', Name='Bulbasaur', Type 1='Grass', Type 2='Poison', Total='318', HP='45', Attack='49', Defense='49', Sp. Atk='65', Sp. Def='65', Speed='45', Generation='1', Legendary='False'),\n",
       " Row(#='2', Name='Ivysaur', Type 1='Grass', Type 2='Poison', Total='405', HP='60', Attack='62', Defense='63', Sp. Atk='80', Sp. Def='80', Speed='60', Generation='1', Legendary='False'),\n",
       " Row(#='3', Name='Venusaur', Type 1='Grass', Type 2='Poison', Total='525', HP='80', Attack='82', Defense='83', Sp. Atk='100', Sp. Def='100', Speed='80', Generation='1', Legendary='False'),\n",
       " Row(#='3', Name='VenusaurMega Venusaur', Type 1='Grass', Type 2='Poison', Total='625', HP='80', Attack='100', Defense='123', Sp. Atk='122', Sp. Def='120', Speed='80', Generation='1', Legendary='False')]"
      ]
     },
     "execution_count": 11,
     "metadata": {},
     "output_type": "execute_result"
    }
   ],
   "source": [
    "df_pyspark.head(4)"
   ]
  },
  {
   "cell_type": "code",
   "execution_count": 12,
   "id": "86ad963e",
   "metadata": {},
   "outputs": [
    {
     "name": "stdout",
     "output_type": "stream",
     "text": [
      "root\n",
      " |-- #: string (nullable = true)\n",
      " |-- Name: string (nullable = true)\n",
      " |-- Type 1: string (nullable = true)\n",
      " |-- Type 2: string (nullable = true)\n",
      " |-- Total: string (nullable = true)\n",
      " |-- HP: string (nullable = true)\n",
      " |-- Attack: string (nullable = true)\n",
      " |-- Defense: string (nullable = true)\n",
      " |-- Sp. Atk: string (nullable = true)\n",
      " |-- Sp. Def: string (nullable = true)\n",
      " |-- Speed: string (nullable = true)\n",
      " |-- Generation: string (nullable = true)\n",
      " |-- Legendary: string (nullable = true)\n",
      "\n"
     ]
    }
   ],
   "source": [
    "# Similar a info() de pandas. Información de los tipos de las columnas\n",
    "\n",
    "df_pyspark.printSchema()"
   ]
  },
  {
   "cell_type": "markdown",
   "id": "8ba15e66",
   "metadata": {},
   "source": [
    "# 2. **Manejo Dataframes**"
   ]
  },
  {
   "cell_type": "markdown",
   "id": "68e0d2e1",
   "metadata": {},
   "source": [
    "Observamos que el tipo de dato es todo string, cuando muchos de ellos son int. Esto es debido a que por defecto PySpark establece como string todos los tipos"
   ]
  },
  {
   "cell_type": "code",
   "execution_count": 13,
   "id": "f214e8b6",
   "metadata": {},
   "outputs": [
    {
     "name": "stdout",
     "output_type": "stream",
     "text": [
      "root\n",
      " |-- #: string (nullable = true)\n",
      " |-- Name: string (nullable = true)\n",
      " |-- Type 1: string (nullable = true)\n",
      " |-- Type 2: string (nullable = true)\n",
      " |-- Total: string (nullable = true)\n",
      " |-- HP: string (nullable = true)\n",
      " |-- Attack: string (nullable = true)\n",
      " |-- Defense: string (nullable = true)\n",
      " |-- Sp. Atk: string (nullable = true)\n",
      " |-- Sp. Def: string (nullable = true)\n",
      " |-- Speed: string (nullable = true)\n",
      " |-- Generation: string (nullable = true)\n",
      " |-- Legendary: string (nullable = true)\n",
      "\n"
     ]
    }
   ],
   "source": [
    "df_pyspark.printSchema()"
   ]
  },
  {
   "cell_type": "markdown",
   "id": "51224817",
   "metadata": {},
   "source": [
    "Se soluciona con el parámetro *inferSchema*, del método *csv*"
   ]
  },
  {
   "cell_type": "code",
   "execution_count": 14,
   "id": "9353132b",
   "metadata": {},
   "outputs": [
    {
     "name": "stdout",
     "output_type": "stream",
     "text": [
      "root\n",
      " |-- #: integer (nullable = true)\n",
      " |-- Name: string (nullable = true)\n",
      " |-- Type 1: string (nullable = true)\n",
      " |-- Type 2: string (nullable = true)\n",
      " |-- Total: integer (nullable = true)\n",
      " |-- HP: integer (nullable = true)\n",
      " |-- Attack: integer (nullable = true)\n",
      " |-- Defense: integer (nullable = true)\n",
      " |-- Sp. Atk: integer (nullable = true)\n",
      " |-- Sp. Def: integer (nullable = true)\n",
      " |-- Speed: integer (nullable = true)\n",
      " |-- Generation: integer (nullable = true)\n",
      " |-- Legendary: boolean (nullable = true)\n",
      "\n"
     ]
    }
   ],
   "source": [
    "df_pyspark = spark.read.option('header','true').csv('Pokemon.csv',inferSchema=True)\n",
    "df_pyspark.printSchema()"
   ]
  },
  {
   "cell_type": "markdown",
   "id": "9574e87b",
   "metadata": {},
   "source": [
    "La etiqueta nullable significa que la columna puede albergar nulos (que sea True no significa que tenga nulos, si no que puede tenerlos)"
   ]
  },
  {
   "cell_type": "markdown",
   "id": "95057da5",
   "metadata": {},
   "source": [
    "Otra forma de hacerlo"
   ]
  },
  {
   "cell_type": "code",
   "execution_count": 15,
   "id": "2b6501b2",
   "metadata": {},
   "outputs": [
    {
     "name": "stdout",
     "output_type": "stream",
     "text": [
      "root\n",
      " |-- #: integer (nullable = true)\n",
      " |-- Name: string (nullable = true)\n",
      " |-- Type 1: string (nullable = true)\n",
      " |-- Type 2: string (nullable = true)\n",
      " |-- Total: integer (nullable = true)\n",
      " |-- HP: integer (nullable = true)\n",
      " |-- Attack: integer (nullable = true)\n",
      " |-- Defense: integer (nullable = true)\n",
      " |-- Sp. Atk: integer (nullable = true)\n",
      " |-- Sp. Def: integer (nullable = true)\n",
      " |-- Speed: integer (nullable = true)\n",
      " |-- Generation: integer (nullable = true)\n",
      " |-- Legendary: boolean (nullable = true)\n",
      "\n"
     ]
    }
   ],
   "source": [
    "df_pyspark = spark.read.csv('Pokemon.csv',inferSchema=True,header=True)\n",
    "df_pyspark.printSchema()"
   ]
  },
  {
   "cell_type": "code",
   "execution_count": 16,
   "id": "68b00195",
   "metadata": {},
   "outputs": [
    {
     "name": "stdout",
     "output_type": "stream",
     "text": [
      "+---+--------------------+------+------+-----+---+------+-------+-------+-------+-----+----------+---------+\n",
      "|  #|                Name|Type 1|Type 2|Total| HP|Attack|Defense|Sp. Atk|Sp. Def|Speed|Generation|Legendary|\n",
      "+---+--------------------+------+------+-----+---+------+-------+-------+-------+-----+----------+---------+\n",
      "|  1|           Bulbasaur| Grass|Poison|  318| 45|    49|     49|     65|     65|   45|         1|    false|\n",
      "|  2|             Ivysaur| Grass|Poison|  405| 60|    62|     63|     80|     80|   60|         1|    false|\n",
      "|  3|            Venusaur| Grass|Poison|  525| 80|    82|     83|    100|    100|   80|         1|    false|\n",
      "|  3|VenusaurMega Venu...| Grass|Poison|  625| 80|   100|    123|    122|    120|   80|         1|    false|\n",
      "|  4|          Charmander|  Fire|  null|  309| 39|    52|     43|     60|     50|   65|         1|    false|\n",
      "|  5|          Charmeleon|  Fire|  null|  405| 58|    64|     58|     80|     65|   80|         1|    false|\n",
      "|  6|           Charizard|  Fire|Flying|  534| 78|    84|     78|    109|     85|  100|         1|    false|\n",
      "|  6|CharizardMega Cha...|  Fire|Dragon|  634| 78|   130|    111|    130|     85|  100|         1|    false|\n",
      "|  6|CharizardMega Cha...|  Fire|Flying|  634| 78|   104|     78|    159|    115|  100|         1|    false|\n",
      "|  7|            Squirtle| Water|  null|  314| 44|    48|     65|     50|     64|   43|         1|    false|\n",
      "|  8|           Wartortle| Water|  null|  405| 59|    63|     80|     65|     80|   58|         1|    false|\n",
      "|  9|           Blastoise| Water|  null|  530| 79|    83|    100|     85|    105|   78|         1|    false|\n",
      "|  9|BlastoiseMega Bla...| Water|  null|  630| 79|   103|    120|    135|    115|   78|         1|    false|\n",
      "| 10|            Caterpie|   Bug|  null|  195| 45|    30|     35|     20|     20|   45|         1|    false|\n",
      "| 11|             Metapod|   Bug|  null|  205| 50|    20|     55|     25|     25|   30|         1|    false|\n",
      "| 12|          Butterfree|   Bug|Flying|  395| 60|    45|     50|     90|     80|   70|         1|    false|\n",
      "| 13|              Weedle|   Bug|Poison|  195| 40|    35|     30|     20|     20|   50|         1|    false|\n",
      "| 14|              Kakuna|   Bug|Poison|  205| 45|    25|     50|     25|     25|   35|         1|    false|\n",
      "| 15|            Beedrill|   Bug|Poison|  395| 65|    90|     40|     45|     80|   75|         1|    false|\n",
      "| 15|BeedrillMega Beed...|   Bug|Poison|  495| 65|   150|     40|     15|     80|  145|         1|    false|\n",
      "+---+--------------------+------+------+-----+---+------+-------+-------+-------+-----+----------+---------+\n",
      "only showing top 20 rows\n",
      "\n"
     ]
    }
   ],
   "source": [
    "df_pyspark.show()"
   ]
  },
  {
   "cell_type": "code",
   "execution_count": 17,
   "id": "886cdf22",
   "metadata": {},
   "outputs": [
    {
     "data": {
      "text/plain": [
       "pyspark.sql.dataframe.DataFrame"
      ]
     },
     "execution_count": 17,
     "metadata": {},
     "output_type": "execute_result"
    }
   ],
   "source": [
    "type(df_pyspark)"
   ]
  },
  {
   "cell_type": "markdown",
   "id": "6ae3d0a4",
   "metadata": {},
   "source": [
    "Obtener nombre de columnas, y seleccionar columnas"
   ]
  },
  {
   "cell_type": "code",
   "execution_count": 18,
   "id": "54af9da5",
   "metadata": {},
   "outputs": [
    {
     "data": {
      "text/plain": [
       "['#',\n",
       " 'Name',\n",
       " 'Type 1',\n",
       " 'Type 2',\n",
       " 'Total',\n",
       " 'HP',\n",
       " 'Attack',\n",
       " 'Defense',\n",
       " 'Sp. Atk',\n",
       " 'Sp. Def',\n",
       " 'Speed',\n",
       " 'Generation',\n",
       " 'Legendary']"
      ]
     },
     "execution_count": 18,
     "metadata": {},
     "output_type": "execute_result"
    }
   ],
   "source": [
    "df_pyspark.columns"
   ]
  },
  {
   "cell_type": "code",
   "execution_count": 19,
   "id": "3426f8e3",
   "metadata": {},
   "outputs": [
    {
     "data": {
      "text/plain": [
       "DataFrame[Name: string]"
      ]
     },
     "execution_count": 19,
     "metadata": {},
     "output_type": "execute_result"
    }
   ],
   "source": [
    "# Me devulve un dataframe\n",
    "\n",
    "df_pyspark.select('Name')"
   ]
  },
  {
   "cell_type": "code",
   "execution_count": 20,
   "id": "9e6d5a6b",
   "metadata": {},
   "outputs": [
    {
     "name": "stdout",
     "output_type": "stream",
     "text": [
      "+--------------------+\n",
      "|                Name|\n",
      "+--------------------+\n",
      "|           Bulbasaur|\n",
      "|             Ivysaur|\n",
      "|            Venusaur|\n",
      "|VenusaurMega Venu...|\n",
      "|          Charmander|\n",
      "|          Charmeleon|\n",
      "|           Charizard|\n",
      "|CharizardMega Cha...|\n",
      "|CharizardMega Cha...|\n",
      "|            Squirtle|\n",
      "|           Wartortle|\n",
      "|           Blastoise|\n",
      "|BlastoiseMega Bla...|\n",
      "|            Caterpie|\n",
      "|             Metapod|\n",
      "|          Butterfree|\n",
      "|              Weedle|\n",
      "|              Kakuna|\n",
      "|            Beedrill|\n",
      "|BeedrillMega Beed...|\n",
      "+--------------------+\n",
      "only showing top 20 rows\n",
      "\n"
     ]
    }
   ],
   "source": [
    "df_pyspark.select('Name').show()"
   ]
  },
  {
   "cell_type": "code",
   "execution_count": 21,
   "id": "b273bbd7",
   "metadata": {},
   "outputs": [
    {
     "name": "stdout",
     "output_type": "stream",
     "text": [
      "+--------------------+------+-----+\n",
      "|                Name|Type 1|Total|\n",
      "+--------------------+------+-----+\n",
      "|           Bulbasaur| Grass|  318|\n",
      "|             Ivysaur| Grass|  405|\n",
      "|            Venusaur| Grass|  525|\n",
      "|VenusaurMega Venu...| Grass|  625|\n",
      "|          Charmander|  Fire|  309|\n",
      "|          Charmeleon|  Fire|  405|\n",
      "|           Charizard|  Fire|  534|\n",
      "|CharizardMega Cha...|  Fire|  634|\n",
      "|CharizardMega Cha...|  Fire|  634|\n",
      "|            Squirtle| Water|  314|\n",
      "|           Wartortle| Water|  405|\n",
      "|           Blastoise| Water|  530|\n",
      "|BlastoiseMega Bla...| Water|  630|\n",
      "|            Caterpie|   Bug|  195|\n",
      "|             Metapod|   Bug|  205|\n",
      "|          Butterfree|   Bug|  395|\n",
      "|              Weedle|   Bug|  195|\n",
      "|              Kakuna|   Bug|  205|\n",
      "|            Beedrill|   Bug|  395|\n",
      "|BeedrillMega Beed...|   Bug|  495|\n",
      "+--------------------+------+-----+\n",
      "only showing top 20 rows\n",
      "\n"
     ]
    }
   ],
   "source": [
    "# Selección de múltiples columnas\n",
    "\n",
    "df_pyspark.select(['Name','Type 1','Total']).show()"
   ]
  },
  {
   "cell_type": "markdown",
   "id": "d0d45e3d",
   "metadata": {},
   "source": [
    "**IMPORTANTE:** En PySpark no funciona el slicing"
   ]
  },
  {
   "cell_type": "code",
   "execution_count": 22,
   "id": "6565b5f7",
   "metadata": {},
   "outputs": [
    {
     "data": {
      "text/plain": [
       "Column<'Name'>"
      ]
     },
     "execution_count": 22,
     "metadata": {},
     "output_type": "execute_result"
    }
   ],
   "source": [
    "df_pyspark['Name']"
   ]
  },
  {
   "cell_type": "markdown",
   "id": "eb1fb83a",
   "metadata": {},
   "source": [
    "Chequear los tipos de dato"
   ]
  },
  {
   "cell_type": "code",
   "execution_count": 23,
   "id": "2de22be6",
   "metadata": {},
   "outputs": [
    {
     "data": {
      "text/plain": [
       "[('#', 'int'),\n",
       " ('Name', 'string'),\n",
       " ('Type 1', 'string'),\n",
       " ('Type 2', 'string'),\n",
       " ('Total', 'int'),\n",
       " ('HP', 'int'),\n",
       " ('Attack', 'int'),\n",
       " ('Defense', 'int'),\n",
       " ('Sp. Atk', 'int'),\n",
       " ('Sp. Def', 'int'),\n",
       " ('Speed', 'int'),\n",
       " ('Generation', 'int'),\n",
       " ('Legendary', 'boolean')]"
      ]
     },
     "execution_count": 23,
     "metadata": {},
     "output_type": "execute_result"
    }
   ],
   "source": [
    "# Devuelve lista de tuplas\n",
    "\n",
    "df_pyspark.dtypes"
   ]
  },
  {
   "cell_type": "markdown",
   "id": "709c89f3",
   "metadata": {},
   "source": [
    "Describe"
   ]
  },
  {
   "cell_type": "code",
   "execution_count": 24,
   "id": "fe8e5ff1",
   "metadata": {},
   "outputs": [
    {
     "name": "stdout",
     "output_type": "stream",
     "text": [
      "+-------+------------------+----------------+------+------+------------------+------------------+-----------------+------------------+----------------+-----------------+------------------+------------------+\n",
      "|summary|                 #|            Name|Type 1|Type 2|             Total|                HP|           Attack|           Defense|         Sp. Atk|          Sp. Def|             Speed|        Generation|\n",
      "+-------+------------------+----------------+------+------+------------------+------------------+-----------------+------------------+----------------+-----------------+------------------+------------------+\n",
      "|  count|               800|             800|   800|   414|               800|               800|              800|               800|             800|              800|               800|               800|\n",
      "|   mean|         362.81375|            null|  null|  null|          435.1025|          69.25875|         79.00125|           73.8425|           72.82|          71.9025|           68.2775|           3.32375|\n",
      "| stddev|208.34379756406656|            null|  null|  null|119.96303975551908|25.534669032332076|32.45736586949845|31.183500559332924|32.7222941688016|27.82891579711746|29.060473717161447|1.6612904004849451|\n",
      "|    min|                 1|       Abomasnow|   Bug|   Bug|               180|                 1|                5|                 5|              10|               20|                 5|                 1|\n",
      "|    max|               721|Zygarde50% Forme| Water| Water|               780|               255|              190|               230|             194|              230|               180|                 6|\n",
      "+-------+------------------+----------------+------+------+------------------+------------------+-----------------+------------------+----------------+-----------------+------------------+------------------+\n",
      "\n"
     ]
    }
   ],
   "source": [
    "# Mexzcla object y no object\n",
    "\n",
    "df_pyspark.describe().show()"
   ]
  },
  {
   "cell_type": "markdown",
   "id": "7b97cac1",
   "metadata": {},
   "source": [
    "Añadir y eliminar columnas de un dataframe"
   ]
  },
  {
   "cell_type": "markdown",
   "id": "793c0d83",
   "metadata": {},
   "source": [
    "Se añaden con el método del dataframe *withcolumn* que nos permite editar columnas. Introducimos los parámetros:\n",
    "- **col_name** : Nombre de la nueva columna\n",
    "- **col** : Expresión para el valor de la nueva columna\n",
    "\n",
    "**NOTA:** No es un método permanente, genera una copia del dataframe con la nueva columna."
   ]
  },
  {
   "cell_type": "code",
   "execution_count": 25,
   "id": "ffbf13a2",
   "metadata": {},
   "outputs": [
    {
     "name": "stdout",
     "output_type": "stream",
     "text": [
      "+---+--------------------+------+------+-----+---+------+-------+-------+-------+-----+----------+---------+-----------+\n",
      "|  #|                Name|Type 1|Type 2|Total| HP|Attack|Defense|Sp. Atk|Sp. Def|Speed|Generation|Legendary|Total + 100|\n",
      "+---+--------------------+------+------+-----+---+------+-------+-------+-------+-----+----------+---------+-----------+\n",
      "|  1|           Bulbasaur| Grass|Poison|  318| 45|    49|     49|     65|     65|   45|         1|    false|        418|\n",
      "|  2|             Ivysaur| Grass|Poison|  405| 60|    62|     63|     80|     80|   60|         1|    false|        505|\n",
      "|  3|            Venusaur| Grass|Poison|  525| 80|    82|     83|    100|    100|   80|         1|    false|        625|\n",
      "|  3|VenusaurMega Venu...| Grass|Poison|  625| 80|   100|    123|    122|    120|   80|         1|    false|        725|\n",
      "|  4|          Charmander|  Fire|  null|  309| 39|    52|     43|     60|     50|   65|         1|    false|        409|\n",
      "|  5|          Charmeleon|  Fire|  null|  405| 58|    64|     58|     80|     65|   80|         1|    false|        505|\n",
      "|  6|           Charizard|  Fire|Flying|  534| 78|    84|     78|    109|     85|  100|         1|    false|        634|\n",
      "|  6|CharizardMega Cha...|  Fire|Dragon|  634| 78|   130|    111|    130|     85|  100|         1|    false|        734|\n",
      "|  6|CharizardMega Cha...|  Fire|Flying|  634| 78|   104|     78|    159|    115|  100|         1|    false|        734|\n",
      "|  7|            Squirtle| Water|  null|  314| 44|    48|     65|     50|     64|   43|         1|    false|        414|\n",
      "|  8|           Wartortle| Water|  null|  405| 59|    63|     80|     65|     80|   58|         1|    false|        505|\n",
      "|  9|           Blastoise| Water|  null|  530| 79|    83|    100|     85|    105|   78|         1|    false|        630|\n",
      "|  9|BlastoiseMega Bla...| Water|  null|  630| 79|   103|    120|    135|    115|   78|         1|    false|        730|\n",
      "| 10|            Caterpie|   Bug|  null|  195| 45|    30|     35|     20|     20|   45|         1|    false|        295|\n",
      "| 11|             Metapod|   Bug|  null|  205| 50|    20|     55|     25|     25|   30|         1|    false|        305|\n",
      "| 12|          Butterfree|   Bug|Flying|  395| 60|    45|     50|     90|     80|   70|         1|    false|        495|\n",
      "| 13|              Weedle|   Bug|Poison|  195| 40|    35|     30|     20|     20|   50|         1|    false|        295|\n",
      "| 14|              Kakuna|   Bug|Poison|  205| 45|    25|     50|     25|     25|   35|         1|    false|        305|\n",
      "| 15|            Beedrill|   Bug|Poison|  395| 65|    90|     40|     45|     80|   75|         1|    false|        495|\n",
      "| 15|BeedrillMega Beed...|   Bug|Poison|  495| 65|   150|     40|     15|     80|  145|         1|    false|        595|\n",
      "+---+--------------------+------+------+-----+---+------+-------+-------+-------+-----+----------+---------+-----------+\n",
      "only showing top 20 rows\n",
      "\n"
     ]
    }
   ],
   "source": [
    "df_pyspark.withColumn('Total + 100', df_pyspark['Total'] + 100 ).show()"
   ]
  },
  {
   "cell_type": "code",
   "execution_count": 26,
   "id": "8a22058d",
   "metadata": {},
   "outputs": [
    {
     "name": "stdout",
     "output_type": "stream",
     "text": [
      "+---+--------------------+------+------+-----+---+------+-------+-------+-------+-----+----------+---------+\n",
      "|  #|                Name|Type 1|Type 2|Total| HP|Attack|Defense|Sp. Atk|Sp. Def|Speed|Generation|Legendary|\n",
      "+---+--------------------+------+------+-----+---+------+-------+-------+-------+-----+----------+---------+\n",
      "|  1|           Bulbasaur| Grass|Poison|  318| 45|    49|     49|     65|     65|   45|         1|    false|\n",
      "|  2|             Ivysaur| Grass|Poison|  405| 60|    62|     63|     80|     80|   60|         1|    false|\n",
      "|  3|            Venusaur| Grass|Poison|  525| 80|    82|     83|    100|    100|   80|         1|    false|\n",
      "|  3|VenusaurMega Venu...| Grass|Poison|  625| 80|   100|    123|    122|    120|   80|         1|    false|\n",
      "|  4|          Charmander|  Fire|  null|  309| 39|    52|     43|     60|     50|   65|         1|    false|\n",
      "|  5|          Charmeleon|  Fire|  null|  405| 58|    64|     58|     80|     65|   80|         1|    false|\n",
      "|  6|           Charizard|  Fire|Flying|  534| 78|    84|     78|    109|     85|  100|         1|    false|\n",
      "|  6|CharizardMega Cha...|  Fire|Dragon|  634| 78|   130|    111|    130|     85|  100|         1|    false|\n",
      "|  6|CharizardMega Cha...|  Fire|Flying|  634| 78|   104|     78|    159|    115|  100|         1|    false|\n",
      "|  7|            Squirtle| Water|  null|  314| 44|    48|     65|     50|     64|   43|         1|    false|\n",
      "|  8|           Wartortle| Water|  null|  405| 59|    63|     80|     65|     80|   58|         1|    false|\n",
      "|  9|           Blastoise| Water|  null|  530| 79|    83|    100|     85|    105|   78|         1|    false|\n",
      "|  9|BlastoiseMega Bla...| Water|  null|  630| 79|   103|    120|    135|    115|   78|         1|    false|\n",
      "| 10|            Caterpie|   Bug|  null|  195| 45|    30|     35|     20|     20|   45|         1|    false|\n",
      "| 11|             Metapod|   Bug|  null|  205| 50|    20|     55|     25|     25|   30|         1|    false|\n",
      "| 12|          Butterfree|   Bug|Flying|  395| 60|    45|     50|     90|     80|   70|         1|    false|\n",
      "| 13|              Weedle|   Bug|Poison|  195| 40|    35|     30|     20|     20|   50|         1|    false|\n",
      "| 14|              Kakuna|   Bug|Poison|  205| 45|    25|     50|     25|     25|   35|         1|    false|\n",
      "| 15|            Beedrill|   Bug|Poison|  395| 65|    90|     40|     45|     80|   75|         1|    false|\n",
      "| 15|BeedrillMega Beed...|   Bug|Poison|  495| 65|   150|     40|     15|     80|  145|         1|    false|\n",
      "+---+--------------------+------+------+-----+---+------+-------+-------+-------+-----+----------+---------+\n",
      "only showing top 20 rows\n",
      "\n"
     ]
    }
   ],
   "source": [
    "# NO figura la nueva columna\n",
    "\n",
    "df_pyspark.show()"
   ]
  },
  {
   "cell_type": "code",
   "execution_count": 27,
   "id": "a303032f",
   "metadata": {},
   "outputs": [
    {
     "name": "stdout",
     "output_type": "stream",
     "text": [
      "+---+--------------------+------+------+-----+---+------+-------+-------+-------+-----+----------+---------+-----------+\n",
      "|  #|                Name|Type 1|Type 2|Total| HP|Attack|Defense|Sp. Atk|Sp. Def|Speed|Generation|Legendary|Total + 100|\n",
      "+---+--------------------+------+------+-----+---+------+-------+-------+-------+-----+----------+---------+-----------+\n",
      "|  1|           Bulbasaur| Grass|Poison|  318| 45|    49|     49|     65|     65|   45|         1|    false|        418|\n",
      "|  2|             Ivysaur| Grass|Poison|  405| 60|    62|     63|     80|     80|   60|         1|    false|        505|\n",
      "|  3|            Venusaur| Grass|Poison|  525| 80|    82|     83|    100|    100|   80|         1|    false|        625|\n",
      "|  3|VenusaurMega Venu...| Grass|Poison|  625| 80|   100|    123|    122|    120|   80|         1|    false|        725|\n",
      "|  4|          Charmander|  Fire|  null|  309| 39|    52|     43|     60|     50|   65|         1|    false|        409|\n",
      "|  5|          Charmeleon|  Fire|  null|  405| 58|    64|     58|     80|     65|   80|         1|    false|        505|\n",
      "|  6|           Charizard|  Fire|Flying|  534| 78|    84|     78|    109|     85|  100|         1|    false|        634|\n",
      "|  6|CharizardMega Cha...|  Fire|Dragon|  634| 78|   130|    111|    130|     85|  100|         1|    false|        734|\n",
      "|  6|CharizardMega Cha...|  Fire|Flying|  634| 78|   104|     78|    159|    115|  100|         1|    false|        734|\n",
      "|  7|            Squirtle| Water|  null|  314| 44|    48|     65|     50|     64|   43|         1|    false|        414|\n",
      "|  8|           Wartortle| Water|  null|  405| 59|    63|     80|     65|     80|   58|         1|    false|        505|\n",
      "|  9|           Blastoise| Water|  null|  530| 79|    83|    100|     85|    105|   78|         1|    false|        630|\n",
      "|  9|BlastoiseMega Bla...| Water|  null|  630| 79|   103|    120|    135|    115|   78|         1|    false|        730|\n",
      "| 10|            Caterpie|   Bug|  null|  195| 45|    30|     35|     20|     20|   45|         1|    false|        295|\n",
      "| 11|             Metapod|   Bug|  null|  205| 50|    20|     55|     25|     25|   30|         1|    false|        305|\n",
      "| 12|          Butterfree|   Bug|Flying|  395| 60|    45|     50|     90|     80|   70|         1|    false|        495|\n",
      "| 13|              Weedle|   Bug|Poison|  195| 40|    35|     30|     20|     20|   50|         1|    false|        295|\n",
      "| 14|              Kakuna|   Bug|Poison|  205| 45|    25|     50|     25|     25|   35|         1|    false|        305|\n",
      "| 15|            Beedrill|   Bug|Poison|  395| 65|    90|     40|     45|     80|   75|         1|    false|        495|\n",
      "| 15|BeedrillMega Beed...|   Bug|Poison|  495| 65|   150|     40|     15|     80|  145|         1|    false|        595|\n",
      "+---+--------------------+------+------+-----+---+------+-------+-------+-------+-----+----------+---------+-----------+\n",
      "only showing top 20 rows\n",
      "\n"
     ]
    }
   ],
   "source": [
    "df_pyspark = df_pyspark.withColumn('Total + 100', df_pyspark['Total'] + 100 )\n",
    "df_pyspark.show()"
   ]
  },
  {
   "cell_type": "markdown",
   "id": "1bd0d66e",
   "metadata": {},
   "source": [
    "Eliminar columnas"
   ]
  },
  {
   "cell_type": "code",
   "execution_count": 28,
   "id": "e1b3937a",
   "metadata": {},
   "outputs": [
    {
     "name": "stdout",
     "output_type": "stream",
     "text": [
      "+---+--------------------+------+------+-----+---+------+-------+-------+-------+-----+----------+---------+\n",
      "|  #|                Name|Type 1|Type 2|Total| HP|Attack|Defense|Sp. Atk|Sp. Def|Speed|Generation|Legendary|\n",
      "+---+--------------------+------+------+-----+---+------+-------+-------+-------+-----+----------+---------+\n",
      "|  1|           Bulbasaur| Grass|Poison|  318| 45|    49|     49|     65|     65|   45|         1|    false|\n",
      "|  2|             Ivysaur| Grass|Poison|  405| 60|    62|     63|     80|     80|   60|         1|    false|\n",
      "|  3|            Venusaur| Grass|Poison|  525| 80|    82|     83|    100|    100|   80|         1|    false|\n",
      "|  3|VenusaurMega Venu...| Grass|Poison|  625| 80|   100|    123|    122|    120|   80|         1|    false|\n",
      "|  4|          Charmander|  Fire|  null|  309| 39|    52|     43|     60|     50|   65|         1|    false|\n",
      "|  5|          Charmeleon|  Fire|  null|  405| 58|    64|     58|     80|     65|   80|         1|    false|\n",
      "|  6|           Charizard|  Fire|Flying|  534| 78|    84|     78|    109|     85|  100|         1|    false|\n",
      "|  6|CharizardMega Cha...|  Fire|Dragon|  634| 78|   130|    111|    130|     85|  100|         1|    false|\n",
      "|  6|CharizardMega Cha...|  Fire|Flying|  634| 78|   104|     78|    159|    115|  100|         1|    false|\n",
      "|  7|            Squirtle| Water|  null|  314| 44|    48|     65|     50|     64|   43|         1|    false|\n",
      "|  8|           Wartortle| Water|  null|  405| 59|    63|     80|     65|     80|   58|         1|    false|\n",
      "|  9|           Blastoise| Water|  null|  530| 79|    83|    100|     85|    105|   78|         1|    false|\n",
      "|  9|BlastoiseMega Bla...| Water|  null|  630| 79|   103|    120|    135|    115|   78|         1|    false|\n",
      "| 10|            Caterpie|   Bug|  null|  195| 45|    30|     35|     20|     20|   45|         1|    false|\n",
      "| 11|             Metapod|   Bug|  null|  205| 50|    20|     55|     25|     25|   30|         1|    false|\n",
      "| 12|          Butterfree|   Bug|Flying|  395| 60|    45|     50|     90|     80|   70|         1|    false|\n",
      "| 13|              Weedle|   Bug|Poison|  195| 40|    35|     30|     20|     20|   50|         1|    false|\n",
      "| 14|              Kakuna|   Bug|Poison|  205| 45|    25|     50|     25|     25|   35|         1|    false|\n",
      "| 15|            Beedrill|   Bug|Poison|  395| 65|    90|     40|     45|     80|   75|         1|    false|\n",
      "| 15|BeedrillMega Beed...|   Bug|Poison|  495| 65|   150|     40|     15|     80|  145|         1|    false|\n",
      "+---+--------------------+------+------+-----+---+------+-------+-------+-------+-----+----------+---------+\n",
      "only showing top 20 rows\n",
      "\n"
     ]
    }
   ],
   "source": [
    "df_pyspark.drop('Total + 100').show()"
   ]
  },
  {
   "cell_type": "code",
   "execution_count": 29,
   "id": "1bf5a9b9",
   "metadata": {},
   "outputs": [],
   "source": [
    "# Debemos asignar de nuevo la variable para qué sea permanente\n",
    "df_pyspark = df_pyspark.drop('Total + 100')"
   ]
  },
  {
   "cell_type": "code",
   "execution_count": 30,
   "id": "4ad21aff",
   "metadata": {},
   "outputs": [
    {
     "name": "stdout",
     "output_type": "stream",
     "text": [
      "+---+--------------------+------+------+-----+---+------+-------+-------+-------+-----+----------+---------+\n",
      "|  #|                Name|Type 1|Type 2|Total| HP|Attack|Defense|Sp. Atk|Sp. Def|Speed|Generation|Legendary|\n",
      "+---+--------------------+------+------+-----+---+------+-------+-------+-------+-----+----------+---------+\n",
      "|  1|           Bulbasaur| Grass|Poison|  318| 45|    49|     49|     65|     65|   45|         1|    false|\n",
      "|  2|             Ivysaur| Grass|Poison|  405| 60|    62|     63|     80|     80|   60|         1|    false|\n",
      "|  3|            Venusaur| Grass|Poison|  525| 80|    82|     83|    100|    100|   80|         1|    false|\n",
      "|  3|VenusaurMega Venu...| Grass|Poison|  625| 80|   100|    123|    122|    120|   80|         1|    false|\n",
      "|  4|          Charmander|  Fire|  null|  309| 39|    52|     43|     60|     50|   65|         1|    false|\n",
      "|  5|          Charmeleon|  Fire|  null|  405| 58|    64|     58|     80|     65|   80|         1|    false|\n",
      "|  6|           Charizard|  Fire|Flying|  534| 78|    84|     78|    109|     85|  100|         1|    false|\n",
      "|  6|CharizardMega Cha...|  Fire|Dragon|  634| 78|   130|    111|    130|     85|  100|         1|    false|\n",
      "|  6|CharizardMega Cha...|  Fire|Flying|  634| 78|   104|     78|    159|    115|  100|         1|    false|\n",
      "|  7|            Squirtle| Water|  null|  314| 44|    48|     65|     50|     64|   43|         1|    false|\n",
      "|  8|           Wartortle| Water|  null|  405| 59|    63|     80|     65|     80|   58|         1|    false|\n",
      "|  9|           Blastoise| Water|  null|  530| 79|    83|    100|     85|    105|   78|         1|    false|\n",
      "|  9|BlastoiseMega Bla...| Water|  null|  630| 79|   103|    120|    135|    115|   78|         1|    false|\n",
      "| 10|            Caterpie|   Bug|  null|  195| 45|    30|     35|     20|     20|   45|         1|    false|\n",
      "| 11|             Metapod|   Bug|  null|  205| 50|    20|     55|     25|     25|   30|         1|    false|\n",
      "| 12|          Butterfree|   Bug|Flying|  395| 60|    45|     50|     90|     80|   70|         1|    false|\n",
      "| 13|              Weedle|   Bug|Poison|  195| 40|    35|     30|     20|     20|   50|         1|    false|\n",
      "| 14|              Kakuna|   Bug|Poison|  205| 45|    25|     50|     25|     25|   35|         1|    false|\n",
      "| 15|            Beedrill|   Bug|Poison|  395| 65|    90|     40|     45|     80|   75|         1|    false|\n",
      "| 15|BeedrillMega Beed...|   Bug|Poison|  495| 65|   150|     40|     15|     80|  145|         1|    false|\n",
      "+---+--------------------+------+------+-----+---+------+-------+-------+-------+-----+----------+---------+\n",
      "only showing top 20 rows\n",
      "\n"
     ]
    }
   ],
   "source": [
    "df_pyspark.show()"
   ]
  },
  {
   "cell_type": "markdown",
   "id": "974dfb65",
   "metadata": {},
   "source": [
    "Renombrar columnas"
   ]
  },
  {
   "cell_type": "markdown",
   "id": "5b7bd8e4",
   "metadata": {},
   "source": [
    "Se usa el método withColumnRenamed(), donde indicamos el valor del nombre de la columna, y el nuevo valor"
   ]
  },
  {
   "cell_type": "code",
   "execution_count": 31,
   "id": "76fd56cb",
   "metadata": {},
   "outputs": [
    {
     "name": "stdout",
     "output_type": "stream",
     "text": [
      "+---+--------------------+------+------+-------------+---+------+-------+-------+-------+-----+----------+---------+\n",
      "|  #|                Name|Type 1|Type 2|Total_Renamed| HP|Attack|Defense|Sp. Atk|Sp. Def|Speed|Generation|Legendary|\n",
      "+---+--------------------+------+------+-------------+---+------+-------+-------+-------+-----+----------+---------+\n",
      "|  1|           Bulbasaur| Grass|Poison|          318| 45|    49|     49|     65|     65|   45|         1|    false|\n",
      "|  2|             Ivysaur| Grass|Poison|          405| 60|    62|     63|     80|     80|   60|         1|    false|\n",
      "|  3|            Venusaur| Grass|Poison|          525| 80|    82|     83|    100|    100|   80|         1|    false|\n",
      "|  3|VenusaurMega Venu...| Grass|Poison|          625| 80|   100|    123|    122|    120|   80|         1|    false|\n",
      "|  4|          Charmander|  Fire|  null|          309| 39|    52|     43|     60|     50|   65|         1|    false|\n",
      "|  5|          Charmeleon|  Fire|  null|          405| 58|    64|     58|     80|     65|   80|         1|    false|\n",
      "|  6|           Charizard|  Fire|Flying|          534| 78|    84|     78|    109|     85|  100|         1|    false|\n",
      "|  6|CharizardMega Cha...|  Fire|Dragon|          634| 78|   130|    111|    130|     85|  100|         1|    false|\n",
      "|  6|CharizardMega Cha...|  Fire|Flying|          634| 78|   104|     78|    159|    115|  100|         1|    false|\n",
      "|  7|            Squirtle| Water|  null|          314| 44|    48|     65|     50|     64|   43|         1|    false|\n",
      "|  8|           Wartortle| Water|  null|          405| 59|    63|     80|     65|     80|   58|         1|    false|\n",
      "|  9|           Blastoise| Water|  null|          530| 79|    83|    100|     85|    105|   78|         1|    false|\n",
      "|  9|BlastoiseMega Bla...| Water|  null|          630| 79|   103|    120|    135|    115|   78|         1|    false|\n",
      "| 10|            Caterpie|   Bug|  null|          195| 45|    30|     35|     20|     20|   45|         1|    false|\n",
      "| 11|             Metapod|   Bug|  null|          205| 50|    20|     55|     25|     25|   30|         1|    false|\n",
      "| 12|          Butterfree|   Bug|Flying|          395| 60|    45|     50|     90|     80|   70|         1|    false|\n",
      "| 13|              Weedle|   Bug|Poison|          195| 40|    35|     30|     20|     20|   50|         1|    false|\n",
      "| 14|              Kakuna|   Bug|Poison|          205| 45|    25|     50|     25|     25|   35|         1|    false|\n",
      "| 15|            Beedrill|   Bug|Poison|          395| 65|    90|     40|     45|     80|   75|         1|    false|\n",
      "| 15|BeedrillMega Beed...|   Bug|Poison|          495| 65|   150|     40|     15|     80|  145|         1|    false|\n",
      "+---+--------------------+------+------+-------------+---+------+-------+-------+-------+-----+----------+---------+\n",
      "only showing top 20 rows\n",
      "\n"
     ]
    }
   ],
   "source": [
    "# No es una operación con inplace como las anteriores. Crea copia\n",
    "df_pyspark.withColumnRenamed('Total','Total_Renamed').show()"
   ]
  },
  {
   "cell_type": "markdown",
   "id": "9e9b1cce",
   "metadata": {},
   "source": [
    "# 3. **Manejo de nulos** "
   ]
  },
  {
   "cell_type": "code",
   "execution_count": 32,
   "id": "090f5066",
   "metadata": {
    "scrolled": false
   },
   "outputs": [
    {
     "name": "stdout",
     "output_type": "stream",
     "text": [
      "+---+--------------------+------+------+-----+---+------+-------+------+------+-----+----------+---------+\n",
      "|  #|                Name|Type_1|Type_2|Total| HP|Attack|Defense|Sp_Atk|Sp_Def|Speed|Generation|Legendary|\n",
      "+---+--------------------+------+------+-----+---+------+-------+------+------+-----+----------+---------+\n",
      "|  1|           Bulbasaur| Grass|Poison|  318| 45|    49|     49|  65.0|  65.0|   45|         1|    false|\n",
      "|  2|             Ivysaur| Grass|Poison|  405| 60|    62|     63|  80.0|  80.0|   60|         1|    false|\n",
      "|  3|            Venusaur| Grass|Poison|  525| 80|    82|     83| 100.0| 100.0|   80|         1|    false|\n",
      "|  3|VenusaurMega Venu...| Grass|Poison|  625| 80|   100|    123| 122.0| 120.0|   80|         1|    false|\n",
      "|  4|          Charmander|  Fire|  null|  309| 39|    52|     43|  60.0|  50.0|   65|         1|    false|\n",
      "|  5|          Charmeleon|  Fire|  null|  405| 58|    64|     58|  80.0|  65.0|   80|         1|    false|\n",
      "|  6|           Charizard|  Fire|Flying|  534| 78|    84|     78| 109.0|  85.0|  100|         1|    false|\n",
      "|  6|CharizardMega Cha...|  Fire|Dragon|  634| 78|   130|    111| 130.0|  85.0|  100|         1|    false|\n",
      "|  6|CharizardMega Cha...|  Fire|Flying|  634| 78|   104|     78| 159.0| 115.0|  100|         1|    false|\n",
      "|  7|            Squirtle| Water|  null|  314| 44|    48|     65|  50.0|  64.0|   43|         1|    false|\n",
      "|  8|           Wartortle| Water|  null|  405| 59|    63|     80|  65.0|  80.0|   58|         1|    false|\n",
      "|  9|           Blastoise| Water|  null|  530| 79|    83|    100|  85.0| 105.0|   78|         1|    false|\n",
      "|  9|BlastoiseMega Bla...| Water|  null|  630| 79|   103|    120| 135.0| 115.0|   78|         1|    false|\n",
      "| 10|            Caterpie|   Bug|  null|  195| 45|    30|     35|  null|  null|   45|         1|    false|\n",
      "| 11|             Metapod|   Bug|  null|  205| 50|    20|     55|  null|  null|   30|         1|    false|\n",
      "| 12|          Butterfree|   Bug|Flying|  395| 60|    45|     50|  90.0|  80.0|   70|         1|    false|\n",
      "| 13|              Weedle|   Bug|Poison|  195| 40|    35|     30|  null|  null|   50|         1|    false|\n",
      "| 14|              Kakuna|   Bug|Poison|  205| 45|    25|     50|  null|  null|   35|         1|    false|\n",
      "| 15|            Beedrill|   Bug|Poison|  395| 65|    90|     40|  45.0|  80.0|   75|         1|    false|\n",
      "| 15|BeedrillMega Beed...|   Bug|Poison|  495| 65|   150|     40|  null|  80.0|  145|         1|    false|\n",
      "+---+--------------------+------+------+-----+---+------+-------+------+------+-----+----------+---------+\n",
      "only showing top 20 rows\n",
      "\n"
     ]
    }
   ],
   "source": [
    "# Cargamos un nuevo dataset que incluya valores nulos\n",
    "df_null = spark.read.csv('Pokemon_null.csv',header=True,inferSchema=True)\n",
    "df_null.show()"
   ]
  },
  {
   "cell_type": "markdown",
   "id": "57b73cf7",
   "metadata": {},
   "source": [
    "Tenemos nulos en las columnas Type_2, Sp_Atk y Sp_Def"
   ]
  },
  {
   "cell_type": "code",
   "execution_count": 33,
   "id": "0c5676c1",
   "metadata": {},
   "outputs": [
    {
     "name": "stdout",
     "output_type": "stream",
     "text": [
      "+---+--------------------+------+------+-----+---+------+-------+------+------+-----+----------+---------+\n",
      "|  #|                Name|Type_1|Type_2|Total| HP|Attack|Defense|Sp_Atk|Sp_Def|Speed|Generation|Legendary|\n",
      "+---+--------------------+------+------+-----+---+------+-------+------+------+-----+----------+---------+\n",
      "|  1|           Bulbasaur| Grass|Poison|  318| 45|    49|     49|  65.0|  65.0|   45|         1|    false|\n",
      "|  2|             Ivysaur| Grass|Poison|  405| 60|    62|     63|  80.0|  80.0|   60|         1|    false|\n",
      "|  3|            Venusaur| Grass|Poison|  525| 80|    82|     83| 100.0| 100.0|   80|         1|    false|\n",
      "|  3|VenusaurMega Venu...| Grass|Poison|  625| 80|   100|    123| 122.0| 120.0|   80|         1|    false|\n",
      "|  6|           Charizard|  Fire|Flying|  534| 78|    84|     78| 109.0|  85.0|  100|         1|    false|\n",
      "|  6|CharizardMega Cha...|  Fire|Dragon|  634| 78|   130|    111| 130.0|  85.0|  100|         1|    false|\n",
      "|  6|CharizardMega Cha...|  Fire|Flying|  634| 78|   104|     78| 159.0| 115.0|  100|         1|    false|\n",
      "| 12|          Butterfree|   Bug|Flying|  395| 60|    45|     50|  90.0|  80.0|   70|         1|    false|\n",
      "| 15|            Beedrill|   Bug|Poison|  395| 65|    90|     40|  45.0|  80.0|   75|         1|    false|\n",
      "| 17|           Pidgeotto|Normal|Flying|  349| 63|    60|     55|  50.0|  50.0|   71|         1|    false|\n",
      "| 18|             Pidgeot|Normal|Flying|  479| 83|    80|     75|  70.0|  70.0|  101|         1|    false|\n",
      "| 18| PidgeotMega Pidgeot|Normal|Flying|  579| 83|    80|     80| 135.0|  80.0|  121|         1|    false|\n",
      "| 22|              Fearow|Normal|Flying|  442| 65|    90|     65|  61.0|  61.0|  100|         1|    false|\n",
      "| 31|           Nidoqueen|Poison|Ground|  505| 90|    92|     87|  75.0|  85.0|   76|         1|    false|\n",
      "| 34|            Nidoking|Poison|Ground|  505| 81|   102|     77|  85.0|  75.0|   85|         1|    false|\n",
      "| 40|          Wigglytuff|Normal| Fairy|  435|140|    70|     45|  85.0|  50.0|   45|         1|    false|\n",
      "| 42|              Golbat|Poison|Flying|  455| 75|    80|     70|  65.0|  75.0|   90|         1|    false|\n",
      "| 43|              Oddish| Grass|Poison|  320| 45|    50|     55|  75.0|  65.0|   30|         1|    false|\n",
      "| 44|               Gloom| Grass|Poison|  395| 60|    65|     70|  85.0|  75.0|   40|         1|    false|\n",
      "| 45|           Vileplume| Grass|Poison|  490| 75|    80|     85| 110.0|  90.0|   50|         1|    false|\n",
      "+---+--------------------+------+------+-----+---+------+-------+------+------+-----+----------+---------+\n",
      "only showing top 20 rows\n",
      "\n"
     ]
    }
   ],
   "source": [
    "# Elimina todas las filas que tengan algún nulo\n",
    "df_null.na.drop().show()"
   ]
  },
  {
   "cell_type": "code",
   "execution_count": 34,
   "id": "79f5f349",
   "metadata": {},
   "outputs": [
    {
     "data": {
      "text/plain": [
       "DataFrame[#: int, Name: string, Type_1: string, Type_2: string, Total: int, HP: int, Attack: int, Defense: int, Sp_Atk: double, Sp_Def: double, Speed: int, Generation: int, Legendary: boolean]"
      ]
     },
     "execution_count": 34,
     "metadata": {},
     "output_type": "execute_result"
    }
   ],
   "source": [
    "df_null.na.drop()"
   ]
  },
  {
   "cell_type": "markdown",
   "id": "9658669e",
   "metadata": {},
   "source": [
    "El método na.drop() tiene un parámetro *how* que tiene valor predeterminado 'any', y puede tener valor 'all':\n",
    "- **any:** Elimina todas las filas donde haya al menos un nulo\n",
    "- **all:** Elimina todas las filas donde todos los valores sean nulos"
   ]
  },
  {
   "cell_type": "code",
   "execution_count": 35,
   "id": "3b2b2552",
   "metadata": {},
   "outputs": [
    {
     "name": "stdout",
     "output_type": "stream",
     "text": [
      "+---+--------------------+------+------+-----+---+------+-------+------+------+-----+----------+---------+\n",
      "|  #|                Name|Type_1|Type_2|Total| HP|Attack|Defense|Sp_Atk|Sp_Def|Speed|Generation|Legendary|\n",
      "+---+--------------------+------+------+-----+---+------+-------+------+------+-----+----------+---------+\n",
      "|  1|           Bulbasaur| Grass|Poison|  318| 45|    49|     49|  65.0|  65.0|   45|         1|    false|\n",
      "|  2|             Ivysaur| Grass|Poison|  405| 60|    62|     63|  80.0|  80.0|   60|         1|    false|\n",
      "|  3|            Venusaur| Grass|Poison|  525| 80|    82|     83| 100.0| 100.0|   80|         1|    false|\n",
      "|  3|VenusaurMega Venu...| Grass|Poison|  625| 80|   100|    123| 122.0| 120.0|   80|         1|    false|\n",
      "|  4|          Charmander|  Fire|  null|  309| 39|    52|     43|  60.0|  50.0|   65|         1|    false|\n",
      "|  5|          Charmeleon|  Fire|  null|  405| 58|    64|     58|  80.0|  65.0|   80|         1|    false|\n",
      "|  6|           Charizard|  Fire|Flying|  534| 78|    84|     78| 109.0|  85.0|  100|         1|    false|\n",
      "|  6|CharizardMega Cha...|  Fire|Dragon|  634| 78|   130|    111| 130.0|  85.0|  100|         1|    false|\n",
      "|  6|CharizardMega Cha...|  Fire|Flying|  634| 78|   104|     78| 159.0| 115.0|  100|         1|    false|\n",
      "|  7|            Squirtle| Water|  null|  314| 44|    48|     65|  50.0|  64.0|   43|         1|    false|\n",
      "|  8|           Wartortle| Water|  null|  405| 59|    63|     80|  65.0|  80.0|   58|         1|    false|\n",
      "|  9|           Blastoise| Water|  null|  530| 79|    83|    100|  85.0| 105.0|   78|         1|    false|\n",
      "|  9|BlastoiseMega Bla...| Water|  null|  630| 79|   103|    120| 135.0| 115.0|   78|         1|    false|\n",
      "| 10|            Caterpie|   Bug|  null|  195| 45|    30|     35|  null|  null|   45|         1|    false|\n",
      "| 11|             Metapod|   Bug|  null|  205| 50|    20|     55|  null|  null|   30|         1|    false|\n",
      "| 12|          Butterfree|   Bug|Flying|  395| 60|    45|     50|  90.0|  80.0|   70|         1|    false|\n",
      "| 13|              Weedle|   Bug|Poison|  195| 40|    35|     30|  null|  null|   50|         1|    false|\n",
      "| 14|              Kakuna|   Bug|Poison|  205| 45|    25|     50|  null|  null|   35|         1|    false|\n",
      "| 15|            Beedrill|   Bug|Poison|  395| 65|    90|     40|  45.0|  80.0|   75|         1|    false|\n",
      "| 15|BeedrillMega Beed...|   Bug|Poison|  495| 65|   150|     40|  null|  80.0|  145|         1|    false|\n",
      "+---+--------------------+------+------+-----+---+------+-------+------+------+-----+----------+---------+\n",
      "only showing top 20 rows\n",
      "\n"
     ]
    }
   ],
   "source": [
    "# No ha eliminado ninguna fila, ya que no existe ninguna con todos los valores nulos\n",
    "df_null.na.drop(how='all').show()"
   ]
  },
  {
   "cell_type": "markdown",
   "id": "2a257952",
   "metadata": {},
   "source": [
    "Otro parámentro que acepta na.drop(), es *thresh*, permite complementar el parámetro how. Es un vaor int, que especifica el número mínimo de no nulos que debe tener una fila para que la podamos eliminar"
   ]
  },
  {
   "cell_type": "code",
   "execution_count": 36,
   "id": "09545227",
   "metadata": {},
   "outputs": [
    {
     "name": "stdout",
     "output_type": "stream",
     "text": [
      "+---+--------------------+------+------+-----+---+------+-------+------+------+-----+----------+---------+\n",
      "|  #|                Name|Type_1|Type_2|Total| HP|Attack|Defense|Sp_Atk|Sp_Def|Speed|Generation|Legendary|\n",
      "+---+--------------------+------+------+-----+---+------+-------+------+------+-----+----------+---------+\n",
      "|  1|           Bulbasaur| Grass|Poison|  318| 45|    49|     49|  65.0|  65.0|   45|         1|    false|\n",
      "|  2|             Ivysaur| Grass|Poison|  405| 60|    62|     63|  80.0|  80.0|   60|         1|    false|\n",
      "|  3|            Venusaur| Grass|Poison|  525| 80|    82|     83| 100.0| 100.0|   80|         1|    false|\n",
      "|  3|VenusaurMega Venu...| Grass|Poison|  625| 80|   100|    123| 122.0| 120.0|   80|         1|    false|\n",
      "|  4|          Charmander|  Fire|  null|  309| 39|    52|     43|  60.0|  50.0|   65|         1|    false|\n",
      "|  5|          Charmeleon|  Fire|  null|  405| 58|    64|     58|  80.0|  65.0|   80|         1|    false|\n",
      "|  6|           Charizard|  Fire|Flying|  534| 78|    84|     78| 109.0|  85.0|  100|         1|    false|\n",
      "|  6|CharizardMega Cha...|  Fire|Dragon|  634| 78|   130|    111| 130.0|  85.0|  100|         1|    false|\n",
      "|  6|CharizardMega Cha...|  Fire|Flying|  634| 78|   104|     78| 159.0| 115.0|  100|         1|    false|\n",
      "|  7|            Squirtle| Water|  null|  314| 44|    48|     65|  50.0|  64.0|   43|         1|    false|\n",
      "|  8|           Wartortle| Water|  null|  405| 59|    63|     80|  65.0|  80.0|   58|         1|    false|\n",
      "|  9|           Blastoise| Water|  null|  530| 79|    83|    100|  85.0| 105.0|   78|         1|    false|\n",
      "|  9|BlastoiseMega Bla...| Water|  null|  630| 79|   103|    120| 135.0| 115.0|   78|         1|    false|\n",
      "| 12|          Butterfree|   Bug|Flying|  395| 60|    45|     50|  90.0|  80.0|   70|         1|    false|\n",
      "| 13|              Weedle|   Bug|Poison|  195| 40|    35|     30|  null|  null|   50|         1|    false|\n",
      "| 14|              Kakuna|   Bug|Poison|  205| 45|    25|     50|  null|  null|   35|         1|    false|\n",
      "| 15|            Beedrill|   Bug|Poison|  395| 65|    90|     40|  45.0|  80.0|   75|         1|    false|\n",
      "| 15|BeedrillMega Beed...|   Bug|Poison|  495| 65|   150|     40|  null|  80.0|  145|         1|    false|\n",
      "| 16|              Pidgey|Normal|Flying|  251| 40|    45|     40|  null|  35.0|   56|         1|    false|\n",
      "| 17|           Pidgeotto|Normal|Flying|  349| 63|    60|     55|  50.0|  50.0|   71|         1|    false|\n",
      "+---+--------------------+------+------+-----+---+------+-------+------+------+-----+----------+---------+\n",
      "only showing top 20 rows\n",
      "\n"
     ]
    }
   ],
   "source": [
    "# Muestra todas las filas que tengan al menos 11 valores no nulos\n",
    "df_null.na.drop(how='any',thresh=11).show()"
   ]
  },
  {
   "cell_type": "code",
   "execution_count": 37,
   "id": "3806d315",
   "metadata": {},
   "outputs": [
    {
     "name": "stdout",
     "output_type": "stream",
     "text": [
      "+---+--------------------+------+------+-----+---+------+-------+------+------+-----+----------+---------+\n",
      "|  #|                Name|Type_1|Type_2|Total| HP|Attack|Defense|Sp_Atk|Sp_Def|Speed|Generation|Legendary|\n",
      "+---+--------------------+------+------+-----+---+------+-------+------+------+-----+----------+---------+\n",
      "|  1|           Bulbasaur| Grass|Poison|  318| 45|    49|     49|  65.0|  65.0|   45|         1|    false|\n",
      "|  2|             Ivysaur| Grass|Poison|  405| 60|    62|     63|  80.0|  80.0|   60|         1|    false|\n",
      "|  3|            Venusaur| Grass|Poison|  525| 80|    82|     83| 100.0| 100.0|   80|         1|    false|\n",
      "|  3|VenusaurMega Venu...| Grass|Poison|  625| 80|   100|    123| 122.0| 120.0|   80|         1|    false|\n",
      "|  4|          Charmander|  Fire|  null|  309| 39|    52|     43|  60.0|  50.0|   65|         1|    false|\n",
      "|  5|          Charmeleon|  Fire|  null|  405| 58|    64|     58|  80.0|  65.0|   80|         1|    false|\n",
      "|  6|           Charizard|  Fire|Flying|  534| 78|    84|     78| 109.0|  85.0|  100|         1|    false|\n",
      "|  6|CharizardMega Cha...|  Fire|Dragon|  634| 78|   130|    111| 130.0|  85.0|  100|         1|    false|\n",
      "|  6|CharizardMega Cha...|  Fire|Flying|  634| 78|   104|     78| 159.0| 115.0|  100|         1|    false|\n",
      "|  7|            Squirtle| Water|  null|  314| 44|    48|     65|  50.0|  64.0|   43|         1|    false|\n",
      "|  8|           Wartortle| Water|  null|  405| 59|    63|     80|  65.0|  80.0|   58|         1|    false|\n",
      "|  9|           Blastoise| Water|  null|  530| 79|    83|    100|  85.0| 105.0|   78|         1|    false|\n",
      "|  9|BlastoiseMega Bla...| Water|  null|  630| 79|   103|    120| 135.0| 115.0|   78|         1|    false|\n",
      "| 12|          Butterfree|   Bug|Flying|  395| 60|    45|     50|  90.0|  80.0|   70|         1|    false|\n",
      "| 15|            Beedrill|   Bug|Poison|  395| 65|    90|     40|  45.0|  80.0|   75|         1|    false|\n",
      "| 15|BeedrillMega Beed...|   Bug|Poison|  495| 65|   150|     40|  null|  80.0|  145|         1|    false|\n",
      "| 16|              Pidgey|Normal|Flying|  251| 40|    45|     40|  null|  35.0|   56|         1|    false|\n",
      "| 17|           Pidgeotto|Normal|Flying|  349| 63|    60|     55|  50.0|  50.0|   71|         1|    false|\n",
      "| 18|             Pidgeot|Normal|Flying|  479| 83|    80|     75|  70.0|  70.0|  101|         1|    false|\n",
      "| 18| PidgeotMega Pidgeot|Normal|Flying|  579| 83|    80|     80| 135.0|  80.0|  121|         1|    false|\n",
      "+---+--------------------+------+------+-----+---+------+-------+------+------+-----+----------+---------+\n",
      "only showing top 20 rows\n",
      "\n"
     ]
    }
   ],
   "source": [
    "# La columna # cuenta también como valor no nulo\n",
    "df_null.na.drop(how='any',thresh=12).show()"
   ]
  },
  {
   "cell_type": "markdown",
   "id": "de0f8475",
   "metadata": {},
   "source": [
    "El último parámetro que acepta drop es *subset*. Permite especificar una columna o columnas del dataset, esto hará que si en las columna/s especificadas está presente un nulo se eliminará"
   ]
  },
  {
   "cell_type": "code",
   "execution_count": 38,
   "id": "a4d7bbc6",
   "metadata": {},
   "outputs": [
    {
     "name": "stdout",
     "output_type": "stream",
     "text": [
      "+---+--------------------+------+------+-----+---+------+-------+------+------+-----+----------+---------+\n",
      "|  #|                Name|Type_1|Type_2|Total| HP|Attack|Defense|Sp_Atk|Sp_Def|Speed|Generation|Legendary|\n",
      "+---+--------------------+------+------+-----+---+------+-------+------+------+-----+----------+---------+\n",
      "|  1|           Bulbasaur| Grass|Poison|  318| 45|    49|     49|  65.0|  65.0|   45|         1|    false|\n",
      "|  2|             Ivysaur| Grass|Poison|  405| 60|    62|     63|  80.0|  80.0|   60|         1|    false|\n",
      "|  3|            Venusaur| Grass|Poison|  525| 80|    82|     83| 100.0| 100.0|   80|         1|    false|\n",
      "|  3|VenusaurMega Venu...| Grass|Poison|  625| 80|   100|    123| 122.0| 120.0|   80|         1|    false|\n",
      "|  6|           Charizard|  Fire|Flying|  534| 78|    84|     78| 109.0|  85.0|  100|         1|    false|\n",
      "|  6|CharizardMega Cha...|  Fire|Dragon|  634| 78|   130|    111| 130.0|  85.0|  100|         1|    false|\n",
      "|  6|CharizardMega Cha...|  Fire|Flying|  634| 78|   104|     78| 159.0| 115.0|  100|         1|    false|\n",
      "| 12|          Butterfree|   Bug|Flying|  395| 60|    45|     50|  90.0|  80.0|   70|         1|    false|\n",
      "| 13|              Weedle|   Bug|Poison|  195| 40|    35|     30|  null|  null|   50|         1|    false|\n",
      "| 14|              Kakuna|   Bug|Poison|  205| 45|    25|     50|  null|  null|   35|         1|    false|\n",
      "| 15|            Beedrill|   Bug|Poison|  395| 65|    90|     40|  45.0|  80.0|   75|         1|    false|\n",
      "| 15|BeedrillMega Beed...|   Bug|Poison|  495| 65|   150|     40|  null|  80.0|  145|         1|    false|\n",
      "| 16|              Pidgey|Normal|Flying|  251| 40|    45|     40|  null|  35.0|   56|         1|    false|\n",
      "| 17|           Pidgeotto|Normal|Flying|  349| 63|    60|     55|  50.0|  50.0|   71|         1|    false|\n",
      "| 18|             Pidgeot|Normal|Flying|  479| 83|    80|     75|  70.0|  70.0|  101|         1|    false|\n",
      "| 18| PidgeotMega Pidgeot|Normal|Flying|  579| 83|    80|     80| 135.0|  80.0|  121|         1|    false|\n",
      "| 21|             Spearow|Normal|Flying|  262| 40|    60|     30|  null|  null|   70|         1|    false|\n",
      "| 22|              Fearow|Normal|Flying|  442| 65|    90|     65|  61.0|  61.0|  100|         1|    false|\n",
      "| 31|           Nidoqueen|Poison|Ground|  505| 90|    92|     87|  75.0|  85.0|   76|         1|    false|\n",
      "| 34|            Nidoking|Poison|Ground|  505| 81|   102|     77|  85.0|  75.0|   85|         1|    false|\n",
      "+---+--------------------+------+------+-----+---+------+-------+------+------+-----+----------+---------+\n",
      "only showing top 20 rows\n",
      "\n"
     ]
    }
   ],
   "source": [
    "df_null.na.drop(subset=['Type_2']).show()"
   ]
  },
  {
   "cell_type": "code",
   "execution_count": 39,
   "id": "32cb5159",
   "metadata": {},
   "outputs": [
    {
     "name": "stdout",
     "output_type": "stream",
     "text": [
      "+---+--------------------+------+------+-----+---+------+-------+------+------+-----+----------+---------+\n",
      "|  #|                Name|Type_1|Type_2|Total| HP|Attack|Defense|Sp_Atk|Sp_Def|Speed|Generation|Legendary|\n",
      "+---+--------------------+------+------+-----+---+------+-------+------+------+-----+----------+---------+\n",
      "|  1|           Bulbasaur| Grass|Poison|  318| 45|    49|     49|  65.0|  65.0|   45|         1|    false|\n",
      "|  2|             Ivysaur| Grass|Poison|  405| 60|    62|     63|  80.0|  80.0|   60|         1|    false|\n",
      "|  3|            Venusaur| Grass|Poison|  525| 80|    82|     83| 100.0| 100.0|   80|         1|    false|\n",
      "|  3|VenusaurMega Venu...| Grass|Poison|  625| 80|   100|    123| 122.0| 120.0|   80|         1|    false|\n",
      "|  6|           Charizard|  Fire|Flying|  534| 78|    84|     78| 109.0|  85.0|  100|         1|    false|\n",
      "|  6|CharizardMega Cha...|  Fire|Dragon|  634| 78|   130|    111| 130.0|  85.0|  100|         1|    false|\n",
      "|  6|CharizardMega Cha...|  Fire|Flying|  634| 78|   104|     78| 159.0| 115.0|  100|         1|    false|\n",
      "| 12|          Butterfree|   Bug|Flying|  395| 60|    45|     50|  90.0|  80.0|   70|         1|    false|\n",
      "| 15|            Beedrill|   Bug|Poison|  395| 65|    90|     40|  45.0|  80.0|   75|         1|    false|\n",
      "| 17|           Pidgeotto|Normal|Flying|  349| 63|    60|     55|  50.0|  50.0|   71|         1|    false|\n",
      "| 18|             Pidgeot|Normal|Flying|  479| 83|    80|     75|  70.0|  70.0|  101|         1|    false|\n",
      "| 18| PidgeotMega Pidgeot|Normal|Flying|  579| 83|    80|     80| 135.0|  80.0|  121|         1|    false|\n",
      "| 22|              Fearow|Normal|Flying|  442| 65|    90|     65|  61.0|  61.0|  100|         1|    false|\n",
      "| 31|           Nidoqueen|Poison|Ground|  505| 90|    92|     87|  75.0|  85.0|   76|         1|    false|\n",
      "| 34|            Nidoking|Poison|Ground|  505| 81|   102|     77|  85.0|  75.0|   85|         1|    false|\n",
      "| 39|          Jigglypuff|Normal| Fairy|  270|115|    45|     20|  45.0|  null|   20|         1|    false|\n",
      "| 40|          Wigglytuff|Normal| Fairy|  435|140|    70|     45|  85.0|  50.0|   45|         1|    false|\n",
      "| 42|              Golbat|Poison|Flying|  455| 75|    80|     70|  65.0|  75.0|   90|         1|    false|\n",
      "| 43|              Oddish| Grass|Poison|  320| 45|    50|     55|  75.0|  65.0|   30|         1|    false|\n",
      "| 44|               Gloom| Grass|Poison|  395| 60|    65|     70|  85.0|  75.0|   40|         1|    false|\n",
      "+---+--------------------+------+------+-----+---+------+-------+------+------+-----+----------+---------+\n",
      "only showing top 20 rows\n",
      "\n"
     ]
    }
   ],
   "source": [
    "df_null.na.drop(subset=['Type_2','Sp_Atk']).show()"
   ]
  },
  {
   "cell_type": "markdown",
   "id": "427aaf54",
   "metadata": {},
   "source": [
    "#### Relleno de nulos"
   ]
  },
  {
   "cell_type": "code",
   "execution_count": 40,
   "id": "9e14fd42",
   "metadata": {},
   "outputs": [
    {
     "name": "stdout",
     "output_type": "stream",
     "text": [
      "+---+--------------------+------+------+-----+---+------+-------+------+------+-----+----------+---------+\n",
      "|  #|                Name|Type_1|Type_2|Total| HP|Attack|Defense|Sp_Atk|Sp_Def|Speed|Generation|Legendary|\n",
      "+---+--------------------+------+------+-----+---+------+-------+------+------+-----+----------+---------+\n",
      "|  1|           Bulbasaur| Grass|Poison|  318| 45|    49|     49|  65.0|  65.0|   45|         1|    false|\n",
      "|  2|             Ivysaur| Grass|Poison|  405| 60|    62|     63|  80.0|  80.0|   60|         1|    false|\n",
      "|  3|            Venusaur| Grass|Poison|  525| 80|    82|     83| 100.0| 100.0|   80|         1|    false|\n",
      "|  3|VenusaurMega Venu...| Grass|Poison|  625| 80|   100|    123| 122.0| 120.0|   80|         1|    false|\n",
      "|  4|          Charmander|  Fire|  null|  309| 39|    52|     43|  60.0|  50.0|   65|         1|    false|\n",
      "|  5|          Charmeleon|  Fire|  null|  405| 58|    64|     58|  80.0|  65.0|   80|         1|    false|\n",
      "|  6|           Charizard|  Fire|Flying|  534| 78|    84|     78| 109.0|  85.0|  100|         1|    false|\n",
      "|  6|CharizardMega Cha...|  Fire|Dragon|  634| 78|   130|    111| 130.0|  85.0|  100|         1|    false|\n",
      "|  6|CharizardMega Cha...|  Fire|Flying|  634| 78|   104|     78| 159.0| 115.0|  100|         1|    false|\n",
      "|  7|            Squirtle| Water|  null|  314| 44|    48|     65|  50.0|  64.0|   43|         1|    false|\n",
      "|  8|           Wartortle| Water|  null|  405| 59|    63|     80|  65.0|  80.0|   58|         1|    false|\n",
      "|  9|           Blastoise| Water|  null|  530| 79|    83|    100|  85.0| 105.0|   78|         1|    false|\n",
      "|  9|BlastoiseMega Bla...| Water|  null|  630| 79|   103|    120| 135.0| 115.0|   78|         1|    false|\n",
      "| 10|            Caterpie|   Bug|  null|  195| 45|    30|     35|   0.0|   0.0|   45|         1|    false|\n",
      "| 11|             Metapod|   Bug|  null|  205| 50|    20|     55|   0.0|   0.0|   30|         1|    false|\n",
      "| 12|          Butterfree|   Bug|Flying|  395| 60|    45|     50|  90.0|  80.0|   70|         1|    false|\n",
      "| 13|              Weedle|   Bug|Poison|  195| 40|    35|     30|   0.0|   0.0|   50|         1|    false|\n",
      "| 14|              Kakuna|   Bug|Poison|  205| 45|    25|     50|   0.0|   0.0|   35|         1|    false|\n",
      "| 15|            Beedrill|   Bug|Poison|  395| 65|    90|     40|  45.0|  80.0|   75|         1|    false|\n",
      "| 15|BeedrillMega Beed...|   Bug|Poison|  495| 65|   150|     40|   0.0|  80.0|  145|         1|    false|\n",
      "+---+--------------------+------+------+-----+---+------+-------+------+------+-----+----------+---------+\n",
      "only showing top 20 rows\n",
      "\n"
     ]
    }
   ],
   "source": [
    "# Completa lo nulos con 0, en aquellas columnas donde el tipo de dato sea acorde. En este caso int\n",
    "# La columna Type_2 no ha sido modificada, ya que los valores de esta columna son strings\n",
    "df_null.na.fill(0).show()"
   ]
  },
  {
   "cell_type": "code",
   "execution_count": 41,
   "id": "39cb76ef",
   "metadata": {},
   "outputs": [
    {
     "name": "stdout",
     "output_type": "stream",
     "text": [
      "+---+--------------------+------+-------------+-----+---+------+-------+------+------+-----+----------+---------+\n",
      "|  #|                Name|Type_1|       Type_2|Total| HP|Attack|Defense|Sp_Atk|Sp_Def|Speed|Generation|Legendary|\n",
      "+---+--------------------+------+-------------+-----+---+------+-------+------+------+-----+----------+---------+\n",
      "|  1|           Bulbasaur| Grass|       Poison|  318| 45|    49|     49|  65.0|  65.0|   45|         1|    false|\n",
      "|  2|             Ivysaur| Grass|       Poison|  405| 60|    62|     63|  80.0|  80.0|   60|         1|    false|\n",
      "|  3|            Venusaur| Grass|       Poison|  525| 80|    82|     83| 100.0| 100.0|   80|         1|    false|\n",
      "|  3|VenusaurMega Venu...| Grass|       Poison|  625| 80|   100|    123| 122.0| 120.0|   80|         1|    false|\n",
      "|  4|          Charmander|  Fire|Missing_Value|  309| 39|    52|     43|  60.0|  50.0|   65|         1|    false|\n",
      "|  5|          Charmeleon|  Fire|Missing_Value|  405| 58|    64|     58|  80.0|  65.0|   80|         1|    false|\n",
      "|  6|           Charizard|  Fire|       Flying|  534| 78|    84|     78| 109.0|  85.0|  100|         1|    false|\n",
      "|  6|CharizardMega Cha...|  Fire|       Dragon|  634| 78|   130|    111| 130.0|  85.0|  100|         1|    false|\n",
      "|  6|CharizardMega Cha...|  Fire|       Flying|  634| 78|   104|     78| 159.0| 115.0|  100|         1|    false|\n",
      "|  7|            Squirtle| Water|Missing_Value|  314| 44|    48|     65|  50.0|  64.0|   43|         1|    false|\n",
      "|  8|           Wartortle| Water|Missing_Value|  405| 59|    63|     80|  65.0|  80.0|   58|         1|    false|\n",
      "|  9|           Blastoise| Water|Missing_Value|  530| 79|    83|    100|  85.0| 105.0|   78|         1|    false|\n",
      "|  9|BlastoiseMega Bla...| Water|Missing_Value|  630| 79|   103|    120| 135.0| 115.0|   78|         1|    false|\n",
      "| 10|            Caterpie|   Bug|Missing_Value|  195| 45|    30|     35|  null|  null|   45|         1|    false|\n",
      "| 11|             Metapod|   Bug|Missing_Value|  205| 50|    20|     55|  null|  null|   30|         1|    false|\n",
      "| 12|          Butterfree|   Bug|       Flying|  395| 60|    45|     50|  90.0|  80.0|   70|         1|    false|\n",
      "| 13|              Weedle|   Bug|       Poison|  195| 40|    35|     30|  null|  null|   50|         1|    false|\n",
      "| 14|              Kakuna|   Bug|       Poison|  205| 45|    25|     50|  null|  null|   35|         1|    false|\n",
      "| 15|            Beedrill|   Bug|       Poison|  395| 65|    90|     40|  45.0|  80.0|   75|         1|    false|\n",
      "| 15|BeedrillMega Beed...|   Bug|       Poison|  495| 65|   150|     40|  null|  80.0|  145|         1|    false|\n",
      "+---+--------------------+------+-------------+-----+---+------+-------+------+------+-----+----------+---------+\n",
      "only showing top 20 rows\n",
      "\n"
     ]
    }
   ],
   "source": [
    "# En este ha rellenado nulos en la columna Type_2\n",
    "df_null.na.fill('Missing_Value').show()"
   ]
  },
  {
   "cell_type": "markdown",
   "id": "e0002fc9",
   "metadata": {},
   "source": [
    "#### Rellenado con Imputer"
   ]
  },
  {
   "cell_type": "markdown",
   "id": "c3ca9aea",
   "metadata": {},
   "source": [
    "Imputer es una clase de PySpark, que nos permite rellenar nulos de distintas maneras. A través de un objeto Imputer podemos especificar el comportamiento de cada columno para rellenar los valores nulos de las mismas"
   ]
  },
  {
   "cell_type": "code",
   "execution_count": 42,
   "id": "42c1ef51",
   "metadata": {},
   "outputs": [],
   "source": [
    "from pyspark.ml.feature import Imputer\n",
    "\n",
    "imputer = Imputer(inputCols=['Sp_Atk','Sp_Def'],    # Establecemos las columnas que tomaremos como entrada\n",
    "                 outputCols=[f\"{c}_imputed\" for c in ['Sp_Atk','Sp_Def']]    # Nombre de las columnas resultantes\n",
    "                 ).setStrategy('mean')     # setStrategy, permite definir como se transforman las columnas. En este caso con el valor de la media"
   ]
  },
  {
   "cell_type": "markdown",
   "id": "7ac377d0",
   "metadata": {},
   "source": [
    "Usamos la instancia Imputer que hemos creado para completar los valores nulos"
   ]
  },
  {
   "cell_type": "markdown",
   "id": "a58b83f3",
   "metadata": {},
   "source": [
    "A través del método fit() y transform(), podemos crear un dataframe con los valores nulos rellenados"
   ]
  },
  {
   "cell_type": "code",
   "execution_count": 43,
   "id": "736331e9",
   "metadata": {},
   "outputs": [
    {
     "name": "stdout",
     "output_type": "stream",
     "text": [
      "+---+--------------------+------+------+-----+---+------+-------+------+------+-----+----------+---------+-----------------+-----------------+\n",
      "|  #|                Name|Type_1|Type_2|Total| HP|Attack|Defense|Sp_Atk|Sp_Def|Speed|Generation|Legendary|   Sp_Atk_imputed|   Sp_Def_imputed|\n",
      "+---+--------------------+------+------+-----+---+------+-------+------+------+-----+----------+---------+-----------------+-----------------+\n",
      "|  1|           Bulbasaur| Grass|Poison|  318| 45|    49|     49|  65.0|  65.0|   45|         1|    false|             65.0|             65.0|\n",
      "|  2|             Ivysaur| Grass|Poison|  405| 60|    62|     63|  80.0|  80.0|   60|         1|    false|             80.0|             80.0|\n",
      "|  3|            Venusaur| Grass|Poison|  525| 80|    82|     83| 100.0| 100.0|   80|         1|    false|            100.0|            100.0|\n",
      "|  3|VenusaurMega Venu...| Grass|Poison|  625| 80|   100|    123| 122.0| 120.0|   80|         1|    false|            122.0|            120.0|\n",
      "|  4|          Charmander|  Fire|  null|  309| 39|    52|     43|  60.0|  50.0|   65|         1|    false|             60.0|             50.0|\n",
      "|  5|          Charmeleon|  Fire|  null|  405| 58|    64|     58|  80.0|  65.0|   80|         1|    false|             80.0|             65.0|\n",
      "|  6|           Charizard|  Fire|Flying|  534| 78|    84|     78| 109.0|  85.0|  100|         1|    false|            109.0|             85.0|\n",
      "|  6|CharizardMega Cha...|  Fire|Dragon|  634| 78|   130|    111| 130.0|  85.0|  100|         1|    false|            130.0|             85.0|\n",
      "|  6|CharizardMega Cha...|  Fire|Flying|  634| 78|   104|     78| 159.0| 115.0|  100|         1|    false|            159.0|            115.0|\n",
      "|  7|            Squirtle| Water|  null|  314| 44|    48|     65|  50.0|  64.0|   43|         1|    false|             50.0|             64.0|\n",
      "|  8|           Wartortle| Water|  null|  405| 59|    63|     80|  65.0|  80.0|   58|         1|    false|             65.0|             80.0|\n",
      "|  9|           Blastoise| Water|  null|  530| 79|    83|    100|  85.0| 105.0|   78|         1|    false|             85.0|            105.0|\n",
      "|  9|BlastoiseMega Bla...| Water|  null|  630| 79|   103|    120| 135.0| 115.0|   78|         1|    false|            135.0|            115.0|\n",
      "| 10|            Caterpie|   Bug|  null|  195| 45|    30|     35|  null|  null|   45|         1|    false|78.76988636363636|74.37203166226912|\n",
      "| 11|             Metapod|   Bug|  null|  205| 50|    20|     55|  null|  null|   30|         1|    false|78.76988636363636|74.37203166226912|\n",
      "| 12|          Butterfree|   Bug|Flying|  395| 60|    45|     50|  90.0|  80.0|   70|         1|    false|             90.0|             80.0|\n",
      "| 13|              Weedle|   Bug|Poison|  195| 40|    35|     30|  null|  null|   50|         1|    false|78.76988636363636|74.37203166226912|\n",
      "| 14|              Kakuna|   Bug|Poison|  205| 45|    25|     50|  null|  null|   35|         1|    false|78.76988636363636|74.37203166226912|\n",
      "| 15|            Beedrill|   Bug|Poison|  395| 65|    90|     40|  45.0|  80.0|   75|         1|    false|             45.0|             80.0|\n",
      "| 15|BeedrillMega Beed...|   Bug|Poison|  495| 65|   150|     40|  null|  80.0|  145|         1|    false|78.76988636363636|             80.0|\n",
      "+---+--------------------+------+------+-----+---+------+-------+------+------+-----+----------+---------+-----------------+-----------------+\n",
      "only showing top 20 rows\n",
      "\n"
     ]
    }
   ],
   "source": [
    "imputer.fit(df_null).transform(df_null).show()"
   ]
  },
  {
   "cell_type": "code",
   "execution_count": 44,
   "id": "182906d7",
   "metadata": {},
   "outputs": [],
   "source": [
    "imputer_median = Imputer(inputCols=['Sp_Atk', 'Sp_Def'],\n",
    "                         outputCols=[f\"{c}_imputed\" for c in ['Sp_Atk', 'Sp_Def']]\n",
    "                         ).setStrategy('median')     # setStrategy, lo definimos ahora con la mediana"
   ]
  },
  {
   "cell_type": "code",
   "execution_count": 45,
   "id": "ca6d9989",
   "metadata": {},
   "outputs": [
    {
     "name": "stdout",
     "output_type": "stream",
     "text": [
      "+---+--------------------+------+------+-----+---+------+-------+------+------+-----+----------+---------+--------------+--------------+\n",
      "|  #|                Name|Type_1|Type_2|Total| HP|Attack|Defense|Sp_Atk|Sp_Def|Speed|Generation|Legendary|Sp_Atk_imputed|Sp_Def_imputed|\n",
      "+---+--------------------+------+------+-----+---+------+-------+------+------+-----+----------+---------+--------------+--------------+\n",
      "|  1|           Bulbasaur| Grass|Poison|  318| 45|    49|     49|  65.0|  65.0|   45|         1|    false|          65.0|          65.0|\n",
      "|  2|             Ivysaur| Grass|Poison|  405| 60|    62|     63|  80.0|  80.0|   60|         1|    false|          80.0|          80.0|\n",
      "|  3|            Venusaur| Grass|Poison|  525| 80|    82|     83| 100.0| 100.0|   80|         1|    false|         100.0|         100.0|\n",
      "|  3|VenusaurMega Venu...| Grass|Poison|  625| 80|   100|    123| 122.0| 120.0|   80|         1|    false|         122.0|         120.0|\n",
      "|  4|          Charmander|  Fire|  null|  309| 39|    52|     43|  60.0|  50.0|   65|         1|    false|          60.0|          50.0|\n",
      "|  5|          Charmeleon|  Fire|  null|  405| 58|    64|     58|  80.0|  65.0|   80|         1|    false|          80.0|          65.0|\n",
      "|  6|           Charizard|  Fire|Flying|  534| 78|    84|     78| 109.0|  85.0|  100|         1|    false|         109.0|          85.0|\n",
      "|  6|CharizardMega Cha...|  Fire|Dragon|  634| 78|   130|    111| 130.0|  85.0|  100|         1|    false|         130.0|          85.0|\n",
      "|  6|CharizardMega Cha...|  Fire|Flying|  634| 78|   104|     78| 159.0| 115.0|  100|         1|    false|         159.0|         115.0|\n",
      "|  7|            Squirtle| Water|  null|  314| 44|    48|     65|  50.0|  64.0|   43|         1|    false|          50.0|          64.0|\n",
      "|  8|           Wartortle| Water|  null|  405| 59|    63|     80|  65.0|  80.0|   58|         1|    false|          65.0|          80.0|\n",
      "|  9|           Blastoise| Water|  null|  530| 79|    83|    100|  85.0| 105.0|   78|         1|    false|          85.0|         105.0|\n",
      "|  9|BlastoiseMega Bla...| Water|  null|  630| 79|   103|    120| 135.0| 115.0|   78|         1|    false|         135.0|         115.0|\n",
      "| 10|            Caterpie|   Bug|  null|  195| 45|    30|     35|  null|  null|   45|         1|    false|          70.0|          70.0|\n",
      "| 11|             Metapod|   Bug|  null|  205| 50|    20|     55|  null|  null|   30|         1|    false|          70.0|          70.0|\n",
      "| 12|          Butterfree|   Bug|Flying|  395| 60|    45|     50|  90.0|  80.0|   70|         1|    false|          90.0|          80.0|\n",
      "| 13|              Weedle|   Bug|Poison|  195| 40|    35|     30|  null|  null|   50|         1|    false|          70.0|          70.0|\n",
      "| 14|              Kakuna|   Bug|Poison|  205| 45|    25|     50|  null|  null|   35|         1|    false|          70.0|          70.0|\n",
      "| 15|            Beedrill|   Bug|Poison|  395| 65|    90|     40|  45.0|  80.0|   75|         1|    false|          45.0|          80.0|\n",
      "| 15|BeedrillMega Beed...|   Bug|Poison|  495| 65|   150|     40|  null|  80.0|  145|         1|    false|          70.0|          80.0|\n",
      "+---+--------------------+------+------+-----+---+------+-------+------+------+-----+----------+---------+--------------+--------------+\n",
      "only showing top 20 rows\n",
      "\n"
     ]
    }
   ],
   "source": [
    "imputer_median.fit(df_null).transform(df_null).show()"
   ]
  },
  {
   "cell_type": "markdown",
   "id": "9f65c4c7",
   "metadata": {},
   "source": [
    "# 4. **Operaciones de filtrado** "
   ]
  },
  {
   "cell_type": "code",
   "execution_count": null,
   "id": "2aac6632",
   "metadata": {},
   "outputs": [],
   "source": []
  }
 ],
 "metadata": {
  "kernelspec": {
   "display_name": "Python 3 (ipykernel)",
   "language": "python",
   "name": "python3"
  },
  "language_info": {
   "codemirror_mode": {
    "name": "ipython",
    "version": 3
   },
   "file_extension": ".py",
   "mimetype": "text/x-python",
   "name": "python",
   "nbconvert_exporter": "python",
   "pygments_lexer": "ipython3",
   "version": "3.9.17"
  },
  "varInspector": {
   "cols": {
    "lenName": 16,
    "lenType": 16,
    "lenVar": 40
   },
   "kernels_config": {
    "python": {
     "delete_cmd_postfix": "",
     "delete_cmd_prefix": "del ",
     "library": "var_list.py",
     "varRefreshCmd": "print(var_dic_list())"
    },
    "r": {
     "delete_cmd_postfix": ") ",
     "delete_cmd_prefix": "rm(",
     "library": "var_list.r",
     "varRefreshCmd": "cat(var_dic_list()) "
    }
   },
   "types_to_exclude": [
    "module",
    "function",
    "builtin_function_or_method",
    "instance",
    "_Feature"
   ],
   "window_display": false
  }
 },
 "nbformat": 4,
 "nbformat_minor": 5
}
